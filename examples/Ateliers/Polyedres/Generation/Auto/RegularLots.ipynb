{
 "cells": [
  {
   "cell_type": "markdown",
   "metadata": {
    "toc": "true"
   },
   "source": [
    "<h1>Table of Contents<span class=\"tocSkip\"></span></h1>\n",
    "<div class=\"toc\"><ul class=\"toc-item\"><li><span><a href=\"#Generation-of-regular-polyhedrons\" data-toc-modified-id=\"Generation-of-regular-polyhedrons-1\"><span class=\"toc-item-num\">1&nbsp;&nbsp;</span>Generation of regular polyhedrons</a></span></li></ul></div>"
   ]
  },
  {
   "cell_type": "markdown",
   "metadata": {},
   "source": [
    "# Generation of regular polyhedrons"
   ]
  },
  {
   "cell_type": "markdown",
   "metadata": {},
   "source": [
    "The aim of this notebook is to generate a large list or regular polyhedra.\n",
    "\n",
    "The first half of the polyhedra must have their vertices on a sphere of radius 1.,\n",
    "the second half must have their vertices on a sphere of radius 1.5 .\n",
    "\n",
    "The geometric center of each polyhedron must be on a cubic lattice.\n"
   ]
  },
  {
   "cell_type": "markdown",
   "metadata": {},
   "source": [
    "LMGC90's preprocessor classic parts (model, material and containers)"
   ]
  },
  {
   "cell_type": "code",
   "execution_count": null,
   "metadata": {
    "ExecuteTime": {
     "end_time": "2021-02-22T17:02:07.918138Z",
     "start_time": "2021-02-22T17:02:07.667539Z"
    }
   },
   "outputs": [],
   "source": [
    "from pylmgc90 import pre\n",
    "\n",
    "dim = 3\n",
    "\n",
    "bodies = pre.avatars()\n",
    "maters = pre.materials()\n",
    "\n",
    "mod = pre.model(name='rigid', physics='MECAx', element='Rxx3D', dimension=dim)\n",
    "\n",
    "mater = pre.material(name='PLExx', materialType='RIGID', density=100.)\n",
    "maters+=mater"
   ]
  },
  {
   "cell_type": "markdown",
   "metadata": {},
   "source": [
    "Some parameters of the script:\n",
    "\n",
    "* mininum number of vertices\n",
    "* maximum number of vertices\n",
    "* the two radii to use\n",
    "\n",
    "Which will allow to compute the number of polyhedra to generate as well as the size of the box:"
   ]
  },
  {
   "cell_type": "code",
   "execution_count": null,
   "metadata": {
    "ExecuteTime": {
     "end_time": "2021-02-22T17:02:09.119465Z",
     "start_time": "2021-02-22T17:02:09.114024Z"
    }
   },
   "outputs": [],
   "source": [
    "import math\n",
    "\n",
    "min_vert = 4\n",
    "max_vert = 200\n",
    "\n",
    "rmin = 1.\n",
    "rmax = 1.5\n",
    "\n",
    "nb_poly = max_vert - min_vert + 1 # relies on the face that max_vert > min_vert\n",
    "nb_box_ele = int( math.ceil( nb_poly**(1./3.) ) )"
   ]
  },
  {
   "cell_type": "markdown",
   "metadata": {},
   "source": [
    "Generation of square lattice of square shape:"
   ]
  },
  {
   "cell_type": "code",
   "execution_count": null,
   "metadata": {
    "ExecuteTime": {
     "end_time": "2021-02-22T17:02:19.500865Z",
     "start_time": "2021-02-22T17:02:19.495884Z"
    }
   },
   "outputs": [],
   "source": [
    "coors = pre.cubicLattice3D( nb_box_ele, nb_box_ele, nb_box_ele, 2.*max(rmin,rmax) )\n",
    "coors.shape = [coors.size//3,3]"
   ]
  },
  {
   "cell_type": "markdown",
   "metadata": {},
   "source": [
    "First half of particles generation:"
   ]
  },
  {
   "cell_type": "code",
   "execution_count": null,
   "metadata": {
    "ExecuteTime": {
     "end_time": "2021-02-22T17:02:32.357767Z",
     "start_time": "2021-02-22T17:02:31.667337Z"
    }
   },
   "outputs": [],
   "source": [
    "for i in range(nb_poly//2):\n",
    "    new_body = pre.rigidPolyhedron(mod, mater, nb_vertices=min_vert+i, radius=rmin)\n",
    "    new_body.translate( dx=coors[i,0], dy=coors[i,1], dz=coors[i,2] )\n",
    "    bodies += new_body"
   ]
  },
  {
   "cell_type": "markdown",
   "metadata": {},
   "source": [
    "Second half of particles generation, but instead of translating the particle after generating it, let's just place the center of the polyhedron at generation:"
   ]
  },
  {
   "cell_type": "code",
   "execution_count": null,
   "metadata": {
    "ExecuteTime": {
     "end_time": "2021-02-22T17:02:48.003848Z",
     "start_time": "2021-02-22T17:02:46.022964Z"
    }
   },
   "outputs": [],
   "source": [
    "for i in range(nb_poly//2,nb_poly):\n",
    "    new_body = pre.rigidPolyhedron(mod, mater, nb_vertices=min_vert+i, radius=rmax, center=coors[i,:])\n",
    "    bodies += new_body"
   ]
  },
  {
   "cell_type": "markdown",
   "metadata": {},
   "source": [
    "Visualisation:"
   ]
  },
  {
   "cell_type": "code",
   "execution_count": null,
   "metadata": {
    "ExecuteTime": {
     "end_time": "2021-02-22T17:02:58.398176Z",
     "start_time": "2021-02-22T17:02:48.923155Z"
    }
   },
   "outputs": [],
   "source": [
    "pre.visuAvatars(bodies)"
   ]
  },
  {
   "cell_type": "markdown",
   "metadata": {
    "collapsed": true
   },
   "source": [
    "LMGC90 reading and Paraview file generation:"
   ]
  },
  {
   "cell_type": "code",
   "execution_count": null,
   "metadata": {
    "ExecuteTime": {
     "end_time": "2021-02-22T17:03:03.213054Z",
     "start_time": "2021-02-22T17:03:03.097139Z"
    }
   },
   "outputs": [],
   "source": [
    "import os\n",
    "\n",
    "if not os.path.isdir('DATBOX'):\n",
    "    os.mkdir('DATBOX')\n",
    "\n",
    "pre.writeBodies(bodies, chemin='DATBOX/')\n",
    "pre.writeDrvDof(bodies, chemin='DATBOX/')\n",
    "pre.writeDofIni(bodies, chemin='DATBOX/')\n",
    "pre.writeBulkBehav(maters, chemin='DATBOX/', dim=dim)\n"
   ]
  },
  {
   "cell_type": "code",
   "execution_count": null,
   "metadata": {
    "ExecuteTime": {
     "end_time": "2021-02-22T17:03:07.199198Z",
     "start_time": "2021-02-22T17:03:06.145832Z"
    }
   },
   "outputs": [],
   "source": [
    "from pylmgc90 import chipy\n",
    "\n",
    "chipy.checkDirectories()\n",
    "chipy.Initialize()\n",
    "\n",
    "chipy.SetDimension(3)\n",
    "\n",
    "chipy.ReadBehaviours()\n",
    "chipy.ReadBodies()\n",
    "chipy.LoadBehaviours()\n",
    "chipy.ReadIniDof()\n",
    "chipy.ReadDrivenDof()\n",
    "chipy.LoadTactors()\n",
    "\n",
    "chipy.OpenDisplayFiles()\n",
    "chipy.WriteDisplayFiles()\n",
    "chipy.CloseDisplayFiles()\n",
    "\n",
    "chipy.Finalize()"
   ]
  }
 ],
 "metadata": {
  "kernelspec": {
   "display_name": "Python 3",
   "language": "python",
   "name": "python3"
  },
  "language_info": {
   "codemirror_mode": {
    "name": "ipython",
    "version": 3
   },
   "file_extension": ".py",
   "mimetype": "text/x-python",
   "name": "python",
   "nbconvert_exporter": "python",
   "pygments_lexer": "ipython3",
   "version": "3.8.5"
  },
  "latex_envs": {
   "LaTeX_envs_menu_present": true,
   "autoclose": false,
   "autocomplete": true,
   "bibliofile": "biblio.bib",
   "cite_by": "apalike",
   "current_citInitial": 1,
   "eqLabelWithNumbers": true,
   "eqNumInitial": 0,
   "hotkeys": {
    "equation": "Ctrl-E",
    "itemize": "Ctrl-I"
   },
   "labels_anchors": false,
   "latex_user_defs": false,
   "report_style_numbering": false,
   "user_envs_cfg": false
  },
  "toc": {
   "base_numbering": 1,
   "nav_menu": {},
   "number_sections": true,
   "sideBar": true,
   "skip_h1_title": false,
   "title_cell": "Table of Contents",
   "title_sidebar": "Contents",
   "toc_cell": true,
   "toc_position": {},
   "toc_section_display": true,
   "toc_window_display": false
  },
  "varInspector": {
   "cols": {
    "lenName": 16,
    "lenType": 16,
    "lenVar": 40
   },
   "kernels_config": {
    "python": {
     "delete_cmd_postfix": "",
     "delete_cmd_prefix": "del ",
     "library": "var_list.py",
     "varRefreshCmd": "print(var_dic_list())"
    },
    "r": {
     "delete_cmd_postfix": ") ",
     "delete_cmd_prefix": "rm(",
     "library": "var_list.r",
     "varRefreshCmd": "cat(var_dic_list()) "
    }
   },
   "types_to_exclude": [
    "module",
    "function",
    "builtin_function_or_method",
    "instance",
    "_Feature"
   ],
   "window_display": false
  }
 },
 "nbformat": 4,
 "nbformat_minor": 1
}
