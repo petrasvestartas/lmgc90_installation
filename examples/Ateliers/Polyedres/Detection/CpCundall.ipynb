{
 "cells": [
  {
   "cell_type": "markdown",
   "metadata": {
    "toc": "true"
   },
   "source": [
    "# Table of Contents\n",
    " <p>"
   ]
  },
  {
   "cell_type": "markdown",
   "metadata": {},
   "source": [
    "Here we will try to give some enlighthenment on the influence of the parameters\n",
    "given to Cundall detection method.\n",
    "\n",
    "There are 3 directories in which different computation will take place.\n"
   ]
  },
  {
   "cell_type": "code",
   "execution_count": null,
   "metadata": {
    "collapsed": true
   },
   "outputs": [],
   "source": [
    "\n",
    "from pylmgc90 import chipy\n",
    "\n",
    "### computation's parameters definition ### \n",
    "\n",
    "dt = 0.002\n",
    "nb_steps = 3000\n",
    "theta = 0.5\n",
    "\n",
    "freq_display = 10\n",
    "\n",
    "xperiode = 25.0\n",
    "yperiode = 25.0\n"
   ]
  },
  {
   "cell_type": "code",
   "execution_count": null,
   "metadata": {
    "collapsed": false
   },
   "outputs": [],
   "source": [
    "workDir = 'CpCundall1'\n",
    "\n",
    "cundall_it = 300\n",
    "#cundall_it = 40\n",
    "\n",
    "low_sap = 70\n",
    "\n",
    "chipy.overall_SetWorkingDirectory(workDir)\n",
    "chipy.PRPRx_UseCpCundallDetection(cundall_it)\n",
    "chipy.PRPRx_LowSizeArrayPolyr(low_sap)\n",
    "\n",
    "chipy.checkDirectories()"
   ]
  },
  {
   "cell_type": "code",
   "execution_count": null,
   "metadata": {
    "collapsed": false
   },
   "outputs": [],
   "source": [
    "\n",
    "freq_detect = 1\n",
    "tol    = 0.1666e-3\n",
    "relax  = 1.0\n",
    "stype  = 'Stored_Delassus_Loops         '\n",
    "quad   = 'Maxm '\n",
    "gs_it1 = 10\n",
    "gs_it2 = 100\n",
    "\n",
    "#nlgs_3D_SetWithQuickScramble()\n",
    "chipy.Initialize()\n",
    "chipy.SetDimension(3)\n",
    "\n",
    "chipy.utilities_logMes('INIT TIME STEPPING')\n",
    "chipy.TimeEvolution_SetTimeStep(dt)\n",
    "chipy.Integrator_InitTheta(theta)\n",
    "\n",
    "chipy.RBDY3_NewRotationScheme()\n",
    "\n",
    "### model reading ###\n",
    "chipy.utilities_logMes('READ BODIES')\n",
    "chipy.ReadBodies()\n",
    "\n",
    "chipy.utilities_logMes('READ BEHAVIOURS')\n",
    "chipy.ReadBehaviours()\n",
    "\n",
    "#LOADS\n",
    "chipy.LoadBehaviours()\n",
    "\n",
    "chipy.utilities_logMes('READ INI DOF')\n",
    "chipy.ReadIniDof()\n",
    "\n",
    "chipy.LoadTactors()\n",
    "\n",
    "chipy.utilities_logMes('READ INI Vloc Rloc')\n",
    "chipy.ReadIniVlocRloc()\n",
    "\n",
    "chipy.utilities_logMes('READ DRIVEN DOF')\n",
    "chipy.ReadDrivenDof()\n",
    "\n",
    "chipy.utilities_logMes('WRITE BODIES')\n",
    "chipy.WriteBodies()\n",
    "chipy.utilities_logMes('WRITE BEHAVIOURS')\n",
    "chipy.WriteBehaviours()\n",
    "chipy.utilities_logMes('WRITE DRIVEN DOF')\n",
    "chipy.WriteDrivenDof()\n",
    "\n",
    "### set periodic conditions ###\n",
    "if workDir != 'CpCundallCluster':\n",
    "    chipy.SetPeriodicCondition(xperiode,yperiode)\n",
    "\n",
    "chipy.OpenDisplayFiles()\n",
    "chipy.OpenPostproFiles()\n",
    "\n",
    "### compute masses ###\n",
    "chipy.ComputeMass()\n",
    "if workDir == 'CpCundallCluster':\n",
    "    RBDY3_PutBodyVector('Xbeg_', 3, [0., 0., 0.3, 0., 0., 0.])\n",
    "\n",
    "for k in range(nb_steps):\n",
    "    #\n",
    "    chipy.IncrementStep()\n",
    "    #\n",
    "    #\n",
    "    chipy.ComputeFext()\n",
    "    chipy.ComputeBulk()\n",
    "    chipy.ComputeFreeVelocity()\n",
    "    #\n",
    "    chipy.SelectProxTactors(freq_detect)\n",
    "\n",
    "    chipy.RecupRloc()\n",
    "    chipy.ExSolver(stype, quad, tol, relax, gs_it1, gs_it2)\n",
    "    chipy.StockRloc()\n",
    "    #\n",
    "    chipy.ComputeDof()\n",
    "    chipy.UpdateStep()\n",
    "\n",
    "    chipy.WriteLastDof()\n",
    "    chipy.WriteLastVlocRloc()\n",
    "\n",
    "    chipy.WriteDisplayFiles(freq_display)\n",
    "    chipy.WritePostproFiles()\n",
    "\n",
    "    chipy.overall_CleanWriteOutFlags()\n",
    "\n",
    "chipy.WriteLastDof()\n",
    "chipy.WriteLastVlocRloc()\n",
    "\n",
    "chipy.CloseDisplayFiles()\n",
    "chipy.ClosePostproFiles()\n",
    "\n",
    "chipy.Finalize()\n"
   ]
  },
  {
   "cell_type": "code",
   "execution_count": null,
   "metadata": {
    "collapsed": true
   },
   "outputs": [],
   "source": []
  }
 ],
 "metadata": {
  "kernelspec": {
   "display_name": "Python 2",
   "language": "python",
   "name": "python2"
  },
  "language_info": {
   "codemirror_mode": {
    "name": "ipython",
    "version": 2
   },
   "file_extension": ".py",
   "mimetype": "text/x-python",
   "name": "python",
   "nbconvert_exporter": "python",
   "pygments_lexer": "ipython2",
   "version": "2.7.12"
  },
  "latex_envs": {
   "bibliofile": "biblio.bib",
   "cite_by": "apalike",
   "current_citInitial": 1,
   "eqLabelWithNumbers": true,
   "eqNumInitial": 0
  },
  "toc": {
   "toc_cell": true,
   "toc_number_sections": true,
   "toc_threshold": "3",
   "toc_window_display": false
  }
 },
 "nbformat": 4,
 "nbformat_minor": 1
}
