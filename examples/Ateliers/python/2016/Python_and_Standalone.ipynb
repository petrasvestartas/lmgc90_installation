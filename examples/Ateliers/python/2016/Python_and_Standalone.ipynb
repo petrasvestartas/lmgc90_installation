{
 "cells": [
  {
   "cell_type": "markdown",
   "metadata": {
    "toc": "true"
   },
   "source": [
    "# Table of Contents\n",
    " <p><div class=\"lev1\"><a href=\"#CMake-1\"><span class=\"toc-item-num\">1&nbsp;&nbsp;</span>CMake</a></div><div class=\"lev1\"><a href=\"#Standalone-2\"><span class=\"toc-item-num\">2&nbsp;&nbsp;</span>Standalone</a></div><div class=\"lev2\"><a href=\"#Building-standalone-2.1\"><span class=\"toc-item-num\">2.1&nbsp;&nbsp;</span>Building standalone</a></div><div class=\"lev2\"><a href=\"#Using-executable-2.2\"><span class=\"toc-item-num\">2.2&nbsp;&nbsp;</span>Using executable</a></div><div class=\"lev2\"><a href=\"#Exercise:-2.3\"><span class=\"toc-item-num\">2.3&nbsp;&nbsp;</span>Exercise:</a></div><div class=\"lev2\"><a href=\"#Opening:-2.4\"><span class=\"toc-item-num\">2.4&nbsp;&nbsp;</span>Opening:</a></div><div class=\"lev1\"><a href=\"#Restart-and-Post-Mortem-3\"><span class=\"toc-item-num\">3&nbsp;&nbsp;</span>Restart and Post-Mortem</a></div><div class=\"lev2\"><a href=\"#Post-Mortem-display-file-generation-3.1\"><span class=\"toc-item-num\">3.1&nbsp;&nbsp;</span>Post-Mortem display file generation</a></div><div class=\"lev2\"><a href=\"#Restart-3.2\"><span class=\"toc-item-num\">3.2&nbsp;&nbsp;</span>Restart</a></div><div class=\"lev1\"><a href=\"#Python-4\"><span class=\"toc-item-num\">4&nbsp;&nbsp;</span>Python</a></div><div class=\"lev2\"><a href=\"#Simple-MAC_CZM-law-example-4.1\"><span class=\"toc-item-num\">4.1&nbsp;&nbsp;</span>Simple MAC_CZM law example</a></div><div class=\"lev2\"><a href=\"#Post-processing-4.2\"><span class=\"toc-item-num\">4.2&nbsp;&nbsp;</span>Post-processing</a></div><div class=\"lev2\"><a href=\"#Visualization-4.3\"><span class=\"toc-item-num\">4.3&nbsp;&nbsp;</span>Visualization</a></div>"
   ]
  },
  {
   "cell_type": "markdown",
   "metadata": {},
   "source": [
    "# CMake\n",
    "\n",
    "Reminder: CMake is the tool preparing the compilation. There a bunch a way to modify\n",
    "the compilation process. Even if you can modify the build by passing some arguments\n",
    "on the command line or directly modifyin the `CMakeCache.txt` file it is advised to\n",
    "use `ccmake` or `cmake-gui` to browse through the possible options.\n",
    "\n",
    "Here are remind the most interesting options:\n",
    "\n",
    "* OPT ([opt], profiling, debug, check): define default compilation flags to use.\n",
    "* WITH_OPENMP ([FALSE], TRUE): add compilation flags to activate multi-threading.\n",
    "* BUILD_STANDALONE ([FALSE], TRUE): add the compilation of an executable.\n",
    "* BUILD_Fortran_LIB or BUILD_C_LIB ([FALSE], TRUE): build a shared library (Fortran or C).\n",
    "* MATLIB_VERSION ([default], none, v3): select the version of MatLib to use.\n",
    "* SPARSE_LIBRARY ([mumps], none, umfpack): select the version of Sparse Linear Algebra library to use.\n",
    "* EXT_FEM_VERSION ([none], Xper, tense_dd): select an external library to use for finite element computation.\n",
    "* EXT_MBS_VERSION ([none], Robotran, FiberModel): select an external library to use for multi-body system computation.\n",
    "* WITH_SICONOS_NUMERICS ([FALSE], TRUE): activate binding with `SiconosNumerics` library.\n",
    "\n",
    "A very ugly one:\n",
    "* GFORTRAN44_PATCHING ([FALSE]): if you need this one, upgrade the Fortran compiler !\n",
    "\n",
    "A usefull one to consult:\n",
    "* LMGC90_Fortran_FLAGS (string): **DESCRIBE** the Fortran compilation flags used to build LMGC90\n",
    "\n",
    "Use of `cmake-gui`!\n",
    "\n",
    "Some of these options, when modified, may build some dependencies or look for a library.\n",
    "In this case, more information is available in section 5.3 in `docs/dev/cmake.html` file\n",
    "(to open in a web browser).\n"
   ]
  },
  {
   "cell_type": "markdown",
   "metadata": {},
   "source": [
    "# Standalone\n",
    "\n",
    "* _Pros_: \n",
    "\n",
    " * more compatibility with profiling tools and debuggers.\n",
    " * no need to install Python to run computation.\n",
    " * lighter build.\n",
    " \n",
    "* _Cons_:\n",
    "\n",
    "  * no customized post-processing (i.e. no Python)\n",
    "  * no visualization files\n",
    "\n",
    "\n"
   ]
  },
  {
   "cell_type": "markdown",
   "metadata": {},
   "source": [
    "\n",
    "## Building standalone\n",
    "\n",
    "Just activate the `BUILD_STANDALONE`. Then use the executable named `lmgc90` in the `bin` directory\n",
    "of your `build` directory. You can then use this executable instead running a Python command script.\n",
    "\n",
    "For simplicity's sake, you must now inform your shell that you need this to be accessible as a\n",
    "regular command. The easiest right now is to update the `$PATH` shell variable:\n",
    "\n",
    "```\n",
    "$> export PATH=$PATH:/.../lmgc90_dev/build/bin\n",
    "$> export PATH=$PATH:/.../lmgc90_dev/src/addons\n",
    "```\n",
    "\n",
    "Notice that a second path is given at the same time. Teaser time: it will be usefull in next section !\n"
   ]
  },
  {
   "cell_type": "markdown",
   "metadata": {},
   "source": [
    "\n",
    "## Using executable\n",
    "\n",
    "Go to the to any example directory (exclude examples using non-linear newton-loop\n",
    "and periodic example). Generate the DATBOX if needs be, then run the example:\n",
    "For example in the channel directory:\n",
    "```\n",
    "$> cd channel\n",
    "$> python gen_sample.py\n",
    "$> lmgc90\n",
    "```\n",
    "\n",
    "Then the executable will ask for some input values. You can use the following:\n",
    "```\n",
    "space dim: 2\n",
    "deformable: n\n",
    "time step: 1.e-2\n",
    "nbumber of steps: 10\n",
    "theta: 0.5\n",
    "detection frequency: 1\n",
    "```\n",
    "And leave all the following parameters to their default value\n",
    "(by hitting carriage return keystroke).\n",
    "\n",
    "You probably got an error. The usual `chipy.checkDirectories()` call is a function\n",
    "available thanks to Python. Thus you must revert to an old features available in\n",
    "the `lmgc90_dev/src/addons` directory which allows to create the output directories\n",
    "needed by LMGC90:\n",
    "```\n",
    "$> mkdir-lmgc\n",
    "```\n",
    "\n",
    "In the future giving the input parameters wihtin the terminal can become bothersome,\n",
    "so record in a text file the input data you want to give. Then instead run:\n",
    "```\n",
    "$> lmgc90 < input.dat\n",
    "```\n"
   ]
  },
  {
   "cell_type": "markdown",
   "metadata": {},
   "source": [
    "\n",
    "## Exercise:\n",
    "\n",
    "Rebuild the executable using `WITH_OPENMP` variable and re-run your computation. Check the effect of multi-threading with the `OUTBOX/TIMER.OUT` file.\n",
    "\n",
    "*DO NOT FORGET TO SET ENVIRONMENT VARIABLES FOR OPENMP*\n",
    "\n",
    "## Opening:\n",
    "\n",
    "It is possible to generate only a shared library of LMGC90.\n",
    "Then writing ones' own standalone program (for example for non-linear deformable bodies\n",
    "or to manage periodicity) and linking against the library allows to modify the\n",
    "default standalone program given.\n",
    "\n",
    "Try to generate your own executable dedicated to the channel example and taking into account\n",
    "the periodicity. You will have to copy and then modify the file in `src/Sandbox/Standalone/stand_alone.f90`."
   ]
  },
  {
   "cell_type": "markdown",
   "metadata": {},
   "source": [
    "# Restart and Post-Mortem\n",
    "\n",
    "\n",
    "## Post-Mortem display file generation\n",
    "\n",
    "As described in the *cons* section, there are no visualization files.\n",
    "Thus the writing of paraview files must be done after the computation.\n",
    "\n",
    "The following commands blocks will show how to do that.\n",
    "First change to `channel` directory:"
   ]
  },
  {
   "cell_type": "code",
   "execution_count": null,
   "metadata": {
    "collapsed": false
   },
   "outputs": [],
   "source": [
    "#first change to channel directory within the notebook\n",
    "\n",
    "from pylmgc90 import chipy\n",
    "\n",
    "chipy.overall_SetWorkingDirectory('channel')"
   ]
  },
  {
   "cell_type": "markdown",
   "metadata": {},
   "source": [
    "Now define some parameters, like the range of file to read:"
   ]
  },
  {
   "cell_type": "code",
   "execution_count": null,
   "metadata": {
    "collapsed": false
   },
   "outputs": [],
   "source": [
    "# range of file to read\n",
    "n_min=1\n",
    "n_max=10\n",
    "step = 1\n",
    "\n",
    "chipy.checkDirectories()\n",
    "\n",
    "# space dimension\n",
    "dim = 2\n",
    "mhyp = 1\n",
    "\n",
    "# fake time step\n",
    "dt = 1.\n",
    "\n",
    "freq_display = 1\n",
    "ref_radius   = 1."
   ]
  },
  {
   "cell_type": "markdown",
   "metadata": {},
   "source": [
    "Then normal reading of the DATBOX content:"
   ]
  },
  {
   "cell_type": "code",
   "execution_count": null,
   "metadata": {
    "collapsed": true
   },
   "outputs": [],
   "source": [
    "chipy.Initialize()\n",
    "chipy.SetDimension(dim,mhyp)\n",
    "\n",
    "#utilities_logMes('INIT TIME STEPPING')\n",
    "#TimeEvolution_SetTimeStep(dt)\n",
    "\n",
    "### model reading ###\n",
    "chipy.utilities_logMes('READ BEHAVIOURS')\n",
    "chipy.ReadBehaviours()\n",
    "chipy.ReadModels()\n",
    "\n",
    "chipy.utilities_logMes('READ BODIES')\n",
    "chipy.ReadBodies()\n",
    "\n",
    "chipy.utilities_logMes('LOAD BEHAVIOURS')\n",
    "chipy.LoadBehaviours()\n",
    "\n",
    "chipy.utilities_logMes('READ INI DOF')\n",
    "chipy.ReadIniDof()\n",
    "\n",
    "chipy.utilities_logMes('LOAD TACTORS')\n",
    "chipy.LoadTactors()\n",
    "\n",
    "chipy.utilities_logMes('READ INI Vloc Rloc')\n",
    "chipy.ReadIniVlocRloc()\n"
   ]
  },
  {
   "cell_type": "markdown",
   "metadata": {},
   "source": [
    "And then a loop reading the files in `OUTBOX` directory and\n",
    "generating the `DISPLAY` files:"
   ]
  },
  {
   "cell_type": "code",
   "execution_count": null,
   "metadata": {
    "collapsed": true
   },
   "outputs": [],
   "source": [
    "chipy.OpenDisplayFiles()\n",
    "\n",
    "for k in xrange(n_min,n_max+1,step):\n",
    "    #\n",
    "    chipy.utilities_logMes('READ INI DOF')\n",
    "    chipy.ReadIniDof(k)\n",
    "\n",
    "    chipy.utilities_logMes('READ INI Vloc Rloc')\n",
    "    chipy.ReadIniVlocRloc(k)\n",
    "\n",
    "    chipy.WriteDisplayFiles(freq=freq_display,ref_radius=ref_radius)\n",
    "\n",
    "chipy.CloseDisplayFiles()\n",
    "chipy.Finalize()"
   ]
  },
  {
   "cell_type": "markdown",
   "metadata": {},
   "source": [
    "Now check the results in Paraview."
   ]
  },
  {
   "cell_type": "markdown",
   "metadata": {},
   "source": [
    "## Restart\n",
    "\n",
    "Please notice that the functions used to read the `.OUT` files in `OUTBOX` directory\n",
    "are the same than the ones used to read `.INI` files in `DATBOX` directory.\n",
    "\n",
    "Thus to restart a simulation from somewhere in the time ones has only to given the\n",
    "file number to read as an input to the reading functions.\n",
    "\n",
    "For example, continuing the next five time step would be done like this:"
   ]
  },
  {
   "cell_type": "code",
   "execution_count": null,
   "metadata": {
    "collapsed": true
   },
   "outputs": [],
   "source": [
    "# defining restart values\n",
    "file_number_to_read = 10\n",
    "display_next_number = 11"
   ]
  },
  {
   "cell_type": "code",
   "execution_count": null,
   "metadata": {
    "collapsed": true
   },
   "outputs": [],
   "source": [
    "# other computation values\n",
    "dim = 2\n",
    "mhyp = 1\n",
    "\n",
    "dt = 1e-2\n",
    "nb_steps = 5\n",
    "theta = 0.5\n",
    "\n",
    "freq_detect = 1\n",
    "\n",
    "tol = 1e-4\n",
    "relax = 1.0\n",
    "norm = 'Quad '\n",
    "gs_it1 = 50\n",
    "gs_it2 = 1000\n",
    "solver_type='Stored_Delassus_Loops         '\n",
    "\n",
    "freq_write   = 1\n",
    "freq_display = 1\n",
    "ref_radius = 1.\n"
   ]
  },
  {
   "cell_type": "code",
   "execution_count": null,
   "metadata": {
    "collapsed": false
   },
   "outputs": [],
   "source": [
    "# Classical initialization\n",
    "chipy.Initialize()\n",
    "\n",
    "chipy.checkDirectories()\n",
    "#chipy.utilities_DisableLogMes()\n",
    "\n",
    "chipy.SetDimension(dim,mhyp)\n",
    "chipy.TimeEvolution_SetTimeStep(dt)\n",
    "chipy.Integrator_InitTheta(theta)\n",
    "chipy.ReadBehaviours()\n",
    "chipy.ReadBodies()\n",
    "chipy.LoadBehaviours()\n",
    "\n",
    "chipy.ReadDrivenDof()\n",
    "chipy.LoadTactors()\n",
    "\n",
    "# There specifying which file to read:\n",
    "chipy.ReadIniDof(file_number_to_read)\n",
    "chipy.ReadIniVlocRloc(file_number_to_read)\n",
    "\n",
    "# Here specifying which file to write:\n",
    "chipy.OpenDisplayFiles(display_next_number)\n",
    "chipy.OpenPostproFiles()\n",
    "\n",
    "chipy.ComputeMass()\n",
    "\n",
    "for k in xrange(0,nb_steps):\n",
    "    chipy.IncrementStep()\n",
    "    chipy.ComputeFext()\n",
    "    chipy.ComputeBulk()\n",
    "    chipy.ComputeFreeVelocity()\n",
    "  \n",
    "    chipy.SelectProxTactors(freq_detect)\n",
    "    chipy.RecupRloc(0.)\n",
    "    chipy.ExSolver(solver_type, norm, tol, relax, gs_it1, gs_it2)\n",
    "    chipy.UpdateTactBehav()\n",
    "    chipy.StockRloc()\n",
    "  \n",
    "    chipy.ComputeDof()\n",
    "    chipy.UpdateStep()\n",
    "  \n",
    "    chipy.WriteOutDof(freq_write)\n",
    "    chipy.WriteOutVlocRloc(freq_write)\n",
    "    chipy.WriteDisplayFiles(freq_display,ref_radius)\n",
    "    chipy.WritePostproFiles()\n",
    "\n",
    "chipy.CloseDisplayFiles()\n",
    "chipy.ClosePostproFiles()\n",
    "chipy.Finalize()"
   ]
  },
  {
   "cell_type": "markdown",
   "metadata": {},
   "source": [
    "# Python\n",
    "\n",
    "Nevertheless, Python is still very conveninent to post-process the computation.\n",
    "The aim of this section is to illustrate how to use Python to extract relevant\n",
    "data from the LMGC90 database to generate some specific visualization.\n",
    "\n",
    "## Simple MAC_CZM law example\n",
    "\n",
    "Generate an input file with the following content:\n",
    "```\n",
    "3\n",
    "y\n",
    "5.e-6\n",
    "20000\n",
    "0.5\n",
    "1\n",
    "Quad \n",
    "1.e-4\n",
    "1.\n",
    "50\n",
    "5\n",
    "n\n",
    "1\n",
    "Cp_Cundall\n",
    "40\n",
    "```\n",
    "\n",
    "Put this file in the `mac_czm` directory and\n",
    "then run the computation:\n",
    "```\n",
    "$> cd mac_czm\n",
    "$> python gen_sample.py\n",
    "$> mkdir-lmgc\n",
    "$> lmgc90 < input.dat > log\n",
    "```\n",
    "\n",
    "Please not the use of the `> log` which is important in this case since there is\n",
    "very little effort in computation in this example (only one contact), and a lot\n",
    "of time steps (thus a lot of log message in the terminal).\n"
   ]
  },
  {
   "cell_type": "markdown",
   "metadata": {
    "collapsed": true
   },
   "source": [
    "## Post-processing\n",
    "\n",
    "Now, as in previous section let's generate, after the computation, some paraview files\n",
    "and stock some values of the single interaction stored\n",
    "\n",
    "First the initialization and data definition:"
   ]
  },
  {
   "cell_type": "code",
   "execution_count": null,
   "metadata": {
    "collapsed": true
   },
   "outputs": [],
   "source": [
    "import numpy as np\n",
    "\n",
    "from pylmgc90 import chipy\n",
    "chipy.overall_SetWorkingDirectory('mac_czm')\n",
    "\n",
    "# range of file to read\n",
    "n_min=1\n",
    "n_max=20000\n",
    "step = 1\n",
    "\n",
    "chipy.checkDirectories()\n",
    "\n",
    "# space dimension\n",
    "dim = 3\n",
    "mhyp = 0\n",
    "\n",
    "# fake time step\n",
    "dt = 5.e-6\n",
    "\n",
    "# too many time step do display\n",
    "freq_display = 100\n",
    "ref_radius   = 1.e-3"
   ]
  },
  {
   "cell_type": "markdown",
   "metadata": {},
   "source": [
    "Now initializing LMGC90's database:"
   ]
  },
  {
   "cell_type": "code",
   "execution_count": null,
   "metadata": {
    "collapsed": true
   },
   "outputs": [],
   "source": [
    "chipy.Initialize()\n",
    "chipy.SetDimension(dim,mhyp)\n",
    "\n",
    "#utilities_logMes('INIT TIME STEPPING')\n",
    "#TimeEvolution_SetTimeStep(dt)\n",
    "\n",
    "### model reading ###\n",
    "chipy.utilities_logMes('READ BEHAVIOURS')\n",
    "chipy.ReadBehaviours()\n",
    "chipy.ReadModels()\n",
    "\n",
    "chipy.utilities_logMes('READ BODIES')\n",
    "chipy.ReadBodies()\n",
    "\n",
    "chipy.utilities_logMes('LOAD BEHAVIOURS')\n",
    "chipy.LoadBehaviours()\n",
    "chipy.LoadModels()\n",
    "\n",
    "chipy.utilities_logMes('READ INI DOF')\n",
    "chipy.ReadIniDof()\n",
    "chipy.ReadIniGPV()\n",
    "\n",
    "chipy.utilities_logMes('LOAD TACTORS')\n",
    "chipy.LoadTactors()\n",
    "\n",
    "chipy.utilities_logMes('READ INI Vloc Rloc')\n",
    "chipy.ReadIniVlocRloc()\n"
   ]
  },
  {
   "cell_type": "markdown",
   "metadata": {},
   "source": [
    "Then getting, for the interaction law, its parameters.\n",
    "Looping over the files to extract, at each time step,\n",
    "for the interaction:\n",
    "* the gap\n",
    "* the adhesive stress\n",
    "* the damage\n",
    "* the contact length"
   ]
  },
  {
   "cell_type": "code",
   "execution_count": null,
   "metadata": {
    "collapsed": true
   },
   "outputs": [],
   "source": [
    "\n",
    "chipy.OpenDisplayFiles()\n",
    "\n",
    "for k in xrange(n_min,n_max+1,step):\n",
    "    #\n",
    "    #chipy.utilities_logMes('READ INI DOF')\n",
    "    chipy.ReadIniDof(k)\n",
    "    chipy.ReadIniGPV(k)\n",
    "\n",
    "    #chipy.utilities_logMes('READ INI Vloc Rloc')\n",
    "    chipy.ReadIniVlocRloc(k)\n",
    "\n",
    "    if k == 1:\n",
    "        # getting, only once, the parameters of the first contact law\n",
    "        law  = chipy.tact_behav_GetTactBehav(1)\n",
    "        law2inter = [ law[0], 1, law[2], np.zeros([4,n_max/step]) ]\n",
    "\n",
    "    # getting interactions state\n",
    "    all_inter    = chipy.inter_handler_3D_getAll( chipy.CSASp_ID )\n",
    "    all_internal = chipy.inter_handler_3D_getAllInternal( chipy.CSASp_ID )\n",
    "\n",
    "    # extract in a numpy array some meaningful data\n",
    "    law2inter[3][0, k-1] = all_inter[0,12]    # gap\n",
    "    law2inter[3][1, k-1] =-all_inter[0,14]    # -rln/dt\n",
    "    law2inter[3][2, k-1] = all_internal[0,4 ] # beta\n",
    "    law2inter[3][3, k-1] = all_internal[0,0 ] # length\n",
    "\n",
    "    # write display files\n",
    "    chipy.WriteDisplayFiles(freq=freq_display,ref_radius=ref_radius)\n",
    "\n",
    "chipy.CloseDisplayFiles()\n",
    "chipy.Finalize()\n"
   ]
  },
  {
   "cell_type": "markdown",
   "metadata": {},
   "source": [
    "If you write this in a script, you can save your data in a very simple\n",
    "way thanks to the `pickle` module :"
   ]
  },
  {
   "cell_type": "code",
   "execution_count": null,
   "metadata": {
    "collapsed": true
   },
   "outputs": [],
   "source": [
    "import os, pickle\n",
    "f = open( os.path.join(\"mac_czm\",\"RnGapBeta.p\"), \"wb\" )\n",
    "pickle.dump(law2inter,f)\n",
    "f.close()"
   ]
  },
  {
   "cell_type": "markdown",
   "metadata": {},
   "source": [
    "## Visualization\n",
    "\n",
    "The aim is now to check the behaviour of the contact law implemented within\n",
    "LMGC90 and compare it with the theoric behaviour re-implemented in python.\n",
    "\n",
    "First let's write the function describing the contact law within Python:"
   ]
  },
  {
   "cell_type": "code",
   "execution_count": null,
   "metadata": {
    "collapsed": true
   },
   "outputs": [],
   "source": [
    "import math\n",
    "\n",
    "def MAC_CZM(beta, u, params, surf):\n",
    "    \"\"\"Compute beta (damage) and adhesive stress\n",
    "       from an initial beta value and a gap\n",
    "    \"\"\"\n",
    "\n",
    "    cn   = params[2]\n",
    "    ct   = params[3]\n",
    "    w    = params[5]\n",
    "  \n",
    "    nucut = u[0]*u[0] + u[2]*u[2]\n",
    "    nucun = ( ( abs(u[1])+u[1] ) * 0.5 ) **2\n",
    "  \n",
    "    if (w - beta*(ct*nucut + cn*nucun)) < 0.:\n",
    "        new_beta = w/(ct*nucut + cn*nucun)\n",
    "    else:\n",
    "        new_beta = beta\n",
    "  \n",
    "    radh = u*surf*new_beta*new_beta\n",
    "    radh *= np.array([ct,cn,ct])\n",
    "  \n",
    "    return new_beta,radh\n",
    "\n",
    "\n",
    "def MAC_CZM_maxdep(params):\n",
    "    \"\"\"Compute an value of gap to completely ruin the interface\n",
    "    \"\"\"\n",
    "    return 10. * math.sqrt( params[5] / params[2] )\n",
    "\n"
   ]
  },
  {
   "cell_type": "markdown",
   "metadata": {},
   "source": [
    "Let's factorize a function to plot the *reference* values computed before\n",
    "and the *LMGC90* value for a data, which name is an input:"
   ]
  },
  {
   "cell_type": "code",
   "execution_count": null,
   "metadata": {
    "collapsed": true
   },
   "outputs": [],
   "source": [
    "import matplotlib.pyplot as plt\n",
    "import matplotlib.ticker as ptick\n",
    "from matplotlib.ticker import ScalarFormatter, FormatStrFormatter\n",
    "\n",
    "def do_plot(row,col,nb,title,xlabel,ylabel,x,y,xref=None,yref=None):\n",
    "\n",
    "    plt.subplot(row,col,nb)\n",
    "    plt.title(title)\n",
    "    plt.xlabel(xlabel)\n",
    "    plt.ylabel(ylabel)\n",
    "  \n",
    "    plt.plot(x,y,'x',label='LMGC90')\n",
    "    if isinstance(xref,np.ndarray) and isinstance(yref,np.ndarray) :\n",
    "        plt.plot(xref,yref,'red',label='ref')\n",
    "  \n",
    "    plt.legend()\n",
    "    plt.gca().get_yaxis().get_major_formatter().set_powerlimits((0, 0))\n",
    "    plt.gca().get_xaxis().get_major_formatter().set_powerlimits((0, 0))"
   ]
  },
  {
   "cell_type": "markdown",
   "metadata": {},
   "source": [
    "If you are in a scrip you can load the previously written file:"
   ]
  },
  {
   "cell_type": "code",
   "execution_count": null,
   "metadata": {
    "collapsed": true
   },
   "outputs": [],
   "source": [
    "f = open( os.path.join(\"mac_czm\",\"RnGapBeta.p\"), \"r\" )\n",
    "law2inter = pickle.load( f )\n",
    "f.close()"
   ]
  },
  {
   "cell_type": "markdown",
   "metadata": {},
   "source": [
    "Compute the *reference* value with Python using `nn` points\n",
    "to describe the contact law and a range of data to display."
   ]
  },
  {
   "cell_type": "code",
   "execution_count": null,
   "metadata": {
    "collapsed": true
   },
   "outputs": [],
   "source": [
    "nn = 1000\n",
    "\n",
    "params = law2inter[2]\n",
    "val    = law2inter[3]\n",
    "\n",
    "# computed displacement at which\n",
    "# the interface breaks\n",
    "maxdep = MAC_CZM_maxdep(params)\n",
    "\n",
    "b = np.zeros(nn)\n",
    "r = np.zeros([nn,3])\n",
    "u = np.zeros([nn,3])\n",
    "\n",
    "u[:,1] = np.linspace(0.,maxdep,nn)\n",
    "\n",
    "b[-1] = 1.\n",
    "for i in xrange(nn):\n",
    "    # specious: surf is considered constant\n",
    "    b[i], r[i,:] = MAC_CZM(b[i-1],u[i,:],params,val[3,0])\n",
    "    \n",
    "maxn = val.shape[1]\n",
    "if val[0,-1] > maxdep:\n",
    "    maxn = np.argmax( val[0,:] > maxdep )\n"
   ]
  },
  {
   "cell_type": "markdown",
   "metadata": {},
   "source": [
    "And do the plotting:"
   ]
  },
  {
   "cell_type": "code",
   "execution_count": null,
   "metadata": {
    "collapsed": false
   },
   "outputs": [],
   "source": [
    "do_plot(1,2,1,'Normal Adhesion','gap','Rn',val[0,:maxn],val[1,:maxn],u[:,1],r[:,1])\n",
    "do_plot(1,2,2,'Damage','gap','beta',val[0,:maxn],val[2,:maxn],u[:,1],b)\n",
    "\n",
    "plt.suptitle(law2inter[0])\n",
    "plt.show()"
   ]
  }
 ],
 "metadata": {
  "kernelspec": {
   "display_name": "Python 2",
   "language": "python",
   "name": "python2"
  },
  "language_info": {
   "codemirror_mode": {
    "name": "ipython",
    "version": 2
   },
   "file_extension": ".py",
   "mimetype": "text/x-python",
   "name": "python",
   "nbconvert_exporter": "python",
   "pygments_lexer": "ipython2",
   "version": "2.7.12"
  },
  "latex_envs": {
   "bibliofile": "biblio.bib",
   "cite_by": "apalike",
   "current_citInitial": 1,
   "eqLabelWithNumbers": true,
   "eqNumInitial": 0
  },
  "toc": {
   "toc_cell": true,
   "toc_number_sections": true,
   "toc_threshold": "3",
   "toc_window_display": false
  }
 },
 "nbformat": 4,
 "nbformat_minor": 1
}
