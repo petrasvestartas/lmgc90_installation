{
 "cells": [
  {
   "cell_type": "markdown",
   "metadata": {},
   "source": [
    "# Using gmshutils"
   ]
  },
  {
   "cell_type": "markdown",
   "metadata": {},
   "source": [
    "F. Dubois - 2016"
   ]
  },
  {
   "cell_type": "code",
   "execution_count": null,
   "metadata": {
    "collapsed": false
   },
   "outputs": [],
   "source": [
    "from pylmgc90 import gmshutils\n",
    "#dir(gmshutils)\n",
    "# managing abaqus mesh\n",
    "#help(gmshutils.generateMshFileFromInp)\n",
    "#help(gmshutils.readInpFile)\n",
    "# track a particle in a mesh\n",
    "#help(gmshutils.Track)\n",
    "#help(gmshutils.Track.getLocalCoordinates)\n",
    "#help(gmshutils.Track.updateCoordinates)"
   ]
  },
  {
   "cell_type": "markdown",
   "metadata": {},
   "source": [
    "## Finding a node in a mesh"
   ]
  },
  {
   "cell_type": "code",
   "execution_count": null,
   "metadata": {
    "collapsed": false
   },
   "outputs": [],
   "source": [
    "from pylmgc90 import gmshutils\n",
    "import numpy as np\n",
    "\n",
    "# nodes\n",
    "vertices = np.array([[0., 0.], [1., 0.], [1., 1.], [0. , 1.]])\n",
    "# element\n",
    "triangles = np.array([2, 3, 1 , 2, 3, 3, 1, 3, 4])\n",
    "# create a tracker\n",
    "t = gmshutils.Track(vertices,triangles)\n",
    "# give a list o nodes\n",
    "X = np.array([[1./3., 1./3.]])\n",
    "# recover a list of element and local coordinates\n",
    "n,c = t.getLocalCoordinates(X)\n",
    "for i,e in enumerate(n):\n",
    "  print(\"element : \",e )\n",
    "  print(\"coordinate : \",c[i,:])\n",
    "# move the mesh    \n",
    "vertices = np.array([[0., -0.5], [1., -0.5], [1., 0.5], [0. , 0.5]])\n",
    "t.updateCoordinates(vertices)    \n",
    "# recover a list of element and local coordinates\n",
    "n,c = t.getLocalCoordinates(X)\n",
    "for i,e in enumerate(n):\n",
    "  print(\"element : \",e )\n",
    "  print(\"coordinate : \",c[i,:])\n",
    "    \n",
    "    "
   ]
  }
 ],
 "metadata": {
  "kernelspec": {
   "display_name": "Python 2",
   "language": "python",
   "name": "python2"
  },
  "language_info": {
   "codemirror_mode": {
    "name": "ipython",
    "version": 2
   },
   "file_extension": ".py",
   "mimetype": "text/x-python",
   "name": "python",
   "nbconvert_exporter": "python",
   "pygments_lexer": "ipython2",
   "version": "2.7.12"
  }
 },
 "nbformat": 4,
 "nbformat_minor": 1
}
