{
 "cells": [
  {
   "cell_type": "markdown",
   "metadata": {},
   "source": [
    "# Howto"
   ]
  },
  {
   "cell_type": "markdown",
   "metadata": {},
   "source": [
    "F. Dubois"
   ]
  },
  {
   "cell_type": "markdown",
   "metadata": {},
   "source": [
    "First you need to build a gmsh binary with the gmshpy module.  \n",
    "First download the code (login gmsh, password gmsh):  \n",
    "*svn co https://onelab.info/svn/gmsh/trunk gmsh*  \n",
    "Then you have to build the code; be carefull many dependencies are necessary/possible (fltk, etc). If you have already installed gmsh with your favorite package manager (port, apt-get, yum, etc) they should be installed.  \n",
    "To compile the python module :  \n",
    "*mkdir build; cd build*  \n",
    "*cmake ../gmsh -DENABLE_WRAP_PYTHON=1*  \n",
    "*make -j4*  \n",
    "Be carefull that all some cmake variables are well defined: PYTHON_EXECUTABLE, PYTHON_LIBRARY, PYTHON_INCLUDE_DIR, etc  \n",
    "If compilation works fine you have to add the path to the gmshpy module :  \n",
    "*export PYTHONPATH=$PYTHONPATH:blabla/build/wrappers*"
   ]
  },
  {
   "cell_type": "markdown",
   "metadata": {},
   "source": [
    "## Creating a geometrical model :  "
   ]
  },
  {
   "cell_type": "code",
   "execution_count": null,
   "metadata": {
    "collapsed": false
   },
   "outputs": [],
   "source": [
    "from gmshpy import *\n",
    "import os\n",
    "\n",
    "# from http://en.wikipedia.org/wiki/Constructive_solid_geometry\n",
    "\n",
    "R = 1.4\n",
    "s = .7\n",
    "t = 1.25\n",
    "\n",
    "myModel = GModel()\n",
    "myModel.addBlock([-R,-R,-R],[R,R,R])\n",
    "\n",
    "myTool = GModel()\n",
    "myTool.addSphere(0,0,0,R*t)\n",
    "\n",
    "myModel.computeBooleanIntersection(myTool)\n",
    "\n",
    "# building an intermediate complicated structure\n",
    "myTool2 = GModel()\n",
    "myTool2.addCylinder([-2*R,0,0],[2*R,0,0],R*s)\n",
    "\n",
    "myTool3 = GModel()\n",
    "myTool3.addCylinder([0,-2*R,0],[0,2*R,0],R*s)\n",
    "\n",
    "myModel2 = GModel()\n",
    "myModel2.addCylinder([0,0,-2*R],[0,0,2*R],R*s)\n",
    "myModel2.computeBooleanUnion(myTool2)\n",
    "myModel2.computeBooleanUnion(myTool3)\n",
    "myModel2.setVisibility(0)\n",
    "\n",
    "myModel.computeBooleanDifference(myModel2)\n",
    "\n",
    "#\n",
    "myModel.setAsCurrent()\n",
    "myModel.setVisibility(1)\n",
    "\n",
    "if not os.path.isdir('./output'):\n",
    "  os.mkdir('./output')\n",
    "\n",
    "myModel.save(\"./output/wikipedia.brep\")\n",
    "myModel.writeGEO(\"./output/wikipedia.geo\")\n",
    "\n",
    "# meshing\n",
    "#GmshSetOption(\"Mesh\", \"CharacteristicLengthFactor\", 0.4);\n",
    "#myModel.mesh(3);\n",
    "#myModel.save(\"./output/wikipedia.msh\");\n",
    "\n",
    "# Drawing\n",
    "#FlGui.instance();\n",
    "#FlGui.run();\n"
   ]
  },
  {
   "cell_type": "markdown",
   "metadata": {},
   "source": [
    "## Creating a 2D mesh :"
   ]
  },
  {
   "cell_type": "code",
   "execution_count": null,
   "metadata": {
    "collapsed": true
   },
   "outputs": [],
   "source": [
    "from gmshpy import *\n",
    "\n",
    "lc = 0.5\n",
    "GmshSetOption('Mesh', 'CharacteristicLengthFactor', lc)\n",
    " \n",
    "g = GModel()\n",
    "\n",
    "# creating geometry\n",
    "v1 = g.addVertex(0, 0, 0, lc)\n",
    "v2 = g.addVertex(1, 0, 0, lc)\n",
    "v3 = g.addVertex(1, 1, 0, lc)\n",
    "v4 = g.addVertex(0, 1, 0, lc)\n",
    "e1 = g.addLine(v2, v1)\n",
    "e2 = g.addLine(v3, v2)\n",
    "e3 = g.addLine(v4, v3)\n",
    "e4 = g.addLine(v4, v1)\n",
    "\n",
    "v11 = g.addVertex(.4, .4, 0, lc)\n",
    "v12 = g.addVertex(.6, .4, 0, lc)\n",
    "v13 = g.addVertex(.6, .5, 0, lc)\n",
    "v14 = g.addVertex(.4, .6, 0, lc)\n",
    "e11 = g.addLine(v11, v12)\n",
    "e12 = g.addLine(v12, v13)\n",
    "e13 = g.addLine(v13, v14)\n",
    "e14 = g.addLine(v14, v11)\n",
    "\n",
    "f = g.addPlanarFace([[e1,e2,e3,e4],[e11,e12,e13,e14]])\n",
    "\n",
    "if not os.path.isdir('./output'):\n",
    "  os.mkdir('./output')\n",
    "\n",
    "g.writeGEO(\"./output/square.geo\")\n",
    "\n",
    "# meshing\n",
    "g.mesh(2)\n",
    "g.save(\"./output/square.msh\")\n",
    "\n",
    "# Drawing\n",
    "#FlGui.instance()\n",
    "#FlGui.run()\n"
   ]
  },
  {
   "cell_type": "markdown",
   "metadata": {},
   "source": [
    "## Creating a 3D mesh "
   ]
  },
  {
   "cell_type": "code",
   "execution_count": null,
   "metadata": {
    "collapsed": true
   },
   "outputs": [],
   "source": [
    "from gmshpy import *\n",
    "\n",
    "GmshSetOption('Mesh', 'CharacteristicLengthFactor', 0.01)\n",
    "\n",
    "myModel = GModel();\n",
    "\n",
    "R = 0.3\n",
    "myModel.addSphere(0.5,0.5,0.5,R)\n",
    "\n",
    "myModel.setAsCurrent()\n",
    "\n",
    "if not os.path.isdir('./output'):\n",
    "  os.mkdir('./output')\n",
    "\n",
    "myModel.writeGEO(\"./output/sphere.geo\")\n",
    "\n",
    "myModel.mesh(2);\n",
    "myModel.save(\"./output/sphere.msh\")\n",
    "\n",
    "# Drawing\n",
    "#FlGui.instance()\n",
    "#FlGui.run()\n"
   ]
  },
  {
   "cell_type": "markdown",
   "metadata": {},
   "source": [
    "## Remeshing from a mesh"
   ]
  },
  {
   "cell_type": "code",
   "execution_count": null,
   "metadata": {
    "collapsed": false
   },
   "outputs": [],
   "source": [
    "from gmshpy import *\n",
    "\n",
    "GmshSetOption('General', 'Verbosity', 99.0) \n",
    "GmshSetOption('Mesh', 'SaveAll', 1.0) \n",
    "GmshSetOption('Mesh', 'Algorithm', 1.0)\n",
    "\n",
    "g =  GModel()\n",
    "g.setFactory('Gmsh')\n",
    "\n",
    "g.load(\"./input/aneurysm.stl\")\n",
    "g.createTopologyFromMesh()\n",
    "\n",
    "face = g.getFaceByTag(1)\n",
    "newent  = g.extrudeBoundaryLayer(face, 4, 0.5, 0, -1)\n",
    "newent2 = g.extrudeBoundaryLayer(face, 4, -0.5, 1, -1)\n",
    "\n",
    "print \"*** face = %d \" % face.tag()\n",
    "print \"*** new face = %d newface2 = %d \" % (newent[0].tag(), newent2[0].tag())\n",
    "\n",
    "g.mesh(2)\n",
    "\n",
    "if not os.path.isdir('./output'):\n",
    "  os.mkdir('./output')\n",
    "\n",
    "g.save(\"./output/aneurysmBL.msh\")\n",
    "\n",
    "# Drawing\n",
    "#FlGui.instance()\n",
    "#FlGui.run()\n"
   ]
  }
 ],
 "metadata": {
  "kernelspec": {
   "display_name": "Python 2",
   "language": "python",
   "name": "python2"
  },
  "language_info": {
   "codemirror_mode": {
    "name": "ipython",
    "version": 2
   },
   "file_extension": ".py",
   "mimetype": "text/x-python",
   "name": "python",
   "nbconvert_exporter": "python",
   "pygments_lexer": "ipython2",
   "version": "2.7.12"
  }
 },
 "nbformat": 4,
 "nbformat_minor": 1
}
