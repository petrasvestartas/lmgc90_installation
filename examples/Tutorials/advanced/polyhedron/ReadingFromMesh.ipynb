{
 "cells": [
  {
   "cell_type": "markdown",
   "metadata": {},
   "source": [
    "# Creating sample"
   ]
  },
  {
   "cell_type": "code",
   "execution_count": null,
   "metadata": {},
   "outputs": [],
   "source": [
    "from pathlib import Path\n",
    "datbox = Path('./DATBOX')\n",
    "datbox.mkdir(exist_ok=True)\n",
    "\n",
    "from pylmgc90 import pre"
   ]
  },
  {
   "cell_type": "code",
   "execution_count": null,
   "metadata": {},
   "outputs": [],
   "source": [
    "# container definition:\n",
    "#   * of bodies\n",
    "bodies = pre.avatars()\n",
    "#   * of materials\n",
    "mats = pre.materials()\n",
    "#   * of models\n",
    "mods = pre.models()\n",
    "#   * of visibility tables\n",
    "svs = pre.see_tables()\n",
    "#   * of contact laws\n",
    "tacts = pre.tact_behavs()\n",
    "\n",
    "# on se place en 3D\n",
    "dim = 3"
   ]
  },
  {
   "cell_type": "code",
   "execution_count": null,
   "metadata": {},
   "outputs": [],
   "source": [
    "# rigid material\n",
    "tdur = pre.material(name='TDURx', materialType='RIGID', density=2500.)\n",
    "mats.addMaterial(tdur)\n",
    "\n",
    "# rigid model\n",
    "mod = pre.model(name='rigid', physics='MECAx', element='Rxx3D', dimension=dim)\n",
    "mods.addModel(mod)"
   ]
  },
  {
   "cell_type": "code",
   "execution_count": null,
   "metadata": {},
   "outputs": [],
   "source": [
    "!gmsh quart_voute.msh"
   ]
  },
  {
   "cell_type": "code",
   "execution_count": null,
   "metadata": {},
   "outputs": [],
   "source": [
    "# reading msh file\n",
    "complete_mesh = pre.readMesh(name='quart_voute.msh', dim=dim)\n",
    "\n",
    "xyz=[18,25,32,39,57,64,71,78]\n",
    "byz=[1,2,3,4,5,6,7,8,9,10,11]\n",
    "bxz=[40,41,42,43,44,45,46,47,48,49,50]\n",
    "yz=[51,58,65,72]\n",
    "xz=[12,19,26,33]\n",
    "\n",
    "# separating meshes\n",
    "meshes = complete_mesh.separateMeshes(dim=dim,entity_type=\"geometricalEntity\") #, keep_all_elements=True)\n",
    "\n",
    "# building avatars\n",
    "for i in meshes.keys():\n",
    "    # boundary condition\n",
    "    if int(i) in xyz:\n",
    "        body = pre.volumicMeshToRigid3D(volumic_mesh=meshes[i], model=mod, material=tdur, color='REDxx')   \n",
    "        body.imposeDrivenDof(component=[1, 2, 3, 4, 5, 6], dofty='vlocy')   \n",
    "    elif int(i) in yz:   \n",
    "        body = pre.volumicMeshToRigid3D(volumic_mesh=meshes[i], model=mod, material=tdur, color='REDxx')           \n",
    "        body.imposeDrivenDof(component=[2, 3, 4, 5, 6], dofty='vlocy')\n",
    "    elif int(i) in xz:\n",
    "        body = pre.volumicMeshToRigid3D(volumic_mesh=meshes[i], model=mod, material=tdur, color='REDxx')   \n",
    "        body.imposeDrivenDof(component=[1, 3, 4, 5, 6], dofty='vlocy')      \n",
    "    elif int(i) in byz or int(i) in bxz:\n",
    "        continue  \n",
    "    else:\n",
    "        body = pre.volumicMeshToRigid3D(volumic_mesh=meshes[i], model=mod, material=tdur, color='BLUEx')   \n",
    "\n",
    "    bodies.addAvatar(body)\n"
   ]
  },
  {
   "cell_type": "code",
   "execution_count": null,
   "metadata": {},
   "outputs": [],
   "source": [
    "# definitions des interactions\n",
    "#  * loi d'interaction :\n",
    "lprpr = pre.tact_behav('iqsG0', 'IQS_CLB_g0', fric=0.3)\n",
    "tacts+= lprpr\n",
    "\n",
    "#  * table de visibilite :\n",
    "sv1 = pre.see_table(CorpsCandidat   ='RBDY3', candidat   ='POLYR', colorCandidat   ='BLUEx',\n",
    "                    CorpsAntagoniste='RBDY3', antagoniste='POLYR', colorAntagoniste='BLUEx',\n",
    "                    behav='iqsG0', alert=2.5e-2)\n",
    "svs+=sv1\n",
    "sv2 = pre.see_table(CorpsCandidat   ='RBDY3', candidat   ='POLYR', colorCandidat   ='BLUEx',\n",
    "                    CorpsAntagoniste='RBDY3', antagoniste='POLYR', colorAntagoniste='REDxx',\n",
    "                    behav='iqsG0', alert=2.5e-2)\n",
    "svs+=sv2"
   ]
  },
  {
   "cell_type": "code",
   "execution_count": null,
   "metadata": {},
   "outputs": [],
   "source": [
    "post = pre.postpro_commands()\n",
    "post.addCommand( pre.postpro_command(name='SOLVER INFORMATIONS', step=1))\n",
    "post.addCommand( pre.postpro_command(name='VIOLATION EVOLUTION', step=1))"
   ]
  },
  {
   "cell_type": "code",
   "execution_count": null,
   "metadata": {},
   "outputs": [],
   "source": [
    "# ecriture des fichiers de donnees\n",
    "pre.writeDatbox(dim, mats, mods, bodies, tacts, svs, post=post, datbox_path=datbox)"
   ]
  },
  {
   "cell_type": "code",
   "execution_count": null,
   "metadata": {},
   "outputs": [],
   "source": [
    "pre.visuAvatars(bodies)"
   ]
  },
  {
   "cell_type": "markdown",
   "metadata": {},
   "source": [
    "# Computing"
   ]
  },
  {
   "cell_type": "code",
   "execution_count": null,
   "metadata": {},
   "outputs": [],
   "source": [
    "from pylmgc90.chipy import computation"
   ]
  },
  {
   "cell_type": "code",
   "execution_count": null,
   "metadata": {},
   "outputs": [],
   "source": [
    "dim = 3\n",
    "\n",
    "# time evolution parameters\n",
    "dt = 1e-3\n",
    "nb_steps = 500\n",
    "\n",
    "# theta integrator parameter\n",
    "theta = 0.5\n",
    "\n",
    "# nlgs parameters\n",
    "tol    = 1e-4\n",
    "relax  = 1.0\n",
    "norm   = 'Quad '\n",
    "gs_it1 = 500\n",
    "gs_it2 = 10\n",
    "stype  = 'Stored_Delassus_Loops         '\n",
    "\n",
    "# write parameter¶\n",
    "freq_write   = 10\n",
    "\n",
    "# display parameters\n",
    "freq_display = 10"
   ]
  },
  {
   "cell_type": "code",
   "execution_count": null,
   "metadata": {},
   "outputs": [],
   "source": [
    "from pylmgc90 import chipy\n",
    "\n",
    "chipy.POLYR_SkipAutomaticReorientation()\n",
    "chipy.POLYR_FlatnessAngle(10.)\n",
    "chipy.POLYR_TopologyAngle(3.)\n",
    "\n",
    "chipy.PRPRx_ShrinkPolyrFaces(1e-3)\n",
    "#chipy.PRPRx_UseCpF2fExplicitDetection(1e-1)\n",
    "chipy.PRPRx_UseNcF2fExplicitDetection(5e-1,1e-1)\n",
    "chipy.PRPRx_LowSizeArrayPolyr(100)\n",
    "\n",
    "chipy.nlgs_3D_DiagonalResolution()\n",
    "\n",
    "computation.initialize(dim, dt, theta, logmes=True)\n",
    "\n",
    "for k in range( 1, nb_steps+1 ):\n",
    "    if k%50 == 0:\n",
    "        print( f\"computing step {k}\" )\n",
    "    computation.one_step(stype, norm, tol ,relax, gs_it1, gs_it2, freq_write, freq_display)\n",
    "computation.finalize()"
   ]
  },
  {
   "cell_type": "code",
   "execution_count": null,
   "metadata": {},
   "outputs": [],
   "source": [
    "#!paraview"
   ]
  }
 ],
 "metadata": {
  "kernelspec": {
   "display_name": "Python 3",
   "language": "python",
   "name": "python3"
  },
  "language_info": {
   "codemirror_mode": {
    "name": "ipython",
    "version": 3
   },
   "file_extension": ".py",
   "mimetype": "text/x-python",
   "name": "python",
   "nbconvert_exporter": "python",
   "pygments_lexer": "ipython3",
   "version": "3.6.9"
  },
  "latex_envs": {
   "LaTeX_envs_menu_present": true,
   "autoclose": false,
   "autocomplete": true,
   "bibliofile": "biblio.bib",
   "cite_by": "apalike",
   "current_citInitial": 1,
   "eqLabelWithNumbers": true,
   "eqNumInitial": 1,
   "hotkeys": {
    "equation": "Ctrl-E",
    "itemize": "Ctrl-I"
   },
   "labels_anchors": false,
   "latex_user_defs": false,
   "report_style_numbering": false,
   "user_envs_cfg": false
  },
  "toc": {
   "base_numbering": 1,
   "nav_menu": {},
   "number_sections": true,
   "sideBar": true,
   "skip_h1_title": false,
   "title_cell": "Table of Contents",
   "title_sidebar": "Contents",
   "toc_cell": false,
   "toc_position": {},
   "toc_section_display": true,
   "toc_window_display": false
  },
  "varInspector": {
   "cols": {
    "lenName": 16,
    "lenType": 16,
    "lenVar": 40
   },
   "kernels_config": {
    "python": {
     "delete_cmd_postfix": "",
     "delete_cmd_prefix": "del ",
     "library": "var_list.py",
     "varRefreshCmd": "print(var_dic_list())"
    },
    "r": {
     "delete_cmd_postfix": ") ",
     "delete_cmd_prefix": "rm(",
     "library": "var_list.r",
     "varRefreshCmd": "cat(var_dic_list()) "
    }
   },
   "types_to_exclude": [
    "module",
    "function",
    "builtin_function_or_method",
    "instance",
    "_Feature"
   ],
   "window_display": false
  }
 },
 "nbformat": 4,
 "nbformat_minor": 4
}
