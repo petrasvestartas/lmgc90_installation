{
 "cells": [
  {
   "cell_type": "markdown",
   "id": "a0952f1f",
   "metadata": {},
   "source": [
    "# Restart, Stop and Last\n",
    "\n",
    "The aim of this notebook is to show how to continue or restart\n",
    "a computation that was interrupted or finished. And explain how\n",
    "to check the state of the sample during computation or stop it properly.\n",
    "\n",
    "\n",
    "## Simple sample\n",
    "\n",
    "First must have a sample to work with. Let us use the simple case of\n",
    "the deposit of disks in box.\n",
    "\n",
    "The disks are initially on a triangular lattice and there is no friction.\n",
    "\n",
    "Since the input are already detailed in other notebook, only a simple\n",
    "function is used to generate the DATBOX directory:"
   ]
  },
  {
   "cell_type": "code",
   "execution_count": null,
   "id": "f2eb8d40",
   "metadata": {},
   "outputs": [],
   "source": [
    "import utils\n",
    "\n",
    "nb_diskx = 1000\n",
    "rmin = 1.5\n",
    "rmax = 2.0\n",
    "bodies = utils.generate(nb_diskx, rmin, rmax)"
   ]
  },
  {
   "cell_type": "code",
   "execution_count": null,
   "id": "ac810962",
   "metadata": {},
   "outputs": [],
   "source": [
    "from pylmgc90 import pre\n",
    "pre.visuAvatars(bodies)"
   ]
  },
  {
   "cell_type": "markdown",
   "id": "778acc85",
   "metadata": {},
   "source": [
    "## Simple computation\n",
    "\n",
    "\n",
    "#### Initialize and read\n",
    "\n",
    "A simple computation is composed first by the common part\n",
    "of a rigid script, which basically initialize the parameters\n",
    "of the simulation and read the input data from the DATBOX directory :"
   ]
  },
  {
   "cell_type": "code",
   "execution_count": null,
   "id": "cc8d2523",
   "metadata": {},
   "outputs": [],
   "source": [
    "from pathlib import Path\n",
    "import h5py\n",
    "from pylmgc90 import chipy\n",
    "from pylmgc90.chipy import computation\n",
    "\n",
    "dim   = 2\n",
    "mhyp  = 1\n",
    "dt    = 5e-3\n",
    "theta = 0.5\n",
    "\n",
    "h5_file = 'lmgc90.h5'"
   ]
  },
  {
   "cell_type": "code",
   "execution_count": null,
   "id": "ce44bde6",
   "metadata": {},
   "outputs": [],
   "source": [
    "chipy.Initialize()\n",
    "chipy.checkDirectories()\n",
    "chipy.utilities_DisableLogMes()\n",
    "\n",
    "# Set space dimension\n",
    "chipy.SetDimension(dim,mhyp)\n",
    "#\n",
    "chipy.TimeEvolution_SetTimeStep(dt)\n",
    "chipy.Integrator_InitTheta(theta)\n",
    "\n",
    "chipy.ReadDatbox(deformable=False)\n",
    "\n",
    "chipy.InitHDF5(h5_file)\n",
    "\n",
    "chipy.OpenDisplayFiles()\n",
    "chipy.OpenPostproFiles()"
   ]
  },
  {
   "cell_type": "markdown",
   "id": "ef16c908",
   "metadata": {},
   "source": [
    "#### Computation\n",
    "\n",
    "Then a time loop to run the computation. For the example's sake, let us imagine\n",
    "that we did not use enough time steps to let all particles attain a rest state.\n",
    "\n",
    "And to reduce the execution time and the storage space used, some low frequency\n",
    "of file writing will be used:"
   ]
  },
  {
   "cell_type": "code",
   "execution_count": null,
   "id": "cfad121a",
   "metadata": {},
   "outputs": [],
   "source": [
    "nb_steps     = 250\n",
    "freq_write   =  10\n",
    "freq_display =  25\n",
    "\n",
    "dim = 2\n",
    "theta = 0.5\n",
    "stype = 'Stored_Delassus_Loops       '\n",
    "norm  = 'Quad '\n",
    "conv  = 1e-4\n",
    "relax = 1.0\n",
    "gsit1 = 500\n",
    "gsit2 = 10"
   ]
  },
  {
   "cell_type": "code",
   "execution_count": null,
   "id": "b4094caa",
   "metadata": {},
   "outputs": [],
   "source": [
    "chipy.ComputeMass()\n",
    "for k in range(1, nb_steps+1):\n",
    "    if k%freq_display==0:\n",
    "        print(f\"computed step {k}\")\n",
    "    computation.one_step(stype, norm, conv, relax, gsit1, gsit2, freq_write, freq_display)\n",
    "\n",
    "computation.finalize()\n",
    "print('Computation finished')"
   ]
  },
  {
   "cell_type": "markdown",
   "id": "e17f2dbb",
   "metadata": {},
   "source": [
    "#### First results\n",
    "\n",
    "Then by looking at the paraview file, it is seen that the deposit is not finished.\n",
    "Thus the computation should be continued.\n",
    "\n",
    "Furthermore, according to the number of steps computed and the frequency of file writing\n",
    "provided, the number of record in the hdf5 file can be checked:"
   ]
  },
  {
   "cell_type": "code",
   "execution_count": null,
   "id": "a1af7717",
   "metadata": {},
   "outputs": [],
   "source": [
    "with h5py.File(h5_file) as hf:\n",
    "    nb_record = hf['Simulation/nb_record'][()]\n",
    "    nb_record = int(nb_record)\n",
    "print(f\"Number of record in {h5_file}: {nb_record} = {nb_steps}/{freq_write}\")"
   ]
  },
  {
   "cell_type": "markdown",
   "id": "242643de",
   "metadata": {},
   "source": [
    "And the number of paraview files can also be counted:"
   ]
  },
  {
   "cell_type": "code",
   "execution_count": null,
   "id": "ca2f0434",
   "metadata": {},
   "outputs": [],
   "source": [
    "# !ls DISPLAY/*.vtmb | wc -l\n",
    "display = Path('DISPLAY')\n",
    "nb_display = sum(1 for _ in display.glob('*.vtmb'))\n",
    "print(f\"Number of display files : {nb_display} = {nb_steps}/{freq_display}\")"
   ]
  },
  {
   "cell_type": "markdown",
   "id": "964512b8",
   "metadata": {},
   "source": [
    "## Restart computation\n",
    "\n",
    "Now it is desired to continue the computation for another round to, hopefully,\n",
    "finish the deposit.\n",
    "\n",
    "To this end, the first important point is to specify to\n",
    "read a new initial state after the `ReadDatbox` call with the `ReadIni` function\n",
    "which take a record number as an input argument.\n",
    "\n",
    "The second point is to make sure to not erase record in the hdf5 file and or display files.\n",
    "* Regarding HDF5 files:\n",
    "  * With HDF5, if an existing file is provided to the `InitHDF5` function, then all records with\n",
    "    a `TPS` (which is the simulation time of the record) after the result of `TimeEvolution_GetTime`\n",
    "    will be automatically erased.\n",
    "  * a different input and output HDF5 file can be provided\n",
    "  * if the number of record `-1` is used when reading state, then the last available record is read\n",
    "* Regarding paraview files:\n",
    "  * by default the numbering of the paraview files starts at 1\n",
    "  * if a file with the same numbering already exists at time of writing, it is overwritten\n",
    "  * that's why it is possible to provide a starting index for paraview files\n",
    "In the end, to continue the computation and have the same results as if the computation\n",
    "would be done in one go, the initialization step is:"
   ]
  },
  {
   "cell_type": "code",
   "execution_count": null,
   "id": "ffabe018",
   "metadata": {},
   "outputs": [],
   "source": [
    "in_file = 'lmgc90.h5'\n",
    "h5_file = 'lmgc90.h5'\n",
    "\n",
    "chipy.Initialize()  \n",
    "chipy.checkDirectories()  \n",
    "chipy.utilities_DisableLogMes()\n",
    "\n",
    "# Set space dimension  \n",
    "chipy.SetDimension(dim,mhyp)\n",
    "#  \n",
    "chipy.TimeEvolution_SetTimeStep(dt)  \n",
    "chipy.Integrator_InitTheta(theta)     \n",
    "#               \n",
    "\n",
    "chipy.ReadDatbox(deformable=False)\n",
    "chipy.ReadIni(record=nb_record, h5_file=in_file)    \n",
    " \n",
    "chipy.InitHDF5(h5_file)  \n",
    "\n",
    "chipy.OpenDisplayFiles(nb_display+1)\n",
    "chipy.OpenPostproFiles()"
   ]
  },
  {
   "cell_type": "markdown",
   "id": "8dbf30b7",
   "metadata": {},
   "source": [
    "And the computation loop is then strictly the same, then the number of records/files can\n",
    "be checked again:"
   ]
  },
  {
   "cell_type": "code",
   "execution_count": null,
   "id": "c7b505fe",
   "metadata": {},
   "outputs": [],
   "source": [
    "chipy.ComputeMass()\n",
    "for k in range(1, nb_steps+1):\n",
    "    if k%freq_display==0:\n",
    "        print(f\"computed step {k+nb_steps}\")\n",
    "    computation.one_step(stype, norm, conv, relax, gsit1, gsit2, freq_write, freq_display)\n",
    "\n",
    "computation.finalize()\n",
    "print('Computation finished')"
   ]
  },
  {
   "cell_type": "code",
   "execution_count": null,
   "id": "7ea2a3a9",
   "metadata": {},
   "outputs": [],
   "source": [
    "with h5py.File(h5_file) as hf:\n",
    "    nb_record = hf['Simulation/nb_record'][()]\n",
    "    nb_record = int(nb_record)\n",
    "\n",
    "display = Path('DISPLAY')\n",
    "nb_display = sum(1 for _ in display.glob('*.vtmb'))\n",
    "\n",
    "print(f\"Number of record in {h5_file}: {nb_record} = {2*nb_steps}/{freq_write}\")\n",
    "print(f\"Number of display files : {nb_display} = {2*nb_steps}/{freq_display}\")"
   ]
  },
  {
   "cell_type": "markdown",
   "id": "549b659d",
   "metadata": {},
   "source": [
    "## Stop computation\n",
    "\n",
    "Another approach would be to choose an oversized number of time step (or a while loop) and check,\n",
    "during computation, if the deposit is stabilized and only then manually stop the computation.\n",
    "\n",
    "In this special case it could be decided that there is no need for any paraview file\n",
    "writing and that only the last step of the computation must be saved thus the frequency\n",
    "of file writing will be set so that the script skips these steps.\n",
    "\n",
    "To check/control the computation while it is running, this is possible thanks to the\n",
    "`checkInteractiveCommand` function which is automatically included in the `compute_one_step` macro.\n",
    "Depending on the existence of a file with an predefined name within the working directory,\n",
    "some particular behaviour can be provoked (check the sphinx documentation for the exhaustive list).\n",
    "\n",
    "To illustrate this, open a terminal or a file explorer window in the current directory\n",
    "and be ready to create some files.\n",
    "\n",
    "Then run the following loop and at some point of your choice, create the file `display_now`.\n",
    "This should create a new paraview file at the end of the next computed step (and automatically\n",
    "erase said file to not write again on next step).\n",
    "\n",
    "When satisfied with the displayed state, you can then create the `stop` file to cleanly stop\n",
    "the computation which will also write the last step in the output file."
   ]
  },
  {
   "cell_type": "code",
   "execution_count": null,
   "id": "5035c59e",
   "metadata": {},
   "outputs": [],
   "source": [
    "nb_steps = 100000000000\n",
    "fwrite = fdisplay = nb_steps+1\n",
    "\n",
    "h5_file = 'loop.h5'\n",
    "\n",
    "dim   = 2\n",
    "theta = 0.5\n",
    "stype = 'Stored_Delassus_Loops       '\n",
    "norm  = 'Quad '\n",
    "conv  = 1e-4\n",
    "relax = 1.0\n",
    "gsit1 = 500\n",
    "gsit2 = 10\n",
    "chipy.Initialize()  \n",
    "chipy.checkDirectories()  \n",
    "chipy.utilities_DisableLogMes()\n",
    "\n",
    "# Set space dimension  \n",
    "chipy.SetDimension(dim,mhyp)\n",
    "#  \n",
    "chipy.TimeEvolution_SetTimeStep(dt)  \n",
    "chipy.Integrator_InitTheta(theta)     \n",
    "#               \n",
    "\n",
    "chipy.ReadDatbox(deformable=False)\n",
    " \n",
    "chipy.InitHDF5(h5_file)  \n",
    "\n",
    "chipy.OpenDisplayFiles()\n",
    "chipy.OpenPostproFiles()\n",
    "\n",
    "chipy.ComputeMass()\n",
    "for k in range(1, nb_steps+1):\n",
    "    if k%freq_display==0:\n",
    "        print(f\"computed step {k}\")\n",
    "    computation.one_step(stype, norm, conv, relax, gsit1, gsit2, fwrite, fdisplay)\n",
    "\n",
    "computation.finalize()\n",
    "print('Computation finished')"
   ]
  },
  {
   "cell_type": "code",
   "execution_count": null,
   "id": "7d67c966",
   "metadata": {},
   "outputs": [],
   "source": [
    "with h5py.File(h5_file) as hf:\n",
    "    nb_record = hf['Simulation/nb_record'][()]\n",
    "    nb_record = int(nb_record)\n",
    "\n",
    "display = Path('DISPLAY')\n",
    "nb_display = sum(1 for _ in display.glob('*.vtmb'))\n",
    "\n",
    "print(f\"Number of record in {h5_file}: {nb_record}\")\n",
    "print(f\"Number of display files : {nb_display}\")"
   ]
  },
  {
   "cell_type": "markdown",
   "id": "566d7cae",
   "metadata": {},
   "source": [
    "## Last\n",
    "\n",
    "But not least ! This section is to explaine the concept of *Last* file.\n",
    "\n",
    "In case of many number of time step with few record written, it may be wanted to save, at each\n",
    "time step, the state of the computation but without keeping all of them.\n",
    "\n",
    "This is when it is needed to add the `WriteLast` function :"
   ]
  },
  {
   "cell_type": "code",
   "execution_count": null,
   "id": "abcc5c61",
   "metadata": {},
   "outputs": [],
   "source": [
    "h5_file = 'lmgc.h5'\n",
    "h5_last = 'last.h5'\n",
    "\n",
    "nb_steps     = 500\n",
    "freq_write   = 250\n",
    "freq_display = nb_steps\n",
    "\n",
    "dim   = 2\n",
    "theta = 0.5\n",
    "stype = 'Stored_Delassus_Loops       '\n",
    "norm  = 'Quad '\n",
    "conv  = 1e-4\n",
    "relax = 1.0\n",
    "gsit1 = 500\n",
    "gsit2 = 10\n",
    "chipy.Initialize()\n",
    "chipy.checkDirectories()\n",
    "chipy.utilities_DisableLogMes()\n",
    "\n",
    "# Set space dimension\n",
    "chipy.SetDimension(dim,mhyp)\n",
    "#\n",
    "chipy.TimeEvolution_SetTimeStep(dt)\n",
    "chipy.Integrator_InitTheta(theta)\n",
    "\n",
    "chipy.ReadDatbox(deformable=False)\n",
    "\n",
    "chipy.InitHDF5(h5_file)  \n",
    "\n",
    "chipy.OpenDisplayFiles()\n",
    "chipy.OpenPostproFiles()\n",
    "\n",
    "chipy.ComputeMass()\n",
    "for k in range(1, nb_steps+1):\n",
    "    if k%freq_write==0:\n",
    "        print(f\"computed step {k}\")\n",
    "    computation.one_step(stype, norm, conv, relax, gsit1, gsit2, freq_write, freq_display)\n",
    "    chipy.WriteLast(h5_last)\n",
    "\n",
    "computation.finalize()\n",
    "print('Computation finished')"
   ]
  }
 ],
 "metadata": {
  "kernelspec": {
   "display_name": "lmgc90_dev",
   "language": "python",
   "name": "lmgc90_dev"
  },
  "language_info": {
   "codemirror_mode": {
    "name": "ipython",
    "version": 3
   },
   "file_extension": ".py",
   "mimetype": "text/x-python",
   "name": "python",
   "nbconvert_exporter": "python",
   "pygments_lexer": "ipython3",
   "version": "3.10.12"
  }
 },
 "nbformat": 4,
 "nbformat_minor": 5
}
