{
 "cells": [
  {
   "cell_type": "markdown",
   "metadata": {
    "toc": "true"
   },
   "source": [
    "<h1>Table of Contents<span class=\"tocSkip\"></span></h1>\n",
    "<div class=\"toc\"><ul class=\"toc-item\"><li><span><a href=\"#Managing-2D-deposit\" data-toc-modified-id=\"Managing-2D-deposit-1\"><span class=\"toc-item-num\">1&nbsp;&nbsp;</span>Managing 2D deposit</a></span></li></ul></div>"
   ]
  },
  {
   "cell_type": "markdown",
   "metadata": {
    "slideshow": {
     "slide_type": "slide"
    }
   },
   "source": [
    "# Managing 2D deposit\n",
    "\n",
    "F. Dubois - 2016"
   ]
  },
  {
   "cell_type": "markdown",
   "metadata": {
    "slideshow": {
     "slide_type": "slide"
    }
   },
   "source": [
    "Importing necessary modules for the tutorial "
   ]
  },
  {
   "cell_type": "code",
   "execution_count": null,
   "metadata": {
    "slideshow": {
     "slide_type": "fragment"
    }
   },
   "outputs": [],
   "source": [
    "%matplotlib inline\n",
    "\n",
    "import os, sys\n",
    "import numpy as np\n",
    "import matplotlib.pyplot as plt\n",
    "\n",
    "# Import Bokeh modules for interactive plotting\n",
    "#import bokeh.io\n",
    "#import bokeh.mpl\n",
    "#import bokeh.plotting\n",
    "#bokeh.io.output_notebook()\n",
    "\n",
    "from pylmgc90 import pre\n"
   ]
  },
  {
   "cell_type": "markdown",
   "metadata": {
    "slideshow": {
     "slide_type": "slide"
    }
   },
   "source": [
    "For this tutorial we need a function able to draw circles."
   ]
  },
  {
   "cell_type": "code",
   "execution_count": null,
   "metadata": {
    "slideshow": {
     "slide_type": "fragment"
    }
   },
   "outputs": [],
   "source": [
    "def draw(coor,radii,fill=True):\n",
    "\n",
    "    plt.axes()\n",
    "    a=plt.gca() \n",
    "    for r, c in zip(radii, coor):\n",
    "        circle = plt.Circle((c[0], c[1]), radius=r, fc='y', fill=fill)\n",
    "        a.add_patch(circle)\n",
    "    plt.axis('scaled')\n",
    "    plt.show()\n"
   ]
  },
  {
   "cell_type": "markdown",
   "metadata": {
    "slideshow": {
     "slide_type": "slide"
    }
   },
   "source": [
    "Nice we can draw ... Mickey Mouse !\n",
    "\n",
    "You may try to add the `fill=False` argument to the `plt.Circle` function call."
   ]
  },
  {
   "cell_type": "code",
   "execution_count": null,
   "metadata": {
    "slideshow": {
     "slide_type": "fragment"
    }
   },
   "outputs": [],
   "source": [
    "coor=np.array([[0., 0.],[1.,1.],[-1.,1.],[0.,0.],[0.5,0.5],[-0.5,0.5]])\n",
    "rayon=[1.,0.5,0.5,0.2,0.1,0.3]\n",
    "draw(coor,rayon,)\n"
   ]
  },
  {
   "cell_type": "markdown",
   "metadata": {
    "slideshow": {
     "slide_type": "slide"
    }
   },
   "source": [
    "Lets consider a more interesting problem. We need a set of radius."
   ]
  },
  {
   "cell_type": "code",
   "execution_count": null,
   "metadata": {
    "slideshow": {
     "slide_type": "fragment"
    }
   },
   "outputs": [],
   "source": [
    "# Generating a list of radius\n",
    "nb_particles = 5000\n",
    "radius_min   = 1.0\n",
    "radius_max   = 2.5\n",
    "ref_radii    = pre.granulo_Random(nb_particles, radius_min, radius_max)\n"
   ]
  },
  {
   "cell_type": "markdown",
   "metadata": {
    "slideshow": {
     "slide_type": "slide"
    }
   },
   "source": [
    "Now we have to compute the positions of these disks."
   ]
  },
  {
   "cell_type": "code",
   "execution_count": null,
   "metadata": {
    "scrolled": true,
    "slideshow": {
     "slide_type": "fragment"
    }
   },
   "outputs": [],
   "source": [
    "case=4\n",
    "\n",
    "if case == 0:\n",
    "    # putting particles in a box [0.,0.]*[150.,100.]\n",
    "    lx = 15.\n",
    "    ly = 20.\n",
    "    nb_laid_particles, coors, radii = pre.depositInBox2D(ref_radii,lx,ly)\n",
    "\n",
    "elif case == 1:\n",
    "    rext=150.  \n",
    "    nb_laid_particles, coors, radii = pre.depositInDisk2D(ref_radii, rext)\n",
    "\n",
    "elif case == 2:\n",
    "    rext=150.\n",
    "    rint=100.\n",
    "    nb_laid_particles, coors, radii = pre.depositInCouette2D(ref_radii, rint, rext)\n",
    "\n",
    "elif case == 3:\n",
    "    rext=150.\n",
    "    nb_laid_particles, coors, radii = pre.depositInDrum2D(ref_radii,rext)\n",
    "\n",
    "elif case == 4:\n",
    "    # putting particles on a square lattice\n",
    "    coors = pre.squareLattice2D(10, 10, 2*radius_max, x0=0., y0=0.)\n",
    "\n",
    "elif case == 5:\n",
    "    coors = pre.triangularLattice2D(20, 20, 2*radius_max, x0=0., y0=0.)\n"
   ]
  },
  {
   "cell_type": "markdown",
   "metadata": {
    "slideshow": {
     "slide_type": "slide"
    }
   },
   "source": [
    "Before drawing, some reminder:\n",
    "* the `radii` variable may be modified on output (read the documentation of the deposit functions)\n",
    "* especially for the Couette deposit, you may need more particles to obtain what you intend (around 3000 for the default values).\n",
    "\n",
    "Now let's draw"
   ]
  },
  {
   "cell_type": "code",
   "execution_count": null,
   "metadata": {
    "slideshow": {
     "slide_type": "fragment"
    }
   },
   "outputs": [],
   "source": [
    "print('Real number of particles: ',np.shape(radii))\n",
    "\n",
    "# drawing \n",
    "draw(coors,radii) #,lx,ly)\n"
   ]
  },
  {
   "cell_type": "code",
   "execution_count": null,
   "metadata": {},
   "outputs": [],
   "source": []
  }
 ],
 "metadata": {
  "celltoolbar": "Slideshow",
  "kernelspec": {
   "display_name": "Python 3",
   "language": "python",
   "name": "python3"
  },
  "language_info": {
   "codemirror_mode": {
    "name": "ipython",
    "version": 3
   },
   "file_extension": ".py",
   "mimetype": "text/x-python",
   "name": "python",
   "nbconvert_exporter": "python",
   "pygments_lexer": "ipython3",
   "version": "3.8.5"
  },
  "latex_envs": {
   "LaTeX_envs_menu_present": true,
   "autoclose": false,
   "autocomplete": true,
   "bibliofile": "biblio.bib",
   "cite_by": "apalike",
   "current_citInitial": 1,
   "eqLabelWithNumbers": true,
   "eqNumInitial": 0,
   "hotkeys": {
    "equation": "Ctrl-E",
    "itemize": "Ctrl-I"
   },
   "labels_anchors": false,
   "latex_user_defs": false,
   "report_style_numbering": false,
   "user_envs_cfg": false
  },
  "toc": {
   "base_numbering": 1,
   "nav_menu": {},
   "number_sections": true,
   "sideBar": true,
   "skip_h1_title": false,
   "title_cell": "Table of Contents",
   "title_sidebar": "Contents",
   "toc_cell": true,
   "toc_position": {},
   "toc_section_display": true,
   "toc_window_display": false
  },
  "varInspector": {
   "cols": {
    "lenName": 16,
    "lenType": 16,
    "lenVar": 40
   },
   "kernels_config": {
    "python": {
     "delete_cmd_postfix": "",
     "delete_cmd_prefix": "del ",
     "library": "var_list.py",
     "varRefreshCmd": "print(var_dic_list())"
    },
    "r": {
     "delete_cmd_postfix": ") ",
     "delete_cmd_prefix": "rm(",
     "library": "var_list.r",
     "varRefreshCmd": "cat(var_dic_list()) "
    }
   },
   "types_to_exclude": [
    "module",
    "function",
    "builtin_function_or_method",
    "instance",
    "_Feature"
   ],
   "window_display": false
  }
 },
 "nbformat": 4,
 "nbformat_minor": 1
}
