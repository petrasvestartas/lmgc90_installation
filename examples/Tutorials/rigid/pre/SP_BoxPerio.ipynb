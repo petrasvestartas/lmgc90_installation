{
 "cells": [
  {
   "cell_type": "markdown",
   "metadata": {},
   "source": [
    "# Deposit in a periodic box"
   ]
  },
  {
   "cell_type": "code",
   "execution_count": null,
   "metadata": {},
   "outputs": [],
   "source": [
    "from pathlib import Path\n",
    "\n",
    "import numpy as np\n",
    "\n",
    "from pylmgc90 import pre\n",
    "\n",
    "datbox = Path('./DATBOX')\n",
    "datbox.mkdir(exist_ok=True)"
   ]
  },
  {
   "cell_type": "markdown",
   "metadata": {},
   "source": [
    "Creating container"
   ]
  },
  {
   "cell_type": "code",
   "execution_count": null,
   "metadata": {},
   "outputs": [],
   "source": [
    "# 3D case\n",
    "dim = 3\n",
    "\n",
    "# containers creation\n",
    "#   * for the bodies\n",
    "bodies  = pre.avatars()\n",
    "bodies2 = pre.avatars()\n",
    "#   * for the materials\n",
    "mats = pre.materials()\n",
    "#   * for the models\n",
    "mods = pre.models()\n",
    "#   * for the visibility tables\n",
    "svs = pre.see_tables()\n",
    "#   * for the contact laws\n",
    "tacts = pre.tact_behavs()"
   ]
  },
  {
   "cell_type": "markdown",
   "metadata": {},
   "source": [
    "Creating materials and model"
   ]
  },
  {
   "cell_type": "code",
   "execution_count": null,
   "metadata": {},
   "outputs": [],
   "source": [
    "# creation of two materials:\n",
    "#   * for the spheres\n",
    "plex = pre.material(name='PLEXx', materialType='RIGID', density=100.)\n",
    "mats.addMaterial(plex)\n",
    "#   * for the walls\n",
    "tdur = pre.material(name='TDURx', materialType='RIGID', density=1000.)\n",
    "mats.addMaterial(tdur)\n",
    "\n",
    "# creation of rigid model in 3D\n",
    "mod = pre.model(name='rigid', physics='MECAx', element='Rxx3D', dimension=dim)\n",
    "mods.addModel(mod)"
   ]
  },
  {
   "cell_type": "markdown",
   "metadata": {},
   "source": [
    "Generating particles"
   ]
  },
  {
   "cell_type": "code",
   "execution_count": null,
   "metadata": {},
   "outputs": [],
   "source": [
    "# variables initialisation to deposit on a cubic grid:\n",
    "\n",
    "# the number of particles to generate\n",
    "nb_particles = 1000\n",
    "\n",
    "# granulometry definition\n",
    "\n",
    "# random distribution in [0.5, 2.[ \n",
    "#seed = list(range(33))\n",
    "radii = pre.granulo_Random(nb_particles, 0.5, 2.)#, seed)\n",
    "\n",
    "# minimum and maximum radii\n",
    "radius_min = np.min(radii)\n",
    "radius_max = np.max(radii)"
   ]
  },
  {
   "cell_type": "markdown",
   "metadata": {},
   "source": [
    "Computing grains positions"
   ]
  },
  {
   "cell_type": "code",
   "execution_count": null,
   "metadata": {},
   "outputs": [],
   "source": [
    "# deposit of particles under gravity load in a box\n",
    "lx = 15.\n",
    "ly = 15.\n",
    "lz = 10.\n",
    "nb_comp_particles, coor, radii = pre.depositInBox3D(radii, lx, ly, lz)\n",
    "\n",
    "# warning if not all particles were deposited\n",
    "if (nb_comp_particles < nb_particles):\n",
    "    print(\"Warning: granulometry changed, since some particles cannot be deposited!\")\n",
    "\n",
    "# addition of spheres loop:\n",
    "for r, c in zip(radii, coor):\n",
    "    # new rigid sphere creation\n",
    "    body = pre.rigidSphere(r=r, center=c, model=mod, material=plex, color='BLUEx')\n",
    "    # addint the sphere to the avatar container\n",
    "    bodies += body\n",
    "\n",
    "# adding spheres of the inferior wall loop:\n",
    "import itertools\n",
    "X = np.arange(0., lx, radius_min)\n",
    "Y = np.arange(0., ly, radius_min)\n",
    "for x, y in itertools.product(X,Y):\n",
    "    center=[x,y,-radius_min]\n",
    "    # new rigid disk creation, made of plex material\n",
    "    body2 = pre.rigidSphere(r=radius_min, center=center, \n",
    "                            model=mod, material=tdur, color='GREEN') \n",
    "    body2.imposeDrivenDof(component=[1,2,3,4,5,6], dofty='vlocy')\n",
    "    # adding new body to the avatar container\n",
    "    bodies2 += body2\n",
    "\n",
    "bodies+=bodies2"
   ]
  },
  {
   "cell_type": "markdown",
   "metadata": {},
   "source": [
    "Defining interaction laws and see tables"
   ]
  },
  {
   "cell_type": "code",
   "execution_count": null,
   "metadata": {},
   "outputs": [],
   "source": [
    "# interactions management:\n",
    "#   * law declaration\n",
    "#       - between particles\n",
    "lspsp = pre.tact_behav(name='iqsc0', law='IQS_CLB', fric=0.3)\n",
    "tacts+= lspsp\n",
    "#       - with the walls\n",
    "lsppl = pre.tact_behav(name='iqsc1', law='IQS_CLB', fric=0.5)\n",
    "tacts+= lsppl\n",
    "#   * visibility tables declaration\n",
    "#       - between particles\n",
    "svspsp = pre.see_table(CorpsCandidat   ='RBDY3', candidat   ='SPHER', colorCandidat   ='BLUEx',\n",
    "                       CorpsAntagoniste='RBDY3', antagoniste='SPHER', colorAntagoniste='BLUEx',\n",
    "                       behav=lspsp, alert=0.1*radius_min)\n",
    "svs+=svspsp\n",
    "#       - with the walls\n",
    "svsppl = pre.see_table(CorpsCandidat   ='RBDY3', candidat   ='SPHER', colorCandidat   ='BLUEx',\n",
    "                       CorpsAntagoniste='RBDY3', antagoniste='SPHER', colorAntagoniste='GREEN',\n",
    "                       behav=lsppl, alert=0.1*radius_min)\n",
    "svs+=svsppl"
   ]
  },
  {
   "cell_type": "markdown",
   "metadata": {},
   "source": [
    "Adding some post-processing commands"
   ]
  },
  {
   "cell_type": "code",
   "execution_count": null,
   "metadata": {},
   "outputs": [],
   "source": [
    "post = pre.postpro_commands()\n",
    "\n",
    "list_tracking = []\n",
    "for i in range(1,8):\n",
    "    list_tracking.append(bodies[i])\n",
    "\n",
    "post.addCommand( pre.postpro_command(name='SOLVER INFORMATIONS', step=1) )\n",
    "post.addCommand( pre.postpro_command(name='VIOLATION EVOLUTION', step=1) )\n",
    "post.addCommand( pre.postpro_command(name='BODY TRACKING', step=1, rigid_set=list_tracking) )"
   ]
  },
  {
   "cell_type": "markdown",
   "metadata": {},
   "source": [
    "Writing files"
   ]
  },
  {
   "cell_type": "code",
   "execution_count": null,
   "metadata": {},
   "outputs": [],
   "source": [
    "# writting files\n",
    "pre.writeDatbox(dim, mats, mods, bodies, tacts, svs, post=post, datbox_path=datbox)"
   ]
  },
  {
   "cell_type": "markdown",
   "metadata": {},
   "source": [
    "Vizualisation of the sample "
   ]
  },
  {
   "cell_type": "code",
   "execution_count": null,
   "metadata": {},
   "outputs": [],
   "source": [
    "try:\n",
    "    pre.visuAvatars(bodies)\n",
    "except:\n",
    "    pass"
   ]
  },
  {
   "cell_type": "markdown",
   "metadata": {},
   "source": [
    "# Computation"
   ]
  },
  {
   "cell_type": "code",
   "execution_count": null,
   "metadata": {},
   "outputs": [],
   "source": [
    "dim = 3\n",
    "\n",
    "# time evolution parameters\n",
    "dt = 1e-3\n",
    "nb_steps = 500\n",
    "\n",
    "# theta integrator parameter\n",
    "theta = 0.5\n",
    "\n",
    "# nlgs parameters\n",
    "tol    = 1e-4\n",
    "relax  = 1.0\n",
    "norm   = 'Quad '\n",
    "gs_it1 = 500\n",
    "gs_it2 = 10\n",
    "stype  = 'Stored_Delassus_Loops         '\n",
    "\n",
    "# write parameter\n",
    "freq_write   = 10\n",
    "\n",
    "# display parameters\n",
    "freq_display = 10\n",
    "\n",
    "xperiode = 15.\n",
    "yperiode = 15."
   ]
  },
  {
   "cell_type": "code",
   "execution_count": null,
   "metadata": {},
   "outputs": [],
   "source": [
    "from pylmgc90 import chipy\n",
    "from pylmgc90.chipy import computation\n",
    "\n",
    "computation.initialize(dim, dt, theta)\n",
    "\n",
    "chipy.SetPeriodicCondition(xperiode,yperiode)\n",
    "\n",
    "for k in range( 1, nb_steps+1 ):\n",
    "    if k%50 == 0:\n",
    "        print( f\"computing step {k}\" )\n",
    "    computation.one_step(stype, norm, tol ,relax, gs_it1, gs_it2, freq_write, freq_display)\n",
    "computation.finalize()"
   ]
  },
  {
   "cell_type": "code",
   "execution_count": null,
   "metadata": {},
   "outputs": [],
   "source": [
    "!paraview"
   ]
  },
  {
   "cell_type": "code",
   "execution_count": null,
   "metadata": {},
   "outputs": [],
   "source": []
  }
 ],
 "metadata": {
  "kernelspec": {
   "display_name": "Python 3 (ipykernel)",
   "language": "python",
   "name": "python3"
  },
  "language_info": {
   "codemirror_mode": {
    "name": "ipython",
    "version": 3
   },
   "file_extension": ".py",
   "mimetype": "text/x-python",
   "name": "python",
   "nbconvert_exporter": "python",
   "pygments_lexer": "ipython3",
   "version": "3.10.12"
  },
  "latex_envs": {
   "LaTeX_envs_menu_present": true,
   "autoclose": false,
   "autocomplete": true,
   "bibliofile": "biblio.bib",
   "cite_by": "apalike",
   "current_citInitial": 1,
   "eqLabelWithNumbers": true,
   "eqNumInitial": 1,
   "hotkeys": {
    "equation": "Ctrl-E",
    "itemize": "Ctrl-I"
   },
   "labels_anchors": false,
   "latex_user_defs": false,
   "report_style_numbering": false,
   "user_envs_cfg": false
  },
  "toc": {
   "base_numbering": 1,
   "nav_menu": {},
   "number_sections": true,
   "sideBar": true,
   "skip_h1_title": false,
   "title_cell": "Table of Contents",
   "title_sidebar": "Contents",
   "toc_cell": false,
   "toc_position": {},
   "toc_section_display": true,
   "toc_window_display": false
  },
  "varInspector": {
   "cols": {
    "lenName": 16,
    "lenType": 16,
    "lenVar": 40
   },
   "kernels_config": {
    "python": {
     "delete_cmd_postfix": "",
     "delete_cmd_prefix": "del ",
     "library": "var_list.py",
     "varRefreshCmd": "print(var_dic_list())"
    },
    "r": {
     "delete_cmd_postfix": ") ",
     "delete_cmd_prefix": "rm(",
     "library": "var_list.r",
     "varRefreshCmd": "cat(var_dic_list()) "
    }
   },
   "types_to_exclude": [
    "module",
    "function",
    "builtin_function_or_method",
    "instance",
    "_Feature"
   ],
   "window_display": false
  }
 },
 "nbformat": 4,
 "nbformat_minor": 4
}
