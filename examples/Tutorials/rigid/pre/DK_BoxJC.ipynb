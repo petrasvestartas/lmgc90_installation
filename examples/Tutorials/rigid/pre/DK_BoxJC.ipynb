{
 "cells": [
  {
   "cell_type": "markdown",
   "metadata": {
    "toc": true
   },
   "source": [
    "<h1>Table of Contents<span class=\"tocSkip\"></span></h1>\n",
    "<div class=\"toc\"><ul class=\"toc-item\"><li><span><a href=\"#Biaxial-compression-of-a-rectangular-box-filled-with-disks\" data-toc-modified-id=\"Biaxial-compression-of-a-rectangular-box-filled-with-disks-1\"><span class=\"toc-item-num\">1&nbsp;&nbsp;</span>Biaxial compression of a rectangular box filled with disks</a></span><ul class=\"toc-item\"><li><span><a href=\"#Pre-processing\" data-toc-modified-id=\"Pre-processing-1.1\"><span class=\"toc-item-num\">1.1&nbsp;&nbsp;</span>Pre-processing</a></span></li></ul></li><li><span><a href=\"#Computation\" data-toc-modified-id=\"Computation-2\"><span class=\"toc-item-num\">2&nbsp;&nbsp;</span>Computation</a></span></li></ul></div>"
   ]
  },
  {
   "cell_type": "markdown",
   "metadata": {
    "slideshow": {
     "slide_type": "slide"
    }
   },
   "source": [
    "# Biaxial compression of a rectangular box filled with disks"
   ]
  },
  {
   "cell_type": "markdown",
   "metadata": {},
   "source": [
    "F. Dubois - 2016"
   ]
  },
  {
   "cell_type": "markdown",
   "metadata": {
    "slideshow": {
     "slide_type": "slide"
    }
   },
   "source": [
    "## Pre-processing"
   ]
  },
  {
   "cell_type": "markdown",
   "metadata": {
    "slideshow": {
     "slide_type": "fragment"
    }
   },
   "source": [
    "Initialisations"
   ]
  },
  {
   "cell_type": "code",
   "execution_count": null,
   "metadata": {
    "slideshow": {
     "slide_type": "fragment"
    }
   },
   "outputs": [],
   "source": [
    "from pathlib import Path\n",
    "import math\n",
    "import numpy as np\n",
    "\n",
    "from pylmgc90 import pre\n",
    "\n",
    "datbox = Path('DATBOX')\n",
    "datbox.mkdir(exist_ok=True)\n",
    "\n",
    "# 2D\n",
    "dim = 2"
   ]
  },
  {
   "cell_type": "markdown",
   "metadata": {
    "collapsed": true,
    "slideshow": {
     "slide_type": "slide"
    }
   },
   "source": [
    "Defining empty containers"
   ]
  },
  {
   "cell_type": "code",
   "execution_count": null,
   "metadata": {
    "slideshow": {
     "slide_type": "fragment"
    }
   },
   "outputs": [],
   "source": [
    "# containers\n",
    "#   * bodies\n",
    "bodies = pre.avatars()\n",
    "#   * models\n",
    "mods = pre.models()\n",
    "#   * materials\n",
    "mats = pre.materials()\n",
    "#   * see tables\n",
    "svs  = pre.see_tables()\n",
    "#   * contact laws\n",
    "tacts = pre.tact_behavs()"
   ]
  },
  {
   "cell_type": "markdown",
   "metadata": {
    "slideshow": {
     "slide_type": "slide"
    }
   },
   "source": [
    "Defining model and material"
   ]
  },
  {
   "cell_type": "code",
   "execution_count": null,
   "metadata": {
    "slideshow": {
     "slide_type": "fragment"
    }
   },
   "outputs": [],
   "source": [
    "# creation of a rigid model\n",
    "mod = pre.model(name='rigid', physics='MECAx', element='Rxx2D', dimension=dim)\n",
    "mods.addModel(mod)\n",
    "# creation of two materials\n",
    "tdur = pre.material(name='TDURx',materialType='RIGID',density=1000.)\n",
    "plex = pre.material(name='PLEXx',materialType='RIGID',density=100.)\n",
    "mats.addMaterial(tdur,plex)"
   ]
  },
  {
   "cell_type": "markdown",
   "metadata": {
    "slideshow": {
     "slide_type": "slide"
    }
   },
   "source": [
    "Generating particles"
   ]
  },
  {
   "cell_type": "code",
   "execution_count": null,
   "metadata": {
    "slideshow": {
     "slide_type": "fragment"
    }
   },
   "outputs": [],
   "source": [
    "# 1000 particles generation\n",
    "nb_particles=1000\n",
    "\n",
    "# random distribution in [0.5, 2.[ \n",
    "radii=pre.granulo_Random(nb_particles, 0.5, 2.)\n",
    "\n",
    "# minimum and maximum radii\n",
    "radius_min= np.amin(radii)\n",
    "radius_max= np.amax(radii)"
   ]
  },
  {
   "cell_type": "markdown",
   "metadata": {
    "slideshow": {
     "slide_type": "slide"
    }
   },
   "source": [
    "Putting it in a box "
   ]
  },
  {
   "cell_type": "code",
   "execution_count": null,
   "metadata": {
    "slideshow": {
     "slide_type": "fragment"
    }
   },
   "outputs": [],
   "source": [
    "# deposit in a rectangular box\n",
    "lx = 75.\n",
    "ly = 50. \n",
    "nb_remaining_particles, coor, radii = pre.depositInBox2D(radii, lx, ly)\n",
    "\n",
    "# check if all particles were deposited\n",
    "if (nb_remaining_particles < nb_particles):\n",
    "    print(\"Warning: granulometry changed, since some particles were removed!\")\n",
    "\n",
    "# disk addition loop:\n",
    "for r, c in zip(radii, coor):\n",
    "    # creation of a new rigid disk made of 'plex' material\n",
    "    body=pre.rigidDisk(r=r, center=c, model=mod, material=plex, color='BLUEx') \n",
    "    # add the disk to the avatar container\n",
    "    bodies += body"
   ]
  },
  {
   "cell_type": "markdown",
   "metadata": {
    "slideshow": {
     "slide_type": "slide"
    }
   },
   "source": [
    "Adding some \"walls\" to the box"
   ]
  },
  {
   "cell_type": "code",
   "execution_count": null,
   "metadata": {},
   "outputs": [],
   "source": [
    "# add a smooth box, i.e made of JONCx:\n",
    "\n",
    "# declaring one body per wall\n",
    "down = pre.rigidJonc(axe1=0.5*lx+radius_max, axe2=radius_max, center=[0.5*lx, -radius_max],\n",
    "                     model=mod, material=tdur, color='WALLx')\n",
    "up   = pre.rigidJonc(axe1=0.5*lx+radius_max, axe2=radius_max, center=[0.5*lx, ly+radius_max],\n",
    "                     model=mod, material=tdur, color='WALLx')\n",
    "left = pre.rigidJonc(axe1=0.5*ly+radius_max, axe2=radius_max, center=[-radius_max, 0.5*ly],\n",
    "                     model=mod, material=tdur, color='WALLx')\n",
    "right= pre.rigidJonc(axe1=0.5*ly+radius_max, axe2=radius_max, center=[lx+radius_max, 0.5*ly],\n",
    "                     model=mod, material=tdur, color='WALLx')\n",
    "\n",
    "# rotating the vertical walls (with respect to the its inertia center)\n",
    "left.rotate(psi=-math.pi/2., center=left.nodes[1].coor)\n",
    "right.rotate(psi=math.pi/2., center=right.nodes[1].coor)\n",
    "\n",
    "# fix walls\n",
    "down.imposeDrivenDof(component=[1, 2, 3], dofty='vlocy')\n",
    "up.imposeDrivenDof(component=[1, 3], dofty='vlocy')\n",
    "left.imposeDrivenDof(component=[1, 2, 3], dofty='vlocy')\n",
    "right.imposeDrivenDof(component=[2, 3], dofty='vlocy')\n",
    "\n",
    "# add the walls to the avatar container\n",
    "bodies += down; bodies += up; bodies += left; bodies += right"
   ]
  },
  {
   "cell_type": "markdown",
   "metadata": {},
   "source": [
    "Applying loads"
   ]
  },
  {
   "cell_type": "code",
   "execution_count": null,
   "metadata": {},
   "outputs": [],
   "source": [
    "# predefined : [ ct + amp * cos(omega*t+phi) ] * sgn(rampi + ramp*t) * min(abs(rampi + ramp*t), 1)\n",
    "\n",
    "up.imposeDrivenDof(component=2, dofty='force',description='predefined',\n",
    "                   ct=10.0, amp=0.0, omega=0.0, phi=0.0, rampi=1.0, ramp=0.0)\n",
    "\n",
    "# evolution : giving a file containing t,f(t)\n",
    "\n",
    "right.imposeDrivenDof(component=1,dofty='vlocy',description='evolution',evolutionFile='vx.dat')\n",
    "\n",
    "# more details:\n",
    "# help(up.imposeDrivenDof)"
   ]
  },
  {
   "cell_type": "markdown",
   "metadata": {},
   "source": [
    "Building an evolution file:"
   ]
  },
  {
   "cell_type": "code",
   "execution_count": null,
   "metadata": {},
   "outputs": [],
   "source": [
    "t0=0.5\n",
    "t1 =1.\n",
    "vx =0.1\n",
    "\n",
    "def imposedVx(t):\n",
    "    # 0 until t0\n",
    "    if t <= t0:\n",
    "        return 0.\n",
    "    # linear growing between [t0, t1]\n",
    "    elif t > t0 and t <= t1:\n",
    "        return -vx*(t-t0)/(t1-t0)\n",
    "    # constant value afterward\n",
    "    else:\n",
    "        return -vx\n",
    "\n",
    "pre.writeEvolution(f=imposedVx, instants=np.linspace(0., 2*t1, 1000) ,path='DATBOX/', name='vx.dat')"
   ]
  },
  {
   "cell_type": "markdown",
   "metadata": {
    "slideshow": {
     "slide_type": "slide"
    }
   },
   "source": [
    "Defining contact laws and see tables"
   ]
  },
  {
   "cell_type": "code",
   "execution_count": null,
   "metadata": {
    "slideshow": {
     "slide_type": "fragment"
    }
   },
   "outputs": [],
   "source": [
    "# interaction management:\n",
    "#   * law declaration\n",
    "#       - between particles\n",
    "ldkdk = pre.tact_behav(name='iqsc0',law='IQS_CLB',fric=0.3)\n",
    "tacts+= ldkdk\n",
    "#       - with walls\n",
    "ldkjc = pre.tact_behav(name='iqsc1',law='IQS_CLB',fric=0.5)\n",
    "tacts+= ldkjc\n",
    "\n",
    "# see possible tact_behav\n",
    "print(pre.config.lmgc90dicts.tactBehavOptions.keys())\n",
    "# parameters of 'VEL_SGR_CLB'\n",
    "print(pre.config.lmgc90dicts.tactBehavOptions['VEL_SGR_CLB'])"
   ]
  },
  {
   "cell_type": "markdown",
   "metadata": {},
   "source": [
    "Defining see tables"
   ]
  },
  {
   "cell_type": "code",
   "execution_count": null,
   "metadata": {},
   "outputs": [],
   "source": [
    "#   * visibility table declaration\n",
    "#       - between particles\n",
    "svdkdk = pre.see_table(CorpsCandidat   ='RBDY2', candidat   ='DISKx', colorCandidat   ='BLUEx', behav=ldkdk,\n",
    "                       CorpsAntagoniste='RBDY2', antagoniste='DISKx', colorAntagoniste='BLUEx',\n",
    "                       alert=0.1*radius_min)\n",
    "svs+=svdkdk\n",
    "#       - with walls\n",
    "svdkjc = pre.see_table(CorpsCandidat   ='RBDY2', candidat   ='DISKx', colorCandidat   ='BLUEx', behav=ldkjc,\n",
    "                       CorpsAntagoniste='RBDY2', antagoniste='JONCx', colorAntagoniste='WALLx',\n",
    "                       alert=0.1*radius_min)\n",
    "svs+=svdkjc"
   ]
  },
  {
   "cell_type": "markdown",
   "metadata": {
    "slideshow": {
     "slide_type": "slide"
    }
   },
   "source": [
    "Writting to files"
   ]
  },
  {
   "cell_type": "code",
   "execution_count": null,
   "metadata": {
    "slideshow": {
     "slide_type": "fragment"
    }
   },
   "outputs": [],
   "source": [
    "# writting files\n",
    "pre.writeDatbox(dim, mats, mods, bodies, tacts, svs, datbox_path='DATBOX')"
   ]
  },
  {
   "cell_type": "markdown",
   "metadata": {
    "slideshow": {
     "slide_type": "slide"
    }
   },
   "source": [
    "Displaying"
   ]
  },
  {
   "cell_type": "code",
   "execution_count": null,
   "metadata": {
    "slideshow": {
     "slide_type": "fragment"
    }
   },
   "outputs": [],
   "source": [
    "#try:\n",
    "#    pre.visuAvatars(bodies)\n",
    "#except:\n",
    "#    pass"
   ]
  },
  {
   "cell_type": "markdown",
   "metadata": {},
   "source": [
    "Postprocessing"
   ]
  },
  {
   "cell_type": "code",
   "execution_count": null,
   "metadata": {},
   "outputs": [],
   "source": [
    "post=pre.postpro_commands()\n",
    "post.addCommand(pre.postpro_command(name='SOLVER INFORMATIONS', step=1))\n",
    "post.addCommand(pre.postpro_command(name='VIOLATION EVOLUTION', step=1))\n",
    "pre.writePostpro(commands=post, parts=bodies, path='DATBOX/')\n",
    "\n",
    "# possible commands\n",
    "print(pre.config.lmgc90dicts.commandOptions.keys())\n",
    "# parameters of 'BODY TRACKING'\n",
    "print(pre.config.lmgc90dicts.commandOptions['BODY TRACKING'])"
   ]
  },
  {
   "cell_type": "markdown",
   "metadata": {},
   "source": [
    "# Computation\n",
    "\n",
    "To run a the corresponding computation, just to check that the model is alright, the following cells can be run:"
   ]
  },
  {
   "cell_type": "code",
   "execution_count": null,
   "metadata": {},
   "outputs": [],
   "source": [
    "dim = 2\n",
    "\n",
    "# time evolution parameters\n",
    "dt = 1e-3\n",
    "nb_steps = 500\n",
    "\n",
    "# theta integrator parameter\n",
    "theta = 0.5\n",
    "\n",
    "# nlgs parameters\n",
    "tol    = 1e-4\n",
    "relax  = 1.0\n",
    "norm   = 'Quad '\n",
    "gs_it1 = 500\n",
    "gs_it2 = 10\n",
    "stype  = 'Stored_Delassus_Loops         '\n",
    "\n",
    "# write parameter\n",
    "freq_write   = 10\n",
    "#freq_write   =  5\n",
    "\n",
    "# display parameters\n",
    "freq_display = 10"
   ]
  },
  {
   "cell_type": "code",
   "execution_count": null,
   "metadata": {},
   "outputs": [],
   "source": [
    "from pylmgc90.chipy import computation\n",
    "help(computation.initialize)\n",
    "help(computation.one_step)"
   ]
  },
  {
   "cell_type": "code",
   "execution_count": null,
   "metadata": {},
   "outputs": [],
   "source": [
    "computation.initialize(dim, dt, theta)\n",
    "#computation.initialize(dim, dt, theta, restart=50)\n",
    "#computation.initialize(dim, dt, theta, restart=(100,51))\n",
    "for k in range( 1, nb_steps+1 ):\n",
    "    if k%50 == 0:\n",
    "        print( f\"computing step {k}\" )\n",
    "    computation.one_step(stype, norm, tol ,relax, gs_it1, gs_it2, freq_write, freq_display)\n",
    "computation.finalize()"
   ]
  },
  {
   "cell_type": "code",
   "execution_count": null,
   "metadata": {},
   "outputs": [],
   "source": [
    "!paraview"
   ]
  }
 ],
 "metadata": {
  "celltoolbar": "Slideshow",
  "kernelspec": {
   "display_name": "lmgc90_dev",
   "language": "python",
   "name": "lmgc90_dev"
  },
  "language_info": {
   "codemirror_mode": {
    "name": "ipython",
    "version": 3
   },
   "file_extension": ".py",
   "mimetype": "text/x-python",
   "name": "python",
   "nbconvert_exporter": "python",
   "pygments_lexer": "ipython3",
   "version": "3.10.12"
  },
  "latex_envs": {
   "LaTeX_envs_menu_present": true,
   "autoclose": false,
   "autocomplete": true,
   "bibliofile": "biblio.bib",
   "cite_by": "apalike",
   "current_citInitial": 1,
   "eqLabelWithNumbers": true,
   "eqNumInitial": 0,
   "hotkeys": {
    "equation": "Ctrl-E",
    "itemize": "Ctrl-I"
   },
   "labels_anchors": false,
   "latex_user_defs": false,
   "report_style_numbering": false,
   "user_envs_cfg": false
  },
  "toc": {
   "base_numbering": 1,
   "nav_menu": {},
   "number_sections": true,
   "sideBar": true,
   "skip_h1_title": false,
   "title_cell": "Table of Contents",
   "title_sidebar": "Contents",
   "toc_cell": true,
   "toc_position": {},
   "toc_section_display": true,
   "toc_window_display": false
  },
  "varInspector": {
   "cols": {
    "lenName": 16,
    "lenType": 16,
    "lenVar": 40
   },
   "kernels_config": {
    "python": {
     "delete_cmd_postfix": "",
     "delete_cmd_prefix": "del ",
     "library": "var_list.py",
     "varRefreshCmd": "print(var_dic_list())"
    },
    "r": {
     "delete_cmd_postfix": ") ",
     "delete_cmd_prefix": "rm(",
     "library": "var_list.r",
     "varRefreshCmd": "cat(var_dic_list()) "
    }
   },
   "types_to_exclude": [
    "module",
    "function",
    "builtin_function_or_method",
    "instance",
    "_Feature"
   ],
   "window_display": false
  }
 },
 "nbformat": 4,
 "nbformat_minor": 1
}
