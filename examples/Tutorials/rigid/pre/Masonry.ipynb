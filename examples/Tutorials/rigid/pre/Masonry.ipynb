{
 "cells": [
  {
   "cell_type": "markdown",
   "metadata": {
    "toc": true
   },
   "source": [
    "<h1>Table of Contents<span class=\"tocSkip\"></span></h1>\n",
    "<div class=\"toc\"><ul class=\"toc-item\"><li><span><a href=\"#Managing-2D-masonry-example\" data-toc-modified-id=\"Managing-2D-masonry-example-1\"><span class=\"toc-item-num\">1&nbsp;&nbsp;</span>Managing 2D masonry example</a></span><ul class=\"toc-item\"><li><span><a href=\"#Building-example\" data-toc-modified-id=\"Building-example-1.1\"><span class=\"toc-item-num\">1.1&nbsp;&nbsp;</span>Building example</a></span></li><li><span><a href=\"#Computation\" data-toc-modified-id=\"Computation-1.2\"><span class=\"toc-item-num\">1.2&nbsp;&nbsp;</span>Computation</a></span></li></ul></li><li><span><a href=\"#3D-example\" data-toc-modified-id=\"3D-example-2\"><span class=\"toc-item-num\">2&nbsp;&nbsp;</span>3D example</a></span><ul class=\"toc-item\"><li><span><a href=\"#Building-example\" data-toc-modified-id=\"Building-example-2.1\"><span class=\"toc-item-num\">2.1&nbsp;&nbsp;</span>Building example</a></span></li><li><span><a href=\"#Computation\" data-toc-modified-id=\"Computation-2.2\"><span class=\"toc-item-num\">2.2&nbsp;&nbsp;</span>Computation</a></span></li></ul></li></ul></div>"
   ]
  },
  {
   "cell_type": "markdown",
   "metadata": {
    "slideshow": {
     "slide_type": "slide"
    }
   },
   "source": [
    "# Managing 2D masonry example"
   ]
  },
  {
   "cell_type": "markdown",
   "metadata": {
    "slideshow": {
     "slide_type": "fragment"
    }
   },
   "source": [
    "F. Dubois"
   ]
  },
  {
   "cell_type": "markdown",
   "metadata": {
    "slideshow": {
     "slide_type": "slide"
    }
   },
   "source": [
    "## Building example"
   ]
  },
  {
   "cell_type": "code",
   "execution_count": null,
   "metadata": {},
   "outputs": [],
   "source": [
    "# basic loadings\n",
    "from pathlib import Path\n",
    "import math,copy\n",
    "\n",
    "import numpy as np\n",
    "\n",
    "from pylmgc90 import pre"
   ]
  },
  {
   "cell_type": "markdown",
   "metadata": {},
   "source": [
    "Creating a brick generator"
   ]
  },
  {
   "cell_type": "code",
   "execution_count": null,
   "metadata": {},
   "outputs": [],
   "source": [
    "dim = 2\n",
    "\n",
    "lx = 0.1\n",
    "ly = 0.05\n",
    "brick = pre.brick2D('std_brick', lx, ly)\n",
    "\n",
    "# what can brick2D generator do ? \n",
    "# help(brick)"
   ]
  },
  {
   "cell_type": "markdown",
   "metadata": {},
   "source": [
    "Creating a line of brick"
   ]
  },
  {
   "cell_type": "code",
   "execution_count": null,
   "metadata": {},
   "outputs": [],
   "source": [
    "nb_bricks = 12\n",
    "bodies = pre.avatars()\n",
    "mat = pre.material(name='PLEXx',materialType='RIGID',density=2000.)\n",
    "mod = pre.model(name='rigid', physics='MECAx', element='Rxx2D', dimension=dim)\n",
    "\n",
    "for i in range(nb_bricks):\n",
    "    bodies += brick.rigidBrick(center=[i*lx, ly/2.], model=mod, material=mat, color='BLUEx')\n",
    "\n",
    "# Draw\n",
    "pre.visuAvatars(bodies)"
   ]
  },
  {
   "cell_type": "markdown",
   "metadata": {},
   "source": [
    "Creating a wall with a window (pouah)"
   ]
  },
  {
   "cell_type": "code",
   "execution_count": null,
   "metadata": {},
   "outputs": [],
   "source": [
    "dim = 2\n",
    "\n",
    "bodies = pre.avatars()\n",
    "mat = pre.material(name='PLEXx',materialType='RIGID',density=2000.)\n",
    "mod = pre.model(name='rigid', physics='MECAx', element='Rxx2D', dimension=dim)\n",
    "\n",
    "# bricks, half-brick, linteau and opening definition\n",
    "brick      = pre.brick2D('brick',      1.e-1, 5.e-2)\n",
    "half_brick = pre.brick2D('half-brick', 5.e-2, 5.e-2)\n",
    "linteau    = pre.brick2D('linteau',    3.e-1, 5.e-2) \n",
    "ghost      = pre.brick2D('ghost',      2.e-1, 5.e-2)\n",
    "\n",
    "\n",
    "# joint thickness\n",
    "horizontal_joint_thickness = 0.001\n",
    "vertical_joint_thickness   = 0.001\n",
    "\n",
    "# rows definitions\n",
    "even_row        = [half_brick, brick, brick, brick, brick, half_brick]\n",
    "odd_row         = [brick, brick, brick, brick, brick]\n",
    "even_window_row = [half_brick, brick, ghost, brick, half_brick]\n",
    "odd_window_row  = [brick, half_brick, ghost, half_brick, brick]\n",
    "linteau_row     = [brick, linteau, brick]\n",
    "\n",
    "# wall as a list of rows\n",
    "wall = [even_row,\n",
    "        odd_row ,\n",
    "        even_row, \n",
    "        odd_row ,\n",
    "        even_window_row, \n",
    "        odd_window_row , \n",
    "        even_window_row, \n",
    "        linteau_row    , \n",
    "        even_row       ]\n",
    "\n",
    "\n",
    "# wall building :\n",
    "nb_bricks=0\n",
    "x=0.\n",
    "y=0.\n",
    "for j in range(0, len(wall), 1):\n",
    "    row = wall[j]\n",
    "    if j % 2 == 0:\n",
    "        color='BLUEx'\n",
    "    else:\n",
    "        color='REDxx'\n",
    "\n",
    "    x=0.\n",
    "    for i in range(0, len(row), 1):\n",
    "        nb_bricks += 1\n",
    "        brick = row[i]\n",
    "        if i == 0:\n",
    "            y += 0.5*brick.ly\n",
    "\n",
    "        x += 0.5*brick.lx\n",
    "        if brick.name != 'ghost':\n",
    "            bodies += brick.rigidBrick(center=[x, y], model=mod, material=mat, color=color)\n",
    "\n",
    "        x += 0.5*brick.lx + vertical_joint_thickness\n",
    "\n",
    "    y += 0.5*brick.ly + horizontal_joint_thickness\n",
    "\n",
    "## wall done... everything else (floor and other container)\n",
    "mods  = pre.models()\n",
    "mats  = pre.materials()\n",
    "svs   = pre.see_tables()\n",
    "tacts = pre.tact_behavs()\n",
    "\n",
    "mut = pre.material(name='TDURx',materialType='RIGID',density=2500.)\n",
    "mats.addMaterial(mat,mut)\n",
    "mods.addModel(mod)\n",
    "\n",
    "floor = pre.rigidJonc(axe1=3.e-1, axe2=2.5e-2, center=[2.5e-1, -2.5e-2], \n",
    "                      model=mod, material=mut, color='WALLx')\n",
    "floor.imposeDrivenDof(component=[1, 2, 3],dofty='vlocy')\n",
    "\n",
    "bodies += floor\n",
    "\n",
    "try:\n",
    "    pre.visuAvatars(bodies)\n",
    "except:\n",
    "    pass\n",
    "\n",
    "# interactions management :\n",
    "lplpl=pre.tact_behav(name='iqsc0',law='IQS_CLB',fric=0.3)\n",
    "tacts+=lplpl\n",
    "lpljc=pre.tact_behav(name='iqsc1',law='IQS_CLB',fric=0.5)\n",
    "tacts+=lpljc\n",
    "svbbbb = pre.see_table(CorpsCandidat='RBDY2',candidat='POLYG', colorCandidat='BLUEx',behav=lplpl,\n",
    "                       CorpsAntagoniste='RBDY2', antagoniste='POLYG',colorAntagoniste='BLUEx',alert=5.e-3)\n",
    "svs+=svbbbb\n",
    "svbrbr = pre.see_table(CorpsCandidat='RBDY2',candidat='POLYG', colorCandidat='REDxx',behav=lplpl,\n",
    "                       CorpsAntagoniste='RBDY2', antagoniste='POLYG',colorAntagoniste='REDxx',alert=5.e-3)\n",
    "svs+=svbrbr\n",
    "svbbbr = pre.see_table(CorpsCandidat='RBDY2',candidat='POLYG', colorCandidat='BLUEx',behav=lplpl, \n",
    "                       CorpsAntagoniste='RBDY2', antagoniste='POLYG',colorAntagoniste='REDxx',alert=5.e-3)\n",
    "svs+=svbbbr\n",
    "svpljc = pre.see_table(CorpsCandidat='RBDY2',candidat='POLYG', colorCandidat='BLUEx',behav=lpljc,\n",
    "                       CorpsAntagoniste='RBDY2', antagoniste='JONCx',colorAntagoniste='WALLx',alert=5.e-3)\n",
    "svs+=svpljc\n",
    "\n",
    "# file writing \n",
    "datbox = Path('./DATBOX')\n",
    "datbox.mkdir(exist_ok=True)"
   ]
  },
  {
   "cell_type": "code",
   "execution_count": null,
   "metadata": {},
   "outputs": [],
   "source": [
    "post = pre.postpro_commands()\n",
    "post.addCommand( pre.postpro_command(name='SOLVER INFORMATIONS', step=1))\n",
    "post.addCommand( pre.postpro_command(name='VIOLATION EVOLUTION', step=1))\n",
    "\n",
    "pre.writeDatbox(dim, mats, mods, bodies, tacts, svs, post=post, datbox_path=datbox)"
   ]
  },
  {
   "cell_type": "markdown",
   "metadata": {},
   "source": [
    "## Computation"
   ]
  },
  {
   "cell_type": "code",
   "execution_count": null,
   "metadata": {},
   "outputs": [],
   "source": [
    "from pylmgc90.chipy import computation"
   ]
  },
  {
   "cell_type": "code",
   "execution_count": null,
   "metadata": {},
   "outputs": [],
   "source": [
    "dim = 2\n",
    "\n",
    "# time evolution parameters\n",
    "dt = 1e-3\n",
    "nb_steps = 100\n",
    "\n",
    "# theta integrator parameter\n",
    "theta = 0.5\n",
    "\n",
    "# nlgs parameters\n",
    "tol    = 1e-4\n",
    "relax  = 1.0\n",
    "norm   = 'Quad '\n",
    "gs_it1 = 50\n",
    "gs_it2 = 10\n",
    "stype  = 'Stored_Delassus_Loops         '\n",
    "\n",
    "# write parameter\n",
    "freq_write   = 10\n",
    "\n",
    "# display parameters\n",
    "freq_display = 10"
   ]
  },
  {
   "cell_type": "code",
   "execution_count": null,
   "metadata": {},
   "outputs": [],
   "source": [
    "computation.initialize(dim, dt, theta)\n",
    "for k in range( 1, nb_steps+1 ):\n",
    "    if k%50 == 0:\n",
    "        print( f\"computing step {k}\" )\n",
    "    computation.one_step(stype, norm, tol ,relax, gs_it1, gs_it2, freq_write, freq_display)\n",
    "computation.finalize()"
   ]
  },
  {
   "cell_type": "markdown",
   "metadata": {
    "slideshow": {
     "slide_type": "slide"
    }
   },
   "source": [
    "# 3D example"
   ]
  },
  {
   "cell_type": "markdown",
   "metadata": {},
   "source": [
    "## Building example"
   ]
  },
  {
   "cell_type": "code",
   "execution_count": null,
   "metadata": {},
   "outputs": [],
   "source": [
    "# basic loadings\n",
    "from pathlib import Path\n",
    "import math,copy\n",
    "\n",
    "import numpy as np\n",
    "\n",
    "from pylmgc90 import pre"
   ]
  },
  {
   "cell_type": "code",
   "execution_count": null,
   "metadata": {},
   "outputs": [],
   "source": [
    "mods  = pre.models()\n",
    "mats  = pre.materials()\n",
    "svs   = pre.see_tables()\n",
    "tacts = pre.tact_behavs()"
   ]
  },
  {
   "cell_type": "markdown",
   "metadata": {},
   "source": [
    "Creating a 3D brick generator"
   ]
  },
  {
   "cell_type": "code",
   "execution_count": null,
   "metadata": {},
   "outputs": [],
   "source": [
    "dim = 3\n",
    "lx=0.22\n",
    "ly=0.11\n",
    "lz=0.06\n",
    "mat = pre.material(name='PLEXx',materialType='RIGID',density=2000.)\n",
    "mats+=mat\n",
    "mod = pre.model(name='rigid', physics='MECAx', element='Rxx3D', dimension=dim)\n",
    "mods+=mod\n",
    "\n",
    "\n",
    "simple_brick = pre.brick3D(name='brique simple', lx=lx, ly=ly, lz=lz)"
   ]
  },
  {
   "cell_type": "markdown",
   "metadata": {},
   "source": [
    "Creating a wall with a builtin function"
   ]
  },
  {
   "cell_type": "code",
   "execution_count": null,
   "metadata": {},
   "outputs": [],
   "source": [
    "# possible function\n",
    "# print help(pre.paneresse_simple)\n",
    "# print help(pre.paneresse_double)"
   ]
  },
  {
   "cell_type": "code",
   "execution_count": null,
   "metadata": {},
   "outputs": [],
   "source": [
    "wall   = pre.paneresse_simple(brick_ref=simple_brick, disposition=\"paneresse\")\n",
    "wall.setFirstRowByLength(first_brick_type=\"1/2\", length=10*lx, joint_thickness=0.0)\n",
    "wall.setNumberOfRows(10.)\n",
    "wall.setJointThicknessBetweenRows(0.01)\n",
    "wall.computeHeight()\n",
    "\n",
    "bodies = wall.buildRigidWall(origin=[0., 0., 0.], model=mod, material=mat, colors=['BLUEx', 'REDxx'])\n",
    "\n",
    "# Draw\n",
    "pre.visuAvatars(bodies)"
   ]
  },
  {
   "cell_type": "code",
   "execution_count": null,
   "metadata": {},
   "outputs": [],
   "source": [
    "bodies1 = wall.buildRigidWallWithoutHalfBricks(origin=[0., 0., 0.], model=mod, material=mat, colors=['BLUEx', 'REDxx'])\n",
    "\n",
    "# Draw\n",
    "pre.visuAvatars(bodies1)"
   ]
  },
  {
   "cell_type": "markdown",
   "metadata": {},
   "source": [
    "Da Silva le maçon"
   ]
  },
  {
   "cell_type": "code",
   "execution_count": null,
   "metadata": {},
   "outputs": [],
   "source": [
    "bodies2=copy.deepcopy(bodies1)\n",
    "\n",
    "#\n",
    "bodies2.translate(dy=9.5*lx)\n",
    "#bodies1.addAvatars(bodies2)\n",
    "for body in bodies2:\n",
    "    bodies1+=body\n",
    "\n",
    "wall.setFirstRowByLength(first_brick_type=\"1\", length=10*lx, joint_thickness=0.0)    \n",
    "    \n",
    "bodies3=wall.buildRigidWallWithoutHalfBricks(origin=[0., 0., 0.], model=mod, material=mat, colors=['BLUEx', 'REDxx'])\n",
    "bodies4=copy.deepcopy(bodies3)\n",
    "bodies4.translate(dy=9.5*lx)\n",
    "\n",
    "bodies3.rotate(description='axis', center=np.array([5*lx,5*lx,0.]), axis=[0.,0.,1.], alpha=math.pi/2.)\n",
    "bodies4.rotate(description='axis', center=np.array([5*lx,5*lx,0.]), axis=[0.,0.,1.], alpha=math.pi/2.)\n",
    "\n",
    "bodies1 += bodies3\n",
    "bodies1 += bodies4\n",
    "\n",
    "#for body in bodies3:\n",
    "#    bodies1+=body\n",
    "     \n",
    "pre.visuAvatars(bodies1)"
   ]
  },
  {
   "cell_type": "code",
   "execution_count": null,
   "metadata": {},
   "outputs": [],
   "source": [
    "# definitions des interactions\n",
    "#  * loi d'interaction :\n",
    "lprpr=pre.tact_behav('iqsG0', 'IQS_CLB_g0', fric=0.3)\n",
    "tacts+=lprpr\n",
    "\n",
    "#  * table de visibilite :\n",
    "sv1 = pre.see_table(CorpsCandidat   ='RBDY3', candidat   ='POLYR', colorCandidat   ='BLUEx',\n",
    "                    CorpsAntagoniste='RBDY3', antagoniste='POLYR', colorAntagoniste='BLUEx',\n",
    "                     behav='iqsG0', alert=2.5e-2)\n",
    "svs+=sv1\n",
    "#  * table de visibilite :\n",
    "sv2 = pre.see_table(CorpsCandidat   ='RBDY3', candidat   ='POLYR', colorCandidat   ='BLUEx',\n",
    "                    CorpsAntagoniste='RBDY3', antagoniste='POLYR', colorAntagoniste='REDxx',\n",
    "                     behav='iqsG0', alert=2.5e-2)\n",
    "svs+=sv2"
   ]
  },
  {
   "cell_type": "code",
   "execution_count": null,
   "metadata": {},
   "outputs": [],
   "source": [
    "post = pre.postpro_commands()\n",
    "post.addCommand(pre.postpro_command(name='SOLVER INFORMATIONS', step=1))\n",
    "post.addCommand(pre.postpro_command(name='VIOLATION EVOLUTION', step=1))\n",
    "\n",
    "pre.writeDatbox(dim, mats, mods, bodies1, tacts, svs, post=post, datbox_path=datbox)"
   ]
  },
  {
   "cell_type": "markdown",
   "metadata": {},
   "source": [
    "## Computation"
   ]
  },
  {
   "cell_type": "code",
   "execution_count": null,
   "metadata": {},
   "outputs": [],
   "source": [
    "from pylmgc90.chipy import computation"
   ]
  },
  {
   "cell_type": "code",
   "execution_count": null,
   "metadata": {},
   "outputs": [],
   "source": [
    "dim = 3\n",
    "\n",
    "# time evolution parameters\n",
    "dt = 1e-3\n",
    "nb_steps = 100\n",
    "\n",
    "# theta integrator parameter\n",
    "theta = 0.5\n",
    "\n",
    "# nlgs parameters\n",
    "tol    = 1e-4\n",
    "relax  = 1.0\n",
    "norm   = 'Quad '\n",
    "gs_it1 = 50\n",
    "gs_it2 = 50\n",
    "stype  = 'Stored_Delassus_Loops         '\n",
    "\n",
    "# write parameter\n",
    "freq_write   = 10\n",
    "\n",
    "# display parameters\n",
    "freq_display = 10"
   ]
  },
  {
   "cell_type": "code",
   "execution_count": null,
   "metadata": {},
   "outputs": [],
   "source": [
    "from pylmgc90 import chipy\n",
    "\n",
    "chipy.PRPRx_UseCpF2fExplicitDetection(1e-1)\n",
    "chipy.nlgs_3D_DiagonalResolution()\n",
    "\n",
    "computation.initialize(dim, dt, theta)\n",
    "for k in range( 1, nb_steps+1 ):\n",
    "    if k%50 == 0:\n",
    "        print( f\"computing step {k}\" )\n",
    "    computation.one_step(stype, norm, tol ,relax, gs_it1, gs_it2, freq_write, freq_display)\n",
    "computation.finalize()"
   ]
  },
  {
   "cell_type": "code",
   "execution_count": null,
   "metadata": {},
   "outputs": [],
   "source": []
  }
 ],
 "metadata": {
  "celltoolbar": "Slideshow",
  "kernelspec": {
   "display_name": "Python 3",
   "language": "python",
   "name": "python3"
  },
  "language_info": {
   "codemirror_mode": {
    "name": "ipython",
    "version": 3
   },
   "file_extension": ".py",
   "mimetype": "text/x-python",
   "name": "python",
   "nbconvert_exporter": "python",
   "pygments_lexer": "ipython3",
   "version": "3.8.5"
  },
  "latex_envs": {
   "LaTeX_envs_menu_present": true,
   "autoclose": false,
   "autocomplete": true,
   "bibliofile": "biblio.bib",
   "cite_by": "apalike",
   "current_citInitial": 1,
   "eqLabelWithNumbers": true,
   "eqNumInitial": 0,
   "hotkeys": {
    "equation": "Ctrl-E",
    "itemize": "Ctrl-I"
   },
   "labels_anchors": false,
   "latex_user_defs": false,
   "report_style_numbering": false,
   "user_envs_cfg": false
  },
  "toc": {
   "base_numbering": 1,
   "nav_menu": {},
   "number_sections": true,
   "sideBar": true,
   "skip_h1_title": false,
   "title_cell": "Table of Contents",
   "title_sidebar": "Contents",
   "toc_cell": true,
   "toc_position": {},
   "toc_section_display": true,
   "toc_window_display": false
  },
  "varInspector": {
   "cols": {
    "lenName": 16,
    "lenType": 16,
    "lenVar": 40
   },
   "kernels_config": {
    "python": {
     "delete_cmd_postfix": "",
     "delete_cmd_prefix": "del ",
     "library": "var_list.py",
     "varRefreshCmd": "print(var_dic_list())"
    },
    "r": {
     "delete_cmd_postfix": ") ",
     "delete_cmd_prefix": "rm(",
     "library": "var_list.r",
     "varRefreshCmd": "cat(var_dic_list()) "
    }
   },
   "types_to_exclude": [
    "module",
    "function",
    "builtin_function_or_method",
    "instance",
    "_Feature"
   ],
   "window_display": false
  }
 },
 "nbformat": 4,
 "nbformat_minor": 1
}
