{
 "cells": [
  {
   "cell_type": "markdown",
   "metadata": {
    "toc": "true"
   },
   "source": [
    "<h1>Table of Contents<span class=\"tocSkip\"></span></h1>\n",
    "<div class=\"toc\"><ul class=\"toc-item\"><li><span><a href=\"#How-to-build-a-rigid-avatar\" data-toc-modified-id=\"How-to-build-a-rigid-avatar-1\"><span class=\"toc-item-num\">1&nbsp;&nbsp;</span>How to build a rigid avatar</a></span><ul class=\"toc-item\"><li><span><a href=\"#2D-Case\" data-toc-modified-id=\"2D-Case-1.1\"><span class=\"toc-item-num\">1.1&nbsp;&nbsp;</span>2D Case</a></span></li><li><span><a href=\"#3D-Case\" data-toc-modified-id=\"3D-Case-1.2\"><span class=\"toc-item-num\">1.2&nbsp;&nbsp;</span>3D Case</a></span></li></ul></li></ul></div>"
   ]
  },
  {
   "cell_type": "markdown",
   "metadata": {
    "slideshow": {
     "slide_type": "slide"
    }
   },
   "source": [
    "# How to build a rigid avatar"
   ]
  },
  {
   "cell_type": "markdown",
   "metadata": {
    "slideshow": {
     "slide_type": "fragment"
    }
   },
   "source": [
    "F. Dubois - 2016"
   ]
  },
  {
   "cell_type": "markdown",
   "metadata": {
    "slideshow": {
     "slide_type": "slide"
    }
   },
   "source": [
    "All avatars are made of nodes, elements, contactors and need a material and a model."
   ]
  },
  {
   "cell_type": "markdown",
   "metadata": {
    "slideshow": {
     "slide_type": "slide"
    }
   },
   "source": [
    "## 2D Case"
   ]
  },
  {
   "cell_type": "code",
   "execution_count": null,
   "metadata": {
    "slideshow": {
     "slide_type": "subslide"
    }
   },
   "outputs": [],
   "source": [
    "#Initialization\n",
    "from pylmgc90 import pre\n",
    "# 2D\n",
    "dim = 2\n"
   ]
  },
  {
   "cell_type": "markdown",
   "metadata": {
    "slideshow": {
     "slide_type": "subslide"
    }
   },
   "source": [
    "Defining a material suitable for rigid objects. "
   ]
  },
  {
   "cell_type": "code",
   "execution_count": null,
   "metadata": {
    "slideshow": {
     "slide_type": "fragment"
    }
   },
   "outputs": [],
   "source": [
    "mat = pre.material(name='TDURx',materialType='RIGID',density=1000.)\n",
    "#help(mat)\n",
    "\n",
    "#possible options:\n",
    "print(pre.config.lmgc90dicts.bulkBehavOptions.keys())\n",
    "# see parameters for 'RIGID'\n",
    "print('options for RIGID:')\n",
    "print(pre.config.lmgc90dicts.bulkBehavOptions['RIGID'])"
   ]
  },
  {
   "cell_type": "markdown",
   "metadata": {
    "slideshow": {
     "slide_type": "subslide"
    }
   },
   "source": [
    "Defining a model suitable for rigid objects."
   ]
  },
  {
   "cell_type": "code",
   "execution_count": null,
   "metadata": {
    "slideshow": {
     "slide_type": "fragment"
    }
   },
   "outputs": [],
   "source": [
    "mod = pre.model(name='rigid', physics='MECAx', element='Rxx2D', dimension=dim)\n",
    "\n",
    "#possible options:\n",
    "print(pre.config.lmgc90dicts.modelOptions.keys())\n",
    "# see parameters for 'MECAx'\n",
    "print('options for MECAx:')\n",
    "print(pre.config.lmgc90dicts.modelOptions['MECAx'])"
   ]
  },
  {
   "cell_type": "markdown",
   "metadata": {
    "slideshow": {
     "slide_type": "subslide"
    }
   },
   "source": [
    "Defining an empty avatar"
   ]
  },
  {
   "cell_type": "code",
   "execution_count": null,
   "metadata": {
    "slideshow": {
     "slide_type": "fragment"
    }
   },
   "outputs": [],
   "source": [
    "disk = pre.avatar(dimension=2)\n",
    "\n",
    "## some introspection\n",
    "## what is disk ? \n",
    "#help(disk)\n",
    "## what is nodes in disk ? \n",
    "#help(disk.nodes)\n",
    "## what are the keys in nodes ? \n",
    "#print(disk.nodes.keys())\n",
    "## what are the values in nodes ? \n",
    "#print(disk.nodes.values())"
   ]
  },
  {
   "cell_type": "markdown",
   "metadata": {
    "slideshow": {
     "slide_type": "subslide"
    }
   },
   "source": [
    "Creating a node and adding it to the avatar (number MUST be 1)"
   ]
  },
  {
   "cell_type": "code",
   "execution_count": null,
   "metadata": {
    "slideshow": {
     "slide_type": "fragment"
    }
   },
   "outputs": [],
   "source": [
    "import numpy as np\n",
    "\n",
    "help(pre.node)\n",
    "no = pre.node(coor=np.array([0.,0.1]),number=1)\n",
    "\n",
    "## some introspection\n",
    "## what is no ? \n",
    "#help(no)\n",
    "## what is containing no ? \n",
    "#dir(no)\n",
    "#print no.coor\n",
    "\n",
    "# adding no to avatar\n",
    "disk.addNode( no )\n",
    "\n",
    "## some introspection\n",
    "## does no.nodes change ?\n",
    "#print(disk.nodes.keys())\n",
    "#print(disk.nodes.values())\n",
    "## key to access to value of first node stored\n",
    "#id=disk.nodes.keys()[0]\n",
    "#print('id= ',id)\n",
    "## what is this value ?\n",
    "#help(disk.nodes[id])\n",
    "#dir(disk.nodes[id])\n",
    "#print(disk.nodes[id].coor)\n",
    "#print(disk.nodes[id].getCoor())\n",
    "#print(disk.nodes[id].number)\n",
    "#print(disk.nodes.values()[0].coor)"
   ]
  },
  {
   "cell_type": "markdown",
   "metadata": {
    "slideshow": {
     "slide_type": "subslide"
    }
   },
   "source": [
    "Creating an element and adding it to the avatar"
   ]
  },
  {
   "cell_type": "code",
   "execution_count": null,
   "metadata": {
    "slideshow": {
     "slide_type": "fragment"
    }
   },
   "outputs": [],
   "source": [
    "disk.addBulk( pre.rigid2d() )\n",
    "\n",
    "## some introspection\n",
    "#help(disk.bulks)\n",
    "#print(disk.bulks.keys())\n",
    "#id=disk.bulks.keys()[0]\n",
    "#help(disk.bulks[id])\n",
    "#dir(disk.bulks[id])\n",
    "#print(disk.bulks[id].connectivity)"
   ]
  },
  {
   "cell_type": "markdown",
   "metadata": {
    "slideshow": {
     "slide_type": "subslide"
    }
   },
   "source": [
    " We need groups to add model/material, contactors, drivendof, etc."
   ]
  },
  {
   "cell_type": "code",
   "execution_count": null,
   "metadata": {
    "slideshow": {
     "slide_type": "fragment"
    }
   },
   "outputs": [],
   "source": [
    "## does my object contain groups ?\n",
    "#dir(disk.groups)\n",
    "#print(disk.groups.keys())\n",
    "\n",
    "# \n",
    "disk.defineGroups()\n",
    "\n",
    "## does my object contain groups ?\n",
    "#print(disk.groups.keys())\n",
    "## what is group 'all'?\n",
    "#help(disk.groups['all'])\n",
    "#dir(disk.groups['all'])\n",
    "#help(disk.groups['all'].bulks)\n",
    "#dir(disk.groups['all'])\n",
    "#print(disk.groups['all'].bulks.keys())\n",
    "#print(disk.groups['all'].bulks[0])\n",
    "#print(disk.groups['all'].nodes.keys())\n",
    "#print(disk.groups['all'].contactors.keys())"
   ]
  },
  {
   "cell_type": "markdown",
   "metadata": {
    "slideshow": {
     "slide_type": "subslide"
    }
   },
   "source": [
    "Adding model and material (default added to 'all')."
   ]
  },
  {
   "cell_type": "code",
   "execution_count": null,
   "metadata": {
    "slideshow": {
     "slide_type": "fragment"
    }
   },
   "outputs": [],
   "source": [
    "disk.defineModel(model=mod)\n",
    "disk.defineMaterial(material=mat)\n"
   ]
  },
  {
   "cell_type": "markdown",
   "metadata": {
    "slideshow": {
     "slide_type": "subslide"
    }
   },
   "source": [
    "Adding contactor (default added to 'all')"
   ]
  },
  {
   "cell_type": "code",
   "execution_count": null,
   "metadata": {
    "slideshow": {
     "slide_type": "fragment"
    }
   },
   "outputs": [],
   "source": [
    "con = 'DISKx'\n",
    "if con == 'DISKx':\n",
    "    disk.addContactors(shape='DISKx', color='BLUEx', byrd=1.)\n",
    "elif con == 'DISKb': \n",
    "    disk.addContactors(shape='DISKx', color='BLUEx', byrd=1., shift=[1., 0.])\n",
    "elif con == 'xKSID':\n",
    "    disk.addContactors(shape='xKSID', color='BLUEx', byrd=1.)\n",
    "elif con == 'JONCx':\n",
    "    disk.addContactors(shape='JONCx', color='WALLx', axe1=1., axe2=0.01)\n",
    "elif con == 'POLYG':\n",
    "    disk.addContactors(shape='POLYG', color='REDxx', nb_vertices=4, \n",
    "                       vertices=np.array([[-1.,-1.],[1.,-1.],[1.,1.],[-1.,1.]]))\n",
    "elif con == 'PT2Dx':\n",
    "    disk.addContactors(shape='PT2Dx', color='VERTx', shift=[1., 0.])\n",
    "\n",
    "# possible contactors\n",
    "print(pre.config.lmgc90dicts.contactorOptions.keys())\n",
    "# options for 'DISKx'\n",
    "print(pre.config.lmgc90dicts.contactorOptions['DISKx'])"
   ]
  },
  {
   "cell_type": "markdown",
   "metadata": {
    "slideshow": {
     "slide_type": "subslide"
    }
   },
   "source": [
    "Needs to compute some internal values (mass, inertia, frame, etc)"
   ]
  },
  {
   "cell_type": "code",
   "execution_count": null,
   "metadata": {
    "slideshow": {
     "slide_type": "fragment"
    }
   },
   "outputs": [],
   "source": [
    "disk.computeRigidProperties()"
   ]
  },
  {
   "cell_type": "markdown",
   "metadata": {
    "slideshow": {
     "slide_type": "subslide"
    }
   },
   "source": [
    "Some magic functions"
   ]
  },
  {
   "cell_type": "code",
   "execution_count": null,
   "metadata": {
    "slideshow": {
     "slide_type": "fragment"
    }
   },
   "outputs": [],
   "source": [
    "disk2=pre.rigidDisk(r=1., center=[2., 2.], model=mod, material=mat, color='BLUEx') \n",
    "\n",
    "#Draw\n",
    "bodies = pre.avatars()\n",
    "bodies.addAvatar(disk)\n",
    "bodies.addAvatar(disk2)\n",
    "pre.visuAvatars(bodies)"
   ]
  },
  {
   "cell_type": "code",
   "execution_count": null,
   "metadata": {},
   "outputs": [],
   "source": [
    "body=pre.rigidDiscreteDisk(r=1., center=[0.,0.], model=mod, material=mat, color='BLUEx')\n",
    "\n",
    "#Draw\n",
    "bodies = pre.avatars()\n",
    "bodies.addAvatar(body)\n",
    "pre.visuAvatars(bodies)"
   ]
  },
  {
   "cell_type": "code",
   "execution_count": null,
   "metadata": {},
   "outputs": [],
   "source": [
    "body1=pre.rigidJonc(axe1=1., axe2=0.5, center=[0.,0.], model=mod, material=mat, color='BLUEx')\n",
    "body2=pre.roughWall(l=1., r=0.5, center=[0.,2.], model=mod, material=mat, theta=0., \n",
    "                   color='WALLx', nb_vertex=5)\n",
    "body3=pre.roughWall(l=1., r=0.5, center=[5.,2.], model=mod, material=mat, theta=0., \n",
    "                    color='WALLx', nb_vertex=0)\n",
    "body4=pre.fineWall(l=1., r=0.5, center=[0.,4.], model=mod, material=mat, theta=0., \n",
    "                   color='WALLx', nb_vertex=10)\n",
    "body5=pre.fineWall(l=1., r=0.5, center=[5.,4.], model=mod, material=mat, theta=0., \n",
    "                   color='WALLx', nb_vertex=0)\n",
    "body6=pre.smoothWall(l=1., h=0.5, center=[0.,6.], nb_polyg=4, model=mod, material=mat, \n",
    "                     theta=0., color='WALLx')\n",
    "body7=pre.granuloRoughWall(l=1., rmin=0.01, rmax=0.1, center=[0.,8.], model=mod, material=mat, \n",
    "                           theta=0., color='WALLx', nb_vertex=6)\n",
    "body8=pre.granuloRoughWall(l=1., rmin=0.01, rmax=0.1, center=[5.,8.], model=mod, material=mat, \n",
    "                           theta=0., color='WALLx', nb_vertex=0)\n",
    "#Draw\n",
    "bodies = pre.avatars()\n",
    "bodies.addAvatar(body1)\n",
    "bodies.addAvatar(body2)\n",
    "bodies.addAvatar(body3)\n",
    "bodies.addAvatar(body4)\n",
    "bodies.addAvatar(body5)\n",
    "bodies.addAvatar(body6)\n",
    "bodies.addAvatar(body7)\n",
    "bodies.addAvatar(body8)\n",
    "pre.visuAvatars(bodies)\n"
   ]
  },
  {
   "cell_type": "code",
   "execution_count": null,
   "metadata": {},
   "outputs": [],
   "source": [
    "body1=pre.rigidPolygon(center=[1.,1.],model=mod, material=mat, theta=0., color='BLUEx', \n",
    "                       generation_type='regular', nb_vertices=5, radius=1.)\n",
    "body2=pre.rigidPolygon(center=[3.,3.],model=mod, material=mat, theta=0., color='BLUEx',\n",
    "                       generation_type='full', \n",
    "                       vertices=np.array([[-1.,-1.],[1.,-1.],[1.,1.],[-1.,1.]]))\n",
    "#Draw\n",
    "bodies = pre.avatars()\n",
    "bodies.addAvatar(body1)\n",
    "bodies.addAvatar(body2)\n",
    "pre.visuAvatars(bodies)\n"
   ]
  },
  {
   "cell_type": "code",
   "execution_count": null,
   "metadata": {},
   "outputs": [],
   "source": [
    "body=pre.rigidOvoidPolygon(ra=1., rb=2., nb_vertices=10, center=[0.,0.], \n",
    "                           model=mod, material=mat, theta=0., color='BLUEx')\n",
    "#Draw\n",
    "bodies = pre.avatars()\n",
    "bodies.addAvatar(body)\n",
    "pre.visuAvatars(bodies)\n"
   ]
  },
  {
   "cell_type": "markdown",
   "metadata": {},
   "source": [
    "Building a cluster"
   ]
  },
  {
   "cell_type": "code",
   "execution_count": null,
   "metadata": {},
   "outputs": [],
   "source": [
    "boarf = pre.avatar(dimension=2)\n",
    "no = pre.node(coor=np.array([0.,0.]),number=1)\n",
    "boarf.addNode( no )\n",
    "boarf.addBulk( pre.rigid2d() )\n",
    "boarf.defineGroups()\n",
    "boarf.defineModel(model=mod)\n",
    "boarf.defineMaterial(material=mat)\n",
    "boarf.addContactors(shape='POLYG', color='REDxx', nb_vertices=4, \n",
    "                    vertices=np.array([[-2.,-2.],[2.,-2.],[2.,-1.],[-2.,-1.]]))\n",
    "boarf.addContactors(shape='POLYG', color='REDxx', nb_vertices=4, \n",
    "                    vertices=np.array([[-2.,-1.],[-1.,-1],[-1.,1.],[-2.,1.]]))\n",
    "boarf.addContactors(shape='POLYG', color='REDxx', nb_vertices=4, \n",
    "                    vertices=np.array([[1.,-1.],[2.,-1.],[2.,1.],[1.,1.]]))\n",
    "boarf.addContactors(shape='POLYG', color='REDxx', nb_vertices=4, \n",
    "                    vertices=np.array([[-2,1.],[2.,1.],[2.,2.],[-2.,2.]]))\n",
    "boarf.addContactors(shape='DISKx', color='BLUEx', byrd=1.,shift=[3.,0.])\n",
    "boarf.addContactors(shape='DISKx', color='BLUEx', byrd=1.,shift=[-3.,0.])\n",
    "boarf.computeRigidProperties()\n",
    "#Draw\n",
    "bodies = pre.avatars()\n",
    "bodies.addAvatar(boarf)\n",
    "pre.visuAvatars(bodies)"
   ]
  },
  {
   "cell_type": "code",
   "execution_count": null,
   "metadata": {},
   "outputs": [],
   "source": [
    "import math\n",
    "bodies = pre.avatars()\n",
    "tt=0.\n",
    "for i in range(10):    \n",
    "    boarf=pre.rigidDisk(r=1., center=[2*math.cos(tt), 2.*math.sin(tt)], \n",
    "                        model=mod, material=mat, color='BLUEx')\n",
    "    bodies.addAvatar(boarf)\n",
    "    tt+=math.pi/5\n",
    "pre.visuAvatars(bodies)"
   ]
  },
  {
   "cell_type": "markdown",
   "metadata": {},
   "source": [
    "Having more information on an object"
   ]
  },
  {
   "cell_type": "code",
   "execution_count": null,
   "metadata": {},
   "outputs": [],
   "source": [
    "#pip3 install ppretty\n",
    "from ppretty import ppretty\n",
    "print(ppretty(boarf, indent='    ', width=40, seq_length=10, show_static=True, show_properties=True, show_address=False))"
   ]
  },
  {
   "cell_type": "markdown",
   "metadata": {
    "slideshow": {
     "slide_type": "slide"
    }
   },
   "source": [
    "## 3D Case"
   ]
  },
  {
   "cell_type": "markdown",
   "metadata": {},
   "source": [
    "Its almost the same than 2D !"
   ]
  },
  {
   "cell_type": "code",
   "execution_count": null,
   "metadata": {},
   "outputs": [],
   "source": [
    "import numpy as np\n",
    "from pylmgc90 import pre\n",
    "dim=3\n",
    "#\n",
    "mod = pre.model(name='rigid', physics='MECAx', element='Rxx3D', dimension=dim)\n",
    "mat = pre.material(name='TDURx',materialType='RIGID',density=1000.)\n",
    "#\n",
    "boarf = pre.avatar(dimension=3)\n",
    "no = pre.node(coor=np.array([0.,0.,0.]),number=1)\n",
    "boarf.addNode( no )\n",
    "boarf.addBulk( pre.rigid3d() )\n",
    "boarf.defineGroups()\n",
    "boarf.defineModel(model=mod)\n",
    "boarf.defineMaterial(material=mat)\n",
    "#\n",
    "con = 'POLYR'\n",
    "if con == 'SPHER':\n",
    "    boarf.addContactors(shape='SPHER', color='BLUEx', byrd=1.)\n",
    "elif con == 'SPHERb':\n",
    "    boarf.addContactors(shape='SPHER', color='BLUEx', byrd=1., shift=[1. , 0., 0.])\n",
    "elif con == 'CYLND':\n",
    "    boarf.addContactors(shape='CYLND', color='BLUEx', High=1., byrd=1.)\n",
    "elif con == 'DNLYC':\n",
    "    boarf.addContactors(shape='DNLYC', color='BLUEx', High=1., byrd=1.)\n",
    "elif con == 'PLANx':\n",
    "    boarf.addContactors(shape='PLANx', color='WALLx', axe1=0.5, axe2=1., axe3=0.01)\n",
    "elif con == 'PLANb':\n",
    "    boarf.addContactors(shape='PLANx', color='WALLx', axe1=0.5, axe2=1., axe3=0.01,\n",
    "                        shift=[1., 0., 0.], \n",
    "                        frame=[[-1.,  0.,  0.],[ 0., -1.,  0.],[ 0.,  0.,  1.]] )\n",
    "elif con == 'POLYR':\n",
    "    # test des polyedres : un carre d'arete 1, centre en (0., 0.)\n",
    "    #    * coordonnees des sommets (repere global)\n",
    "    vertices = np.zeros([8, 3], 'd')\n",
    "    #       - sommet 1\n",
    "    vertices[0, 0]=-0.5\n",
    "    vertices[0, 1]=-0.5\n",
    "    vertices[0, 2]=-0.5\n",
    "    #       - sommet 2\n",
    "    vertices[1, 0]= 0.5\n",
    "    vertices[1, 1]=-0.5\n",
    "    vertices[1, 2]=-0.5\n",
    "    #       - sommet 3\n",
    "    vertices[2, 0]= 0.5\n",
    "    vertices[2, 1]= 0.5\n",
    "    vertices[2, 2]=-0.5\n",
    "    #       - sommet 4\n",
    "    vertices[3, 0]=-0.5\n",
    "    vertices[3, 1]= 0.5\n",
    "    vertices[3, 2]=-0.5\n",
    "    #       - sommet 5\n",
    "    vertices[4, 0]=-0.5\n",
    "    vertices[4, 1]=-0.5\n",
    "    vertices[4, 2]= 0.5\n",
    "    #       - sommet 6\n",
    "    vertices[5, 0]= 0.5\n",
    "    vertices[5, 1]=-0.5\n",
    "    vertices[5, 2]= 0.5\n",
    "    #       - sommet 7\n",
    "    vertices[6, 0]= 0.5\n",
    "    vertices[6, 1]= 0.5\n",
    "    vertices[6, 2]= 0.5\n",
    "    #       - sommet 8\n",
    "    vertices[7, 0]=-0.5\n",
    "    vertices[7, 1]= 0.5\n",
    "    vertices[7, 2]= 0.5\n",
    "    #    * connectivite des faces\n",
    "    faces = np.zeros([12, 3], 'i')\n",
    "    faces[ 0, 0]=1; faces[ 0, 1]=2; faces[ 0, 2]=3\n",
    "    faces[ 1, 0]=1; faces[ 1, 1]=3; faces[ 1, 2]=4\n",
    "    faces[ 2, 0]=1; faces[ 2, 1]=2; faces[ 2, 2]=6\n",
    "    faces[ 3, 0]=1; faces[ 3, 1]=6; faces[ 3, 2]=5\n",
    "    faces[ 4, 0]=2; faces[ 4, 1]=3; faces[ 4, 2]=7\n",
    "    faces[ 5, 0]=2; faces[ 5, 1]=7; faces[ 5, 2]=6\n",
    "    faces[ 6, 0]=1; faces[ 6, 1]=4; faces[ 6, 2]=8\n",
    "    faces[ 7, 0]=1; faces[ 7, 1]=8; faces[ 7, 2]=5\n",
    "    faces[ 8, 0]=3; faces[ 8, 1]=4; faces[ 8, 2]=8\n",
    "    faces[ 9, 0]=3; faces[ 9, 1]=8; faces[ 9, 2]=7\n",
    "    faces[10, 0]=5; faces[10, 1]=7; faces[10, 2]=8\n",
    "    faces[11, 0]=5; faces[11, 1]=6; faces[11, 2]=7 \n",
    "    boarf.addContactors(shape='POLYR', color='REDxx', \n",
    "                        nb_vertices=8, vertices=vertices, \n",
    "                        nb_faces=12, connectivity=faces)\n",
    "elif con == 'PT3Dx':    \n",
    "    boarf.addContactors(shape='PT3Dx', color='VERTx', shift=[0., 1., 0.])\n",
    "\n",
    "#Draw\n",
    "bodies = pre.avatars()\n",
    "bodies.addAvatar(boarf)\n",
    "pre.visuAvatars(bodies)"
   ]
  },
  {
   "cell_type": "markdown",
   "metadata": {
    "slideshow": {
     "slide_type": "subslide"
    }
   },
   "source": [
    "Some magic functions"
   ]
  },
  {
   "cell_type": "code",
   "execution_count": null,
   "metadata": {},
   "outputs": [],
   "source": [
    "body=pre.rigidSphere(r=1., center=[0.,0.,0.], model=mod, material=mat, color='BLUEx')\n",
    "#Draw\n",
    "bodies = pre.avatars()\n",
    "bodies.addAvatar(body)\n",
    "pre.visuAvatars(bodies)\n"
   ]
  },
  {
   "cell_type": "code",
   "execution_count": null,
   "metadata": {},
   "outputs": [],
   "source": [
    "\n",
    "body=pre.rigidPlan(axe1=1., axe2=1., axe3=0.1, center=[0.,0.,0.], \n",
    "                   model=mod, material=mat, color='BLUEx')\n",
    "#Draw\n",
    "bodies = pre.avatars()\n",
    "bodies.addAvatar(body)\n",
    "pre.visuAvatars(bodies)\n"
   ]
  },
  {
   "cell_type": "code",
   "execution_count": null,
   "metadata": {},
   "outputs": [],
   "source": [
    "body=pre.rigidCylinder(r=1., h=5., center=[0.,0.,0.], \n",
    "                       model=mod, material=mat, color='BLUEx', is_Hollow=False)\n",
    "#Draw\n",
    "bodies = pre.avatars()\n",
    "bodies.addAvatar(body)\n",
    "pre.visuAvatars(bodies)"
   ]
  },
  {
   "cell_type": "code",
   "execution_count": null,
   "metadata": {},
   "outputs": [],
   "source": [
    "body = pre.rigidPolyhedron(model=mod, material=mat, center=np.zeros(3,'d'), generation_type='regular', \n",
    "                           color='BLUEx',nb_vertices=10, vertices=None, faces=None, radius=1.,\n",
    "                           tol=0., number=None)\n",
    "#Draw\n",
    "bodies = pre.avatars()\n",
    "bodies.addAvatar(body)\n",
    "pre.visuAvatars(bodies)"
   ]
  },
  {
   "cell_type": "code",
   "execution_count": null,
   "metadata": {},
   "outputs": [],
   "source": [
    "body=pre.roughWall3D(center=[0.,0.,0.], lx=2., ly=2., r=0.5, model=mod, material=mat, color='WALLx')\n",
    "#Draw\n",
    "bodies = pre.avatars()\n",
    "bodies.addAvatar(body)\n",
    "pre.visuAvatars(bodies)"
   ]
  },
  {
   "cell_type": "code",
   "execution_count": null,
   "metadata": {},
   "outputs": [],
   "source": [
    "body=pre.granuloRoughWall3D(center=[0.,0.,0.], lx=2., ly=2., rmin=0.05, rmax=0.1, \n",
    "                            model=mod, material=mat, color='WALLx')\n",
    "bodies = pre.avatars()\n",
    "bodies.addAvatar(body)\n",
    "pre.visuAvatars(bodies)"
   ]
  },
  {
   "cell_type": "code",
   "execution_count": null,
   "metadata": {},
   "outputs": [],
   "source": []
  }
 ],
 "metadata": {
  "celltoolbar": "Slideshow",
  "kernelspec": {
   "display_name": "Python 3",
   "language": "python",
   "name": "python3"
  },
  "language_info": {
   "codemirror_mode": {
    "name": "ipython",
    "version": 3
   },
   "file_extension": ".py",
   "mimetype": "text/x-python",
   "name": "python",
   "nbconvert_exporter": "python",
   "pygments_lexer": "ipython3",
   "version": "3.8.5"
  },
  "latex_envs": {
   "LaTeX_envs_menu_present": true,
   "autoclose": false,
   "autocomplete": true,
   "bibliofile": "biblio.bib",
   "cite_by": "apalike",
   "current_citInitial": 1,
   "eqLabelWithNumbers": true,
   "eqNumInitial": 0,
   "hotkeys": {
    "equation": "Ctrl-E",
    "itemize": "Ctrl-I"
   },
   "labels_anchors": false,
   "latex_user_defs": false,
   "report_style_numbering": false,
   "user_envs_cfg": false
  },
  "toc": {
   "base_numbering": 1,
   "nav_menu": {},
   "number_sections": true,
   "sideBar": true,
   "skip_h1_title": false,
   "title_cell": "Table of Contents",
   "title_sidebar": "Contents",
   "toc_cell": true,
   "toc_position": {},
   "toc_section_display": true,
   "toc_window_display": false
  },
  "varInspector": {
   "cols": {
    "lenName": 16,
    "lenType": 16,
    "lenVar": 40
   },
   "kernels_config": {
    "python": {
     "delete_cmd_postfix": "",
     "delete_cmd_prefix": "del ",
     "library": "var_list.py",
     "varRefreshCmd": "print(var_dic_list())"
    },
    "r": {
     "delete_cmd_postfix": ") ",
     "delete_cmd_prefix": "rm(",
     "library": "var_list.r",
     "varRefreshCmd": "cat(var_dic_list()) "
    }
   },
   "types_to_exclude": [
    "module",
    "function",
    "builtin_function_or_method",
    "instance",
    "_Feature"
   ],
   "window_display": false
  }
 },
 "nbformat": 4,
 "nbformat_minor": 1
}
