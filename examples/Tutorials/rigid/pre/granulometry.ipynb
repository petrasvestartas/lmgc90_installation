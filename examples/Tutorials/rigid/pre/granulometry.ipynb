{
 "cells": [
  {
   "cell_type": "markdown",
   "metadata": {
    "toc": "true"
   },
   "source": [
    "<h1>Table of Contents<span class=\"tocSkip\"></span></h1>\n",
    "<div class=\"toc\"><ul class=\"toc-item\"><li><span><a href=\"#Managing-granulometry\" data-toc-modified-id=\"Managing-granulometry-1\"><span class=\"toc-item-num\">1&nbsp;&nbsp;</span>Managing granulometry</a></span></li></ul></div>"
   ]
  },
  {
   "cell_type": "markdown",
   "metadata": {
    "slideshow": {
     "slide_type": "slide"
    }
   },
   "source": [
    "# Managing granulometry"
   ]
  },
  {
   "cell_type": "markdown",
   "metadata": {
    "slideshow": {
     "slide_type": "fragment"
    }
   },
   "source": [
    "F. Dubois - 2016"
   ]
  },
  {
   "cell_type": "markdown",
   "metadata": {
    "slideshow": {
     "slide_type": "slide"
    }
   },
   "source": [
    "Importing necessary modules"
   ]
  },
  {
   "cell_type": "code",
   "execution_count": null,
   "metadata": {
    "slideshow": {
     "slide_type": "fragment"
    }
   },
   "outputs": [],
   "source": [
    "%matplotlib inline\n",
    "%config InlineBackend.figure_formats = {'svg',}\n",
    "#%config InlineBackend.figure_formats = {'png', 'retina'}\n",
    "\n",
    "import os,sys\n",
    "import numpy\n",
    "import math\n",
    "import scipy\n",
    "import scipy.special\n",
    "import random\n",
    "import matplotlib.pyplot as plt\n",
    "\n",
    "# Seaborn, useful for graphics\n",
    "#import seaborn as sns\n",
    "\n",
    "# JB's favorite Seaborn settings for notebooks\n",
    "#rc = {'lines.linewidth': 2, \n",
    "#      'axes.labelsize': 18, \n",
    "#      'axes.titlesize': 18, \n",
    "#      'axes.facecolor': 'DFDFE5'}\n",
    "#sns.set_context('notebook', rc=rc)\n",
    "#sns.set_style('darkgrid', rc=rc)\n",
    "\n",
    "\n",
    "# Import Bokeh modules for interactive plotting\n",
    "#import bokeh.io\n",
    "#import bokeh.mpl\n",
    "#import bokeh.plotting\n",
    "#bokeh.io.output_notebook()\n",
    "\n",
    "from pylmgc90 import pre\n"
   ]
  },
  {
   "cell_type": "markdown",
   "metadata": {
    "slideshow": {
     "slide_type": "slide"
    }
   },
   "source": [
    "A function to draw the cumulated volume of particles"
   ]
  },
  {
   "cell_type": "code",
   "execution_count": null,
   "metadata": {
    "slideshow": {
     "slide_type": "fragment"
    }
   },
   "outputs": [],
   "source": [
    "def draw_granulo(radii):\n",
    "    \"\"\"\n",
    "    A function to draw the cumulative volume occupied by a list of particles with respect to the radius \n",
    "   \n",
    "    :param radii: an array of radii\n",
    "    \"\"\"  \n",
    "    \n",
    "    rd = numpy.sort(radii)\n",
    "\n",
    "    # computing total volume (4pi/3 voluntarily omitted)\n",
    "    vv=0.\n",
    "    for radius in radii:\n",
    "        vv+=math.pow(radius,3)\n",
    "\n",
    "    # ecriture granulo  \n",
    "    v=0.\n",
    "    radius_prev=rd[0]\n",
    "    x=[]\n",
    "    y=[]  \n",
    "    for radius in rd:\n",
    "        v += math.pow(radius,3)\n",
    "        if radius != radius_prev:\n",
    "            x.append(radius_prev)\n",
    "            y.append(v/vv)\n",
    "\n",
    "        radius_prev = radius\n",
    "\n",
    "        x.append(radius_prev)\n",
    "        y.append(v/vv)\n",
    "\n",
    "    plt.plot(numpy.array(x),numpy.array(y))\n",
    "    plt.xlabel('radius')\n",
    "    plt.ylabel('cumulated volume/total volume')\n",
    "    plt.title('Cumulated volume')\n",
    "    plt.grid(True)\n",
    "    #plt.savefig(\"test.png\")\n",
    "    plt.show()\n",
    "    # Make it interactive with Bokeh\n",
    "    #bokeh.plotting.show(bokeh.mpl.to_bokeh())"
   ]
  },
  {
   "cell_type": "markdown",
   "metadata": {
    "slideshow": {
     "slide_type": "slide"
    }
   },
   "source": [
    "Definition of a distribution function approximated using $\\beta(x;a,b) = \\frac{\\Gamma(a+b)}{\\Gamma(a)*\\Gamma(b)} \\int_0^x (t^{a-1} (1-t)^{b-1} \\mathrm{d}t $ where $\\Gamma(x) = \\int_0^\\infty t^{x-1} e^{-t} \\mathrm{d}t$, see Voivret. "
   ]
  },
  {
   "cell_type": "code",
   "execution_count": null,
   "metadata": {
    "slideshow": {
     "slide_type": "fragment"
    }
   },
   "outputs": [],
   "source": [
    "def fuseau(Rmin,Rmax,V,a,b):\n",
    "    \"\"\"\n",
    "    A function to compute a radius distribution in a given volume \n",
    "   \n",
    "    :param Rmin: min radius\n",
    "    :param Rmax: max radius\n",
    "    :param V   : total volume\n",
    "    :param a,b : two parameters describing the function\n",
    "    :return    : a list of radii\n",
    "    \"\"\"  \n",
    "\n",
    "    #####################\n",
    "\n",
    "    # number of subdivisions for the discretization of the curve  \n",
    "    T = 10.\n",
    "\n",
    "    # x between 0 et 1\n",
    "    x=0.\n",
    "\n",
    "    # adimensionning volume\n",
    "    vv = V/(4.*math.pi/3.)\n",
    "\n",
    "    # computing the radius range of each \n",
    "    dr= (Rmax-Rmin)/T\n",
    "    r_b= Rmin\n",
    "\n",
    "    radii = numpy.array([],'d')\n",
    "\n",
    "    k= numpy.array(range(1, int(T)+1, 1),'d')\n",
    "    k= k/T\n",
    "\n",
    "    vv_beg=0.\n",
    "    for x in k:\n",
    "        beta= scipy.special.betainc(a,b,x)\n",
    "\n",
    "        # computing rmin and rmax of each subinterval\n",
    "        r_e= r_b + dr\n",
    "        r = 0.5*(r_b+r_e)\n",
    "        #r= dr*x + r_b\n",
    "\n",
    "        # evaluating the number of grains for each subinterval\n",
    "        n = ((beta*vv)-vv_beg)/(r*r*r)\n",
    "\n",
    "        # random distribution in the subinterval [r_b, r_e]\n",
    "        radii_interval=pre.granulo_Random(int(n), r_b, r_e)\n",
    "\n",
    "        # adding radii to the list\n",
    "        radii= numpy.concatenate( (radii_interval,radii) )\n",
    "    \n",
    "        # updating for next loop\n",
    "        r_b= r_e\n",
    "        vv_beg=beta*vv \n",
    "    # \n",
    "    return radii"
   ]
  },
  {
   "cell_type": "markdown",
   "metadata": {
    "collapsed": true,
    "slideshow": {
     "slide_type": "slide"
    }
   },
   "source": [
    "Lets play with existing functions"
   ]
  },
  {
   "cell_type": "code",
   "execution_count": null,
   "metadata": {
    "slideshow": {
     "slide_type": "fragment"
    }
   },
   "outputs": [],
   "source": [
    "#Rmin and Rmax are the minimal and maximal radii of the generated grains\n",
    "Rmin= 4.e-3\n",
    "Rmax= 1.e-2\n",
    "\n",
    "# Total volume of grains\n",
    "V= 0.1\n",
    "\n",
    "# beta computation\n",
    "#(computation of the primitive and replacement of x)\n",
    "# input parameters\n",
    "a= 3.\n",
    "b= 1.\n",
    "\n",
    "# home made\n",
    "radii = fuseau(Rmin,Rmax,V,a,b)\n",
    "\n",
    "# following a uniform distribution in number\n",
    "#radii = pre.granulo_Random(1000, Rmin, Rmax)\n",
    "\n",
    "# following a uniform distribution in surface\n",
    "#radii = pre.granulo_Uniform(1000, Rmin, Rmax)\n",
    "\n",
    "# following a binomial distribution in number\n",
    "#radii = pre.granulo_TwoSizesNumber(1000, Rmin, Rmax,0.2)\n",
    "\n",
    "draw_granulo(radii) \n"
   ]
  },
  {
   "cell_type": "code",
   "execution_count": null,
   "metadata": {},
   "outputs": [],
   "source": []
  }
 ],
 "metadata": {
  "celltoolbar": "Slideshow",
  "kernelspec": {
   "display_name": "Python 3",
   "language": "python",
   "name": "python3"
  },
  "language_info": {
   "codemirror_mode": {
    "name": "ipython",
    "version": 3
   },
   "file_extension": ".py",
   "mimetype": "text/x-python",
   "name": "python",
   "nbconvert_exporter": "python",
   "pygments_lexer": "ipython3",
   "version": "3.8.5"
  },
  "latex_envs": {
   "LaTeX_envs_menu_present": true,
   "autoclose": false,
   "autocomplete": true,
   "bibliofile": "biblio.bib",
   "cite_by": "apalike",
   "current_citInitial": 1,
   "eqLabelWithNumbers": true,
   "eqNumInitial": 0,
   "hotkeys": {
    "equation": "Ctrl-E",
    "itemize": "Ctrl-I"
   },
   "labels_anchors": false,
   "latex_user_defs": false,
   "report_style_numbering": false,
   "user_envs_cfg": false
  },
  "toc": {
   "base_numbering": 1,
   "nav_menu": {},
   "number_sections": true,
   "sideBar": true,
   "skip_h1_title": false,
   "title_cell": "Table of Contents",
   "title_sidebar": "Contents",
   "toc_cell": true,
   "toc_position": {},
   "toc_section_display": true,
   "toc_window_display": false
  },
  "varInspector": {
   "cols": {
    "lenName": 16,
    "lenType": 16,
    "lenVar": 40
   },
   "kernels_config": {
    "python": {
     "delete_cmd_postfix": "",
     "delete_cmd_prefix": "del ",
     "library": "var_list.py",
     "varRefreshCmd": "print(var_dic_list())"
    },
    "r": {
     "delete_cmd_postfix": ") ",
     "delete_cmd_prefix": "rm(",
     "library": "var_list.r",
     "varRefreshCmd": "cat(var_dic_list()) "
    }
   },
   "types_to_exclude": [
    "module",
    "function",
    "builtin_function_or_method",
    "instance",
    "_Feature"
   ],
   "window_display": false
  }
 },
 "nbformat": 4,
 "nbformat_minor": 1
}
