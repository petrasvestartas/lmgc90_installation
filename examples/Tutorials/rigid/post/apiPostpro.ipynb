{
 "cells": [
  {
   "cell_type": "markdown",
   "metadata": {},
   "source": [
    "# Post-processing using LMGC90 API\n",
    "\n",
    "The current recommended way to design any post-processing within LMGC90 is in fact to use the python API inside the computation script to extract the desired value along the way.\n",
    "\n",
    "As it may not be known beforehand exactly what may be needed, it is often desired to first run the computation, and only then design the post-processing step of interest. This can be done *a posteriori* as long as the LMGC90 database has been saved during the computation (thanks to the `chipy.WriteOut` function) whether with the old fashionned text files or the HDF5 binary files.\n",
    "\n",
    "Here to not duplicate irrelevant informations, it is assumed that the [previous notebook](internalPostpro.ipynb) has been run at least once and that the *DATBOX* input directory and the *lmgc90.h5* output file associated to the computation are present.\n",
    "\n",
    "### Basic idea\n",
    "\n",
    "The idea is to reload a particular time step to be able to get information exactly like during a computation. So the first thing is to read the DATBOX and do all the needed initialization (in most tutorial examples, all these are hidden under the single `computation.initialize` command). Here is the list of needed commands:"
   ]
  },
  {
   "cell_type": "code",
   "execution_count": null,
   "metadata": {},
   "outputs": [],
   "source": [
    "from pylmgc90 import chipy\n",
    "\n",
    "dim = 2\n",
    "\n",
    "# reading the DATBOX and loadings\n",
    "chipy.Initialize()\n",
    "chipy.checkDirectories()\n",
    "\n",
    "chipy.Initialize()\n",
    "\n",
    "chipy.SetDimension(dim)\n",
    "\n",
    "chipy.ReadBodies()\n",
    "chipy.ReadBehaviours()\n",
    "\n",
    "chipy.LoadTactors()\n",
    "chipy.LoadBehaviours()\n",
    "\n",
    "chipy.ReadDrivenDof()"
   ]
  },
  {
   "cell_type": "markdown",
   "metadata": {},
   "source": [
    "Now a particular record can be read from the file to change the state of the database. It is important to differentiate *record* and *step*; if and only if all the time steps have been saved during the computation these indices may look identical. In fact the *step* starts at 0 (which the initial state) and is an increasing integer describing each time step computed. The *record* is also an increasing integer number, but starting at 1 ! And it counts the number of record of the database made.\n",
    "\n",
    "As such, since the `freq_write` of the previous step was `10` and `dt` had the value $10^{-3}$ what can be obtained is:"
   ]
  },
  {
   "cell_type": "code",
   "execution_count": null,
   "metadata": {},
   "outputs": [],
   "source": [
    "# reading first saved step:\n",
    "h5_file   = 'lmgc90.h5'\n",
    "id_record = 1\n",
    "chipy.ReadIni(id_record,h5_file)\n",
    "\n",
    "# start to check database content:\n",
    "nstep = chipy.TimeEvolution_GetStep()\n",
    "print(nstep)\n",
    "time  = chipy.TimeEvolution_GetTime()\n",
    "print(time)"
   ]
  },
  {
   "cell_type": "markdown",
   "metadata": {},
   "source": [
    "### Bodies access\n",
    "\n",
    "Now the accessor of the database can be used. The main one is [`chipy.RBDY2_GetBodyVector`](https://lmgc90.pages-git-xen.lmgc.univ-montp2.fr/lmgc90_dev/chipy_lmgc90.html#pylmgc90.chipy.lmgc90.RBDY2_GetBodyVector) for 2D rigids.\n",
    "\n",
    "This way of interacting with the database is a little more technical, since it assumes that the user knows a little how data are organized in the core of the sofwtare and how to extract the relevant data. As such the aforementionned accessor allow to access the rigid bodies. To access a particular geometry, one must knows how to get back from a contactor number to the id of its supporting body.\n",
    "\n",
    "For bodies, the only information which is stored within the files are the coordinates and velocity. So to get back the external forces and reaction on the body, they must be recomputed from the gravity field and the contact network. Hence the [`chipy.RBDY2_ComputeMass`](/https://lmgc90.pages-git-xen.lmgc.univ-montp2.fr/lmgc90_dev/chipy_lmgc90.html#pylmgc90.chipy.lmgc90.RBDY2_ComputeMass),\n",
    "[`chipy.RBDY2_ComputeFext`](https://lmgc90.pages-git-xen.lmgc.univ-montp2.fr/lmgc90_dev/chipy_lmgc90.html#pylmgc90.chipy.lmgc90.RBDY2_ComputeFext)\n",
    "and [`chipy.inter_handler_2D_computeRnod`](https://lmgc90.pages-git-xen.lmgc.univ-montp2.fr/lmgc90_dev/chipy_lmgc90.html#pylmgc90.chipy.lmgc90.inter_handler_2D_computeRnod) calls (the last one having effect only when reading HDF5 files). A simple example would be to look for the body with maximum velocity:"
   ]
  },
  {
   "cell_type": "code",
   "execution_count": null,
   "metadata": {},
   "outputs": [],
   "source": [
    "import numpy as np\n",
    "\n",
    "\n",
    "v = chipy.RBDY2_GetAllBodyVector('Vbeg_')\n",
    "\n",
    "norm_v = np.linalg.norm(v, axis=1)\n",
    "max_idx = np.argmax( norm_v )\n",
    "\n",
    "print( f\"Max velocity {v[max_idx]} of body {max_idx+1}\")"
   ]
  },
  {
   "cell_type": "code",
   "execution_count": null,
   "metadata": {},
   "outputs": [],
   "source": [
    "i_rbdy2 = 12\n",
    "fext = chipy.RBDY2_GetBodyVector('Fext_', i_rbdy2)\n",
    "reac = chipy.RBDY2_GetBodyVector('Reac_', i_rbdy2)\n",
    "print( f\"Fext of body {i_rbdy2}: {fext}\" )\n",
    "print( f\"Reac of body {i_rbdy2}: {reac}\" )\n",
    "\n",
    "chipy.RBDY2_ComputeMass()\n",
    "chipy.RBDY2_ComputeFext()\n",
    "chipy.inter_handler_2D_computeRnod()\n",
    "fext = chipy.RBDY2_GetBodyVector('Fext_', i_rbdy2)\n",
    "reac = chipy.RBDY2_GetBodyVector('Reac_', i_rbdy2)\n",
    "print( f\"Fext of body {i_rbdy2}: {fext}\" )\n",
    "print( f\"Reac of body {i_rbdy2}: {reac}\" )"
   ]
  },
  {
   "cell_type": "markdown",
   "metadata": {},
   "source": [
    "### Interactions access\n",
    "\n",
    "For the interactions, there a single getter: [`chipy.getInteractions`](https://lmgc90.pages-git-xen.lmgc.univ-montp2.fr/lmgc90_dev/chipy_macro.html#pylmgc90.chipy.macro.getInteractions)\n",
    "\n",
    "This array is a [structured numpy array](https://numpy.org/doc/stable/user/basics.rec.html) and allow\n",
    "to access all relevant data of the interactions in a single numpy array.\n",
    "\n",
    "A simple example would be to look for the maximum reaction value and identify which bodies are involved:"
   ]
  },
  {
   "cell_type": "code",
   "execution_count": null,
   "metadata": {},
   "outputs": [],
   "source": [
    "inters = chipy.getInteractions()\n",
    "#print(inters.shape)\n",
    "\n",
    "# computing the norm of the reaction for each\n",
    "norm_reac = np.linalg.norm( inters['rl'], axis=1)\n",
    "\n",
    "# find the max:\n",
    "i_max = np.argmax( norm_reac )\n",
    "print( f\"maximum norm reaction interaction: {i_max+1} of value {norm_reac[i_max]}\")\n",
    "\n",
    "print( f\"between rigid bodies {inters[i_max][['icdbdy','ianbdy']]}\")"
   ]
  },
  {
   "cell_type": "markdown",
   "metadata": {},
   "source": [
    "TODO : explanation difference between this and verlet ?"
   ]
  },
  {
   "cell_type": "markdown",
   "metadata": {},
   "source": [
    "### A posteriori visualisation\n",
    "\n",
    "Until now, a single step has been reloaded, but there is nothing preventing from reload different time steps. And, in case the simulation is heavy (in term of RAM and computing power), it is advised to not generate the paraview visualisation files.\n",
    "\n",
    "But in case of need, these visualisation files can be generated afterwards, again provided that there is either the *OUTBOX* text files or the HDF5 binary output file:"
   ]
  },
  {
   "cell_type": "code",
   "execution_count": null,
   "metadata": {},
   "outputs": [],
   "source": [
    "h5_file   = 'lmgc90.h5'\n",
    "nb_record  = 30\n",
    "\n",
    "chipy.OpenDisplayFiles()\n",
    "chipy.ComputeMass()\n",
    "\n",
    "for k in range(1,nb_record+1):\n",
    "\n",
    "    chipy.ReadIni(k,h5_file)\n",
    "    chipy.ComputeFext()\n",
    "    chipy.ComputeRnod()\n",
    "    chipy.WriteDisplayFiles(1)\n",
    "\n",
    "chipy.CloseDisplayFiles()"
   ]
  },
  {
   "cell_type": "code",
   "execution_count": null,
   "metadata": {},
   "outputs": [],
   "source": [
    "!paraview"
   ]
  }
 ],
 "metadata": {
  "kernelspec": {
   "display_name": "Python 3",
   "language": "python",
   "name": "python3"
  },
  "language_info": {
   "codemirror_mode": {
    "name": "ipython",
    "version": 3
   },
   "file_extension": ".py",
   "mimetype": "text/x-python",
   "name": "python",
   "nbconvert_exporter": "python",
   "pygments_lexer": "ipython3",
   "version": "3.6.9"
  },
  "latex_envs": {
   "LaTeX_envs_menu_present": true,
   "autoclose": false,
   "autocomplete": true,
   "bibliofile": "biblio.bib",
   "cite_by": "apalike",
   "current_citInitial": 1,
   "eqLabelWithNumbers": true,
   "eqNumInitial": 1,
   "hotkeys": {
    "equation": "Ctrl-E",
    "itemize": "Ctrl-I"
   },
   "labels_anchors": false,
   "latex_user_defs": false,
   "report_style_numbering": false,
   "user_envs_cfg": false
  },
  "toc": {
   "base_numbering": 1,
   "nav_menu": {},
   "number_sections": true,
   "sideBar": true,
   "skip_h1_title": false,
   "title_cell": "Table of Contents",
   "title_sidebar": "Contents",
   "toc_cell": false,
   "toc_position": {},
   "toc_section_display": true,
   "toc_window_display": false
  },
  "varInspector": {
   "cols": {
    "lenName": 16,
    "lenType": 16,
    "lenVar": 40
   },
   "kernels_config": {
    "python": {
     "delete_cmd_postfix": "",
     "delete_cmd_prefix": "del ",
     "library": "var_list.py",
     "varRefreshCmd": "print(var_dic_list())"
    },
    "r": {
     "delete_cmd_postfix": ") ",
     "delete_cmd_prefix": "rm(",
     "library": "var_list.r",
     "varRefreshCmd": "cat(var_dic_list()) "
    }
   },
   "types_to_exclude": [
    "module",
    "function",
    "builtin_function_or_method",
    "instance",
    "_Feature"
   ],
   "window_display": false
  }
 },
 "nbformat": 4,
 "nbformat_minor": 2
}
