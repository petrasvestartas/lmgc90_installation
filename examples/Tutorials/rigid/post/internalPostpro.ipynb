{
 "cells": [
  {
   "cell_type": "markdown",
   "metadata": {},
   "source": [
    "# Post-processing\n",
    "\n",
    "The historical way to post-process computation is:\n",
    "\n",
    "1. to know beforehand what will be interesting during the computation\n",
    "2. generate a specific *POSTPRO.DAT* command file during the pre-processing step\n",
    "3. during computation, a set of postpro files will be generated in the *POSTPRO* directory\n",
    "4. then use any means (python recommended) to generate the desired plot/graph/other from these text files\n",
    "\n",
    "The documentation of the available postpro commands, the needed input and the files generated as well as the different values stored in them is detailed in the **LMGC90_Postpro.pdf** of the **manuals** directory of the LMGC90 distribution.\n",
    "\n",
    "It is important to note that for some internal value like *SOLVER INFORMATIONS* or *DISSIPATED ENERGY*, there is currently no other way to access these values.\n",
    "\n",
    "### During pre-processing step\n",
    "On the pre-processor side, the list of available commands can be retrieve with:"
   ]
  },
  {
   "cell_type": "code",
   "execution_count": null,
   "metadata": {},
   "outputs": [],
   "source": [
    "from pylmgc90 import pre\n",
    "pre.config.lmgc90dicts.commandList"
   ]
  },
  {
   "cell_type": "markdown",
   "metadata": {},
   "source": [
    "The management of the postprocessing commands follow the same logic than the other elements of LMGC90's preprocessor:\n",
    "\n",
    "* create _post commands_ object\n",
    "* add them to a container\n",
    "* write the file from the containe\n",
    "\n",
    "A simple example would be to add a command which will store the contact solver convergence informations at each time step:"
   ]
  },
  {
   "cell_type": "code",
   "execution_count": null,
   "metadata": {},
   "outputs": [],
   "source": [
    "from pathlib import Path\n",
    "\n",
    "datbox = Path('DATBOX')\n",
    "datbox.mkdir(exist_ok=True)\n",
    "\n",
    "# generate an empty container\n",
    "posts = pre.postpro_commands()\n",
    "\n",
    "# create the command\n",
    "sinfo = pre.postpro_command(name='SOLVER INFORMATIONS', step=1)\n",
    "\n",
    "# add it to container\n",
    "posts.addCommand(sinfo)\n",
    "\n",
    "# write the input file for LMGC90\n",
    "pre.writePostpro(commands=posts, parts=[], path=datbox)"
   ]
  },
  {
   "cell_type": "code",
   "execution_count": null,
   "metadata": {},
   "outputs": [],
   "source": [
    "# command for linux\n",
    "#!cat DATBOX/POSTPRO.DAT\n",
    "# command for Windows\n",
    "#!Get-Content DATBOX\\POSTPRO.DAT"
   ]
  },
  {
   "cell_type": "markdown",
   "metadata": {},
   "source": [
    "A more complete example would be to generate a 2D sample in a box under gravity and wanting to follow the evolution of contact/gravity loads on the lower wall. Let us first generate a simple 2D sample with walls, but stop before writing all the files:"
   ]
  },
  {
   "cell_type": "code",
   "execution_count": null,
   "metadata": {},
   "outputs": [],
   "source": [
    "import math\n",
    "dim = 2\n",
    "\n",
    "bodies= pre.avatars()\n",
    "mods  = pre.models()\n",
    "mats  = pre.materials()\n",
    "sees  = pre.see_tables()\n",
    "tacts = pre.tact_behavs()\n",
    "\n",
    "mod = pre.model(name='rigid', physics='MECAx', element='Rxx2D', dimension=dim)\n",
    "mods.addModel(mod)\n",
    "\n",
    "tdur = pre.material(name='TDURx',materialType='RIGID',density=1000.)\n",
    "plex = pre.material(name='PLEXx',materialType='RIGID',density=100.)\n",
    "mats.addMaterial(tdur,plex)\n",
    "\n",
    "\n",
    "nb_particles = 1000\n",
    "radii = pre.granulo_Random(nb_particles, 0.5, 2., seed=0)\n",
    "\n",
    "# on recupere le plus petit et le plus grand rayon\n",
    "radius_min=min(radii)\n",
    "radius_max=max(radii)\n",
    "\n",
    "lx = 75.\n",
    "ly = 50. \n",
    "nb_remaining_particles, coor, radii = pre.depositInBox2D(radii, lx, ly)\n",
    "\n",
    "for r, c in zip(radii, coor):\n",
    "    # creation un nouveau disque rigide, constitue du materiau plex\n",
    "    body = pre.rigidDisk(r=r, center=c, model=mod, material=plex, color='BLUEx') \n",
    "    bodies += body\n",
    "\n",
    "down = pre.rigidJonc(axe1=0.5*lx+radius_max, axe2=radius_max, center=[0.5*lx, -radius_max],\n",
    "                     model=mod, material=tdur, color='WALLx')\n",
    "up   = pre.rigidJonc(axe1=0.5*lx+radius_max, axe2=radius_max, center=[0.5*lx, ly+radius_max],\n",
    "                     model=mod, material=tdur, color='WALLx')\n",
    "left = pre.rigidJonc(axe1=0.5*ly+radius_max, axe2=radius_max, center=[-radius_max, 0.5*ly],\n",
    "                     model=mod, material=tdur, color='WALLx')\n",
    "right= pre.rigidJonc(axe1=0.5*ly+radius_max, axe2=radius_max, center=[lx+radius_max, 0.5*ly],\n",
    "                     model=mod, material=tdur, color='WALLx')\n",
    "\n",
    "left.rotate(psi=-math.pi/2., center=left.nodes[1].coor)\n",
    "right.rotate(psi=math.pi/2., center=right.nodes[1].coor)\n",
    "\n",
    "down.imposeDrivenDof(component=[1, 2, 3], dofty='vlocy')\n",
    "up.imposeDrivenDof(component=[1, 3], dofty='vlocy')\n",
    "left.imposeDrivenDof(component=[1, 2, 3], dofty='vlocy')\n",
    "right.imposeDrivenDof(component=[2, 3], dofty='vlocy')\n",
    "\n",
    "bodies += down; bodies += up; bodies += left; bodies += right\n",
    "\n",
    "ldkdk = pre.tact_behav(name='iqsc0',law='IQS_CLB',fric=0.3)\n",
    "ldkjc = pre.tact_behav(name='iqsc1',law='IQS_CLB',fric=0.5)\n",
    "tacts+= ldkjc\n",
    "tacts+= ldkdk\n",
    "\n",
    "svdkdk = pre.see_table(CorpsCandidat   ='RBDY2', candidat   ='DISKx', colorCandidat   ='BLUEx', behav=ldkdk,\n",
    "                       CorpsAntagoniste='RBDY2', antagoniste='DISKx', colorAntagoniste='BLUEx',\n",
    "                       alert=0.1*radius_min)\n",
    "svdkjc = pre.see_table(CorpsCandidat   ='RBDY2', candidat   ='DISKx', colorCandidat   ='BLUEx', behav=ldkjc,\n",
    "                       CorpsAntagoniste='RBDY2', antagoniste='JONCx', colorAntagoniste='WALLx',\n",
    "                       alert=0.1*radius_min)\n",
    "sees += svdkjc\n",
    "sees += svdkdk\n"
   ]
  },
  {
   "cell_type": "markdown",
   "metadata": {},
   "source": [
    "Then comes the postpro command part. To clarify the next code cells, the container is created anew and the *SOLVER INFORMATIONS* command added again. Then the *TORQUE EVOLUTION* is applied to a list or rigid bodies, thus the creation of the command needs to know on which list of avatars the command must apply:"
   ]
  },
  {
   "cell_type": "code",
   "execution_count": null,
   "metadata": {},
   "outputs": [],
   "source": [
    "posts = pre.postpro_commands()\n",
    "\n",
    "sinfo = pre.postpro_command(name='SOLVER INFORMATIONS', step=1)\n",
    "posts.addCommand(sinfo)\n",
    "\n",
    "torque_evol = pre.postpro_command(name='TORQUE EVOLUTION', rigid_set=[down], step=1)\n",
    "posts.addCommand(torque_evol)\n",
    "\n",
    "# file writing:\n",
    "pre.writeDatbox(dim, mats, mods, bodies, tacts, sees, post=posts, datbox_path=datbox)"
   ]
  },
  {
   "cell_type": "markdown",
   "metadata": {},
   "source": [
    "### During computation\n",
    "\n",
    "During the computation, there is only three functions to make sure are called:\n",
    "\n",
    "* `chipy.OpenPostproFiles` at the end of the initialization step (after all the reading/loading of the database),\n",
    "* `chipy.WritePostproFiles` at the end of each time step during the computation time loop,\n",
    "* `chipy.ClosePostproFiles` after the computation time loop.\n",
    "\n",
    "All these steps are really important, even the last one, which informatically closes all the files which were opened during the initialization step."
   ]
  },
  {
   "cell_type": "code",
   "execution_count": null,
   "metadata": {},
   "outputs": [],
   "source": [
    "from pylmgc90.chipy import computation\n",
    "\n",
    "dim = 2\n",
    "\n",
    "# time evolution parameters\n",
    "dt = 1e-3\n",
    "nb_steps = 300\n",
    "\n",
    "# theta integrator parameter\n",
    "theta = 0.5\n",
    "\n",
    "# nlgs parameters\n",
    "stype = 'Stored_Delassus_Loops       '\n",
    "norm  = 'Quad ' \n",
    "conv  = 1e-4\n",
    "relax = 1.0\n",
    "gsit1 = 500\n",
    "gsit2 = 10\n",
    "\n",
    "# write parameter\n",
    "freq_write = 10\n",
    "\n",
    "# display parameters\n",
    "freq_display = 10\n",
    "\n",
    "computation.initialize( dim, dt, theta, h5_file='lmgc90.h5' )\n",
    "for k in range(1, nb_steps+1):\n",
    "    computation.one_step(stype, norm, conv, relax, gsit1, gsit2, freq_write, freq_display)\n",
    "computation.finalize()\n",
    "print('Finished computation')"
   ]
  },
  {
   "cell_type": "markdown",
   "metadata": {},
   "source": [
    "At this time there should be _*.DAT_ text files in the *POSTPRO* directory\n",
    "corresponding to the two commands created."
   ]
  },
  {
   "cell_type": "code",
   "execution_count": null,
   "metadata": {},
   "outputs": [],
   "source": [
    "# linux or powershell command\n",
    "#!ls POSTPRO\n",
    "# windows prompt command\n",
    "#!dir POSTPRO"
   ]
  },
  {
   "cell_type": "markdown",
   "metadata": {},
   "source": [
    "### Post-processing\n",
    "\n",
    "For a simple example let's just trace the y-axis contact force on this wall along time. By simply reading the documentation, one can learn that the first column of the file is the physical time, then reaction along x-axis and finally the reaction along y-axis.\n",
    "\n",
    "\n",
    "Then to display the curve, the knowledgable user could use a one liner with gnuplot. Otherwise the following with python does the trick:"
   ]
  },
  {
   "cell_type": "code",
   "execution_count": null,
   "metadata": {},
   "outputs": [],
   "source": [
    "import numpy as np\n",
    "from matplotlib import pyplot as plt\n",
    "\n",
    "fname = 'POSTPRO/TORQUE_0000552.DAT'\n",
    "torque_value = np.loadtxt(fname)\n",
    "#torque_value = np.loadtxt(torque_with_e)\n",
    "plt.plot( torque_value[:,0], torque_value[:,2] )\n",
    "plt.xlabel('time')\n",
    "plt.ylabel('Reaction force (y)')\n",
    "plt.show()"
   ]
  }
 ],
 "metadata": {
  "kernelspec": {
   "display_name": "Python 3",
   "language": "python",
   "name": "python3"
  },
  "language_info": {
   "codemirror_mode": {
    "name": "ipython",
    "version": 3
   },
   "file_extension": ".py",
   "mimetype": "text/x-python",
   "name": "python",
   "nbconvert_exporter": "python",
   "pygments_lexer": "ipython3",
   "version": "3.6.9"
  },
  "latex_envs": {
   "LaTeX_envs_menu_present": true,
   "autoclose": false,
   "autocomplete": true,
   "bibliofile": "biblio.bib",
   "cite_by": "apalike",
   "current_citInitial": 1,
   "eqLabelWithNumbers": true,
   "eqNumInitial": 1,
   "hotkeys": {
    "equation": "Ctrl-E",
    "itemize": "Ctrl-I"
   },
   "labels_anchors": false,
   "latex_user_defs": false,
   "report_style_numbering": false,
   "user_envs_cfg": false
  },
  "toc": {
   "base_numbering": 1,
   "nav_menu": {},
   "number_sections": true,
   "sideBar": true,
   "skip_h1_title": false,
   "title_cell": "Table of Contents",
   "title_sidebar": "Contents",
   "toc_cell": false,
   "toc_position": {},
   "toc_section_display": true,
   "toc_window_display": false
  },
  "varInspector": {
   "cols": {
    "lenName": 16,
    "lenType": 16,
    "lenVar": 40
   },
   "kernels_config": {
    "python": {
     "delete_cmd_postfix": "",
     "delete_cmd_prefix": "del ",
     "library": "var_list.py",
     "varRefreshCmd": "print(var_dic_list())"
    },
    "r": {
     "delete_cmd_postfix": ") ",
     "delete_cmd_prefix": "rm(",
     "library": "var_list.r",
     "varRefreshCmd": "cat(var_dic_list()) "
    }
   },
   "types_to_exclude": [
    "module",
    "function",
    "builtin_function_or_method",
    "instance",
    "_Feature"
   ],
   "window_display": false
  }
 },
 "nbformat": 4,
 "nbformat_minor": 2
}
