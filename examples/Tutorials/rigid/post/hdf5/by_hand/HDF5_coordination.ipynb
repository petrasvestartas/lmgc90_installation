{
 "cells": [
  {
   "cell_type": "markdown",
   "metadata": {},
   "source": [
    "# Coordination number\n",
    "\n",
    "Let's use a simple hdf5 file to compute the coordination number for a given time step\n",
    "using a single file without loading LMGC90.\n",
    "\n",
    "First thing is to load the *h5py* module and to read the file :"
   ]
  },
  {
   "cell_type": "code",
   "execution_count": null,
   "metadata": {},
   "outputs": [],
   "source": [
    "import h5py\n",
    "hf = h5py.File('../lmgc90.h5')"
   ]
  },
  {
   "cell_type": "markdown",
   "metadata": {},
   "source": [
    "## Preparative work\n",
    "\n",
    "Now, you can just trust the author and run the next section to generate a dictionary\n",
    "allowing to map the name of some parameters to an integer id used within LMG90's core.\n",
    "\n",
    "If you are interested in understanding how these data are obtained, you may need to\n",
    "read the HDF5_basis notebook."
   ]
  },
  {
   "cell_type": "code",
   "execution_count": null,
   "metadata": {},
   "outputs": [],
   "source": [
    "basepath = hf['Help/parameters']\n",
    "parameters = {}\n",
    "for k in basepath.keys() :\n",
    "    parameters[k] = dict( zip( map(bytes.decode,basepath[k+'/name'][()]), basepath[k+'/id'][()] ) )"
   ]
  },
  {
   "cell_type": "code",
   "execution_count": null,
   "metadata": {},
   "outputs": [],
   "source": [
    "print( parameters.keys() )\n",
    "parameters['bdyty']"
   ]
  },
  {
   "cell_type": "markdown",
   "metadata": {},
   "source": [
    "In the same way, one can generate the dictionary in the reverse way with :"
   ]
  },
  {
   "cell_type": "code",
   "execution_count": null,
   "metadata": {},
   "outputs": [],
   "source": [
    "rev_parameters = {}\n",
    "for k in basepath.keys() :\n",
    "    rev_parameters[k] = dict( zip( basepath[k+'/id'][()],  map(bytes.decode,basepath[k+'/name'][()]) ) )"
   ]
  },
  {
   "cell_type": "code",
   "execution_count": null,
   "metadata": {},
   "outputs": [],
   "source": [
    "rev_parameters['bdyty']"
   ]
  },
  {
   "cell_type": "markdown",
   "metadata": {},
   "source": [
    "Now following this, to extract data from *idata* and *rdata* array,\n",
    "let's generate more dictionaries"
   ]
  },
  {
   "cell_type": "code",
   "execution_count": null,
   "metadata": {},
   "outputs": [],
   "source": [
    "ik = {}\n",
    "for k in hf['Help/VlocRloc/idata'].keys() :\n",
    "    ik[k] = ( bytes.decode( hf['Help/VlocRloc/idata/'+k+'/name'][()] ),\n",
    "              hf['Help/VlocRloc/idata/'+k+'/bound'][0]-1,\n",
    "              hf['Help/VlocRloc/idata/'+k+'/bound'][1]-1\n",
    "            )\n",
    "\n",
    "rk = {}\n",
    "for k in hf['Help/VlocRloc/rdata'].keys() :\n",
    "    rk[k] = ( bytes.decode( hf['Help/VlocRloc/rdata/'+k+'/name'][()] ),\n",
    "              hf['Help/VlocRloc/rdata/'+k+'/bound'][0]-1,\n",
    "              hf['Help/VlocRloc/rdata/'+k+'/bound'][1]-1\n",
    "            )"
   ]
  },
  {
   "cell_type": "code",
   "execution_count": null,
   "metadata": {},
   "outputs": [],
   "source": [
    "ik"
   ]
  },
  {
   "cell_type": "code",
   "execution_count": null,
   "metadata": {},
   "outputs": [],
   "source": [
    "rk"
   ]
  },
  {
   "cell_type": "markdown",
   "metadata": {},
   "source": [
    "## Adjacence Map generation\n",
    "\n",
    "First thing is to check that the version of the hdf5 file of\n",
    "LMGC90 is compatible with this notebook code:"
   ]
  },
  {
   "cell_type": "code",
   "execution_count": null,
   "metadata": {},
   "outputs": [],
   "source": [
    "assert(hf['version'][()] == 1), '[ERROR] wrong version of LMGC90 hdf5 file'"
   ]
  },
  {
   "cell_type": "markdown",
   "metadata": {},
   "source": [
    "Now let's choose a record number to extract all *VlocRloc* data of\n",
    "this corresponding time step :"
   ]
  },
  {
   "cell_type": "code",
   "execution_count": null,
   "metadata": {},
   "outputs": [],
   "source": [
    "nb_record = hf['Simulation/nb_record'][()]\n",
    "i_record  = 2\n",
    "assert( i_record <= nb_record )\n",
    "\n",
    "basepath = hf[\"Evolution/ID_\"+str(i_record)]\n",
    "i_step   = hf[\"Evolution/ID_\"+str(i_record)+\"/NStep\"][()]\n",
    "idata =  basepath['VlocRloc/idata'][()]\n",
    "rdata =  basepath['VlocRloc/rdata'][()]\n",
    "\n",
    "# really really paranoid\n",
    "assert( idata.shape[0] == rdata.shape[0] )\n",
    "\n",
    "print( \"time step\", i_step, \" -> nb_inter = \", idata.shape[0] )"
   ]
  },
  {
   "cell_type": "markdown",
   "metadata": {},
   "source": [
    "Since all the desired data have been extracted from the file. Do not forget to close !"
   ]
  },
  {
   "cell_type": "code",
   "execution_count": null,
   "metadata": {},
   "outputs": [],
   "source": [
    "hf.close()"
   ]
  },
  {
   "cell_type": "markdown",
   "metadata": {},
   "source": [
    "Finally it is needed to generate an adjacence map of the interactions :"
   ]
  },
  {
   "cell_type": "code",
   "execution_count": null,
   "metadata": {},
   "outputs": [],
   "source": [
    "from collections import defaultdict\n",
    "adj_map = defaultdict( list )\n",
    "\n",
    "idx_cd_tactype = ik['tactype'][1]\n",
    "idx_an_tactype = ik['tactype'][2]\n",
    "\n",
    "# going through all interactions\n",
    "for inter_i, inter_r in zip(idata,rdata) :\n",
    "\n",
    "    # skipping antagonists of type JONCx\n",
    "    if inter_i[ idx_an_tactype ] == parameters['tactype']['JONCx'] :\n",
    "        #print( inter_i[1], ' has an antagonist JONCx... skipping' )\n",
    "        continue\n",
    "\n",
    "    # a contactor is identified by its type (DISKx, JONCx, etc) and its index in this type\n",
    "    cd = ( inter_i[ idx_cd_tactype ], inter_i[ ik['itacty'][1] ] )\n",
    "    an = ( inter_i[ idx_an_tactype ], inter_i[ ik['itacty'][2] ] )\n",
    "\n",
    "    # if it is a new candidate/antgoniste pair\n",
    "    if cd not in adj_map.keys() or an not in adj_map[cd] :\n",
    "        # and if Rn > 0.\n",
    "        idx_Rn = rk['rl'][2]\n",
    "        if inter_r[ idx_Rn ] > 0. :\n",
    "            adj_map[ cd ].append( an )\n",
    "            adj_map[ an ].append( cd )"
   ]
  },
  {
   "cell_type": "markdown",
   "metadata": {},
   "source": [
    "In this particular case, one can notice that, only interactions\n",
    "with a positive normal reaction are kept.\n",
    "\n",
    "Of course, any kind of criteria can be used instead of this.\n",
    "\n",
    "Furthermore, this code exclude the *JONCx* antagonist, but it\n",
    "is possible to change to count only one type of contactor or\n",
    "to exclude more types at will.\n",
    "\n",
    "In the end, *adj_map* is a dictionnary with a contactor as keys,\n",
    "and a list of contators as values. To compute the number of coordinations,\n",
    "it is needed to count for a single contactor, the number of associated\n",
    "contactor (which is the length of the list in *adj_map* values).\n",
    "\n",
    "## Coordination number account\n",
    "This can be quickly done with :"
   ]
  },
  {
   "cell_type": "code",
   "execution_count": null,
   "metadata": {},
   "outputs": [],
   "source": [
    "coordination_number = { contactor[1] : len(adjac) for contactor, adjac in adj_map.items() }"
   ]
  },
  {
   "cell_type": "markdown",
   "metadata": {},
   "source": [
    "Now that, for a single contactor, the coordination number is stored,\n",
    "some simple manipulation using *numpy* package allows to compute\n",
    "the histogram of the number of particles with the same coordination number :"
   ]
  },
  {
   "cell_type": "code",
   "execution_count": null,
   "metadata": {},
   "outputs": [],
   "source": [
    "import numpy as np\n",
    "nbc = np.array( [*coordination_number.values()] )\n",
    "nbc_hist = np.unique(nbc,return_counts=True)\n",
    "print( nbc_hist )"
   ]
  },
  {
   "cell_type": "markdown",
   "metadata": {},
   "source": [
    "Or directly for a visualization :"
   ]
  },
  {
   "cell_type": "code",
   "execution_count": null,
   "metadata": {},
   "outputs": [],
   "source": [
    "%matplotlib inline\n",
    "from matplotlib import pyplot as plt\n",
    "plt.hist( nbc, bins=np.max(nbc) )"
   ]
  },
  {
   "cell_type": "markdown",
   "metadata": {},
   "source": [
    "## Redo adjacence map\n",
    "\n",
    "The adjacence map build earlier is build upon the contactors.\n",
    "Since there are no cluster in this example, it should be alright.\n",
    "But let's redo the adjacence map using body number instead of a\n",
    "couple made of contactor type and index.\n",
    "\n",
    "It is assumed that there are only rigid bodies in this case\n",
    "and that any other type of entry will be skipped.\n",
    "\n",
    "So the earlier code must be changed a little :"
   ]
  },
  {
   "cell_type": "code",
   "execution_count": null,
   "metadata": {},
   "outputs": [],
   "source": [
    "from collections import defaultdict\n",
    "adj_map = defaultdict( list )\n",
    "\n",
    "idx_cd_tactype = ik['tactype'][1]\n",
    "idx_an_tactype = ik['tactype'][2]\n",
    "idx_cd_bdytype = ik['bdyty'][1]\n",
    "idx_an_bdytype = ik['bdyty'][2]\n",
    "\n",
    "# going through all interactions\n",
    "for inter_i, inter_r in zip(idata,rdata) :\n",
    "\n",
    "    # skipping antagonists of type JONCx\n",
    "    # and any type of body whic is not a RBDY2\n",
    "    if (   inter_i[ idx_an_tactype ] == parameters['tactype']['JONCx']\n",
    "        or inter_i[ idx_cd_bdytype ] != parameters['bdyty']['RBDY2']\n",
    "        or inter_i[ idx_an_bdytype ] != parameters['bdyty']['RBDY2']\n",
    "       ) :\n",
    "        continue\n",
    "\n",
    "    cd = inter_i[ ik['ibdyty'][1] ]\n",
    "    an = inter_i[ ik['itacty'][2] ]\n",
    "\n",
    "    # if it is a new candidate/antgoniste pair\n",
    "    if cd not in adj_map.keys() or an not in adj_map[cd] :\n",
    "        # and if Rn > 0.\n",
    "        idx_Rn = rk['rl'][2]\n",
    "        if inter_r[ idx_Rn ] > 0. :\n",
    "            adj_map[ cd ].append( an )\n",
    "            adj_map[ an ].append( cd )"
   ]
  },
  {
   "cell_type": "markdown",
   "metadata": {},
   "source": [
    "Finally the same bit of code to count the coordination number can be used:"
   ]
  },
  {
   "cell_type": "code",
   "execution_count": null,
   "metadata": {},
   "outputs": [],
   "source": [
    "coordination_number = { body : len(adjac) for body, adjac in adj_map.items() }\n",
    "nbc = np.array( [*coordination_number.values() ])"
   ]
  },
  {
   "cell_type": "code",
   "execution_count": null,
   "metadata": {},
   "outputs": [],
   "source": [
    "%matplotlib inline\n",
    "from matplotlib import pyplot as plt\n",
    "plt.hist( nbc, bins=np.max(nbc) )"
   ]
  }
 ],
 "metadata": {
  "kernelspec": {
   "display_name": "Python 3",
   "language": "python",
   "name": "python3"
  },
  "language_info": {
   "codemirror_mode": {
    "name": "ipython",
    "version": 3
   },
   "file_extension": ".py",
   "mimetype": "text/x-python",
   "name": "python",
   "nbconvert_exporter": "python",
   "pygments_lexer": "ipython3",
   "version": "3.6.9"
  }
 },
 "nbformat": 4,
 "nbformat_minor": 2
}
