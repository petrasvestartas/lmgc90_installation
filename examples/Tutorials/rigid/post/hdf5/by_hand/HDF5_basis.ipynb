{
 "cells": [
  {
   "cell_type": "markdown",
   "metadata": {},
   "source": [
    "# HDF5 file management\n",
    "\n",
    "This a simple example of file management using h5py python\n",
    "module without having LMGC90 installed.\n",
    "\n",
    "This notebook aims at explaining how to explore the file\n",
    "within an interpretor to discover the structure of the file\n",
    "in order to be able to find the relevant data.\n",
    "\n",
    "\n",
    "## General directions\n",
    "\n",
    "The documentation of the h5py module can be found [here](http://docs.h5py.org/en/stable/)\n",
    "\n",
    "The first thing is to open the file to explore its content :"
   ]
  },
  {
   "cell_type": "code",
   "execution_count": null,
   "metadata": {},
   "outputs": [],
   "source": [
    "import h5py\n",
    "hfile = h5py.File('../lmgc90.h5', 'r')"
   ]
  },
  {
   "cell_type": "markdown",
   "metadata": {},
   "source": [
    "The `hfile` object is a hierarchic structure like a tree,\n",
    "where each branch is called *a group* and each leaf of the\n",
    "tree is *a dataset*.\n",
    "\n",
    "The different groups can be explored by using the path of the group as a dictionnary key like this :"
   ]
  },
  {
   "cell_type": "code",
   "execution_count": null,
   "metadata": {},
   "outputs": [],
   "source": [
    "print( list( hfile.keys() ) )\n",
    "print( list( hfile['Simulation'].keys() ) )"
   ]
  },
  {
   "cell_type": "markdown",
   "metadata": {},
   "source": [
    "When arriving to a dataset, the previous line will throw an exception:"
   ]
  },
  {
   "cell_type": "code",
   "execution_count": null,
   "metadata": {},
   "outputs": [],
   "source": [
    "print( list( hfile['Simulation/nb_record'] ) )"
   ]
  },
  {
   "cell_type": "markdown",
   "metadata": {},
   "source": [
    "To get the value contained in a dataset use the following syntax :\n",
    "```python\n",
    "file_object['group_path/dataset_name'][()]\n",
    "```"
   ]
  },
  {
   "cell_type": "code",
   "execution_count": null,
   "metadata": {},
   "outputs": [],
   "source": [
    "hfile['Simulation/nb_record'][()]"
   ]
  },
  {
   "cell_type": "markdown",
   "metadata": {},
   "source": [
    "Because data are read from a binary file and H5PY has its own way of typing them, you may encounter some strange behaviour. Thus, for single integer for example, it may be needed to cast them into the python native type: "
   ]
  },
  {
   "cell_type": "code",
   "execution_count": null,
   "metadata": {},
   "outputs": [],
   "source": [
    "nb_steps = hfile['Simulation/nb_record'][()]\n",
    "print( type(nb_steps) )\n",
    "nb_steps = int( nb_steps )\n",
    "print( type(nb_steps) )"
   ]
  },
  {
   "cell_type": "markdown",
   "metadata": {},
   "source": [
    "## General layout\n",
    "\n",
    "At the root of the file there are :\n",
    "\n",
    "* *version* : dataset storing the version number of the file\n",
    "* *Simulation* : group holding some variables of the whole computation\n",
    "* *Evolution* : group holding data at a given time step\n",
    "* *Help* : group holding a full description of the content of data layout of *Evolution*\n",
    "\n",
    "The aim is that by exploring the groups, to find the relevant\n",
    "data. And in case of uncertainty, that the *Help* group can\n",
    "provide a way to identify what is stored in the file.\n",
    "\n",
    "Let's explore the file step by step until information on the\n",
    "interactions is obtained :"
   ]
  },
  {
   "cell_type": "code",
   "execution_count": null,
   "metadata": {},
   "outputs": [],
   "source": [
    "evolution = list( hfile['Evolution'].keys() )\n",
    "print( \"1st element of 'Evolution' group : \", evolution[0] )"
   ]
  },
  {
   "cell_type": "markdown",
   "metadata": {},
   "source": [
    "Each time step is in fact recorded in a subgroup of *Evolution*\n",
    "with the name *ID_xxxx* where *xxxx* is a time step number.\n",
    "\n",
    "Let's check the content of this group :"
   ]
  },
  {
   "cell_type": "code",
   "execution_count": null,
   "metadata": {},
   "outputs": [],
   "source": [
    "evol_1 =  list( hfile['Evolution/ID_1'] )\n",
    "print( \"content of 'Evolution/ID_1' : \", evol_1)"
   ]
  },
  {
   "cell_type": "markdown",
   "metadata": {},
   "source": [
    "Now the simulation time of this first record can be accessed with the *TPS* dataset :"
   ]
  },
  {
   "cell_type": "code",
   "execution_count": null,
   "metadata": {},
   "outputs": [],
   "source": [
    "print( \"in first record - TPS = \", hfile['Evolution/ID_1/TPS'][()] )"
   ]
  },
  {
   "cell_type": "markdown",
   "metadata": {},
   "source": [
    "Since it has been decided earlier to look for interaction, let's look into the *VlocRloc* group"
   ]
  },
  {
   "cell_type": "code",
   "execution_count": null,
   "metadata": {},
   "outputs": [],
   "source": [
    "evol_1_vlocrloc = list( hfile['Evolution/ID_1/VlocRloc'] )\n",
    "print( \"content of 'Evolution/ID_1/VlocRloc' \", evol_1_vlocrloc)"
   ]
  },
  {
   "cell_type": "markdown",
   "metadata": {},
   "source": [
    "It is now possible to check that *idata* and *rdata* are datasets.... and contain quite a lot\n",
    "data :"
   ]
  },
  {
   "cell_type": "code",
   "execution_count": null,
   "metadata": {},
   "outputs": [],
   "source": [
    "idata = hfile['Evolution/ID_1/VlocRloc/idata'][()]\n",
    "rdata = hfile['Evolution/ID_1/VlocRloc/rdata'][()]\n",
    "print( \"idata is of size : \", idata.shape)\n",
    "print( \"rdata is of size : \", rdata.shape)"
   ]
  },
  {
   "cell_type": "markdown",
   "metadata": {},
   "source": [
    "In fact the *i* and *r* of *idata* and *rdata* stand for *integer* and *real*\n",
    "respectively. Thus in these two arrays, there are all the integer and real\n",
    "data corresponding ot the interactions at a given time step.\n",
    "\n",
    "## Getting some help !\n",
    "\n",
    "This is where the *Help* group comes to... help ? Let's skip the exploration\n",
    "and look to what information can be obtained with this :"
   ]
  },
  {
   "cell_type": "code",
   "execution_count": null,
   "metadata": {},
   "outputs": [],
   "source": [
    "rdata_list = list( hfile['Help/VlocRloc/rdata'].keys() )\n",
    "print(rdata_list)"
   ]
  },
  {
   "cell_type": "markdown",
   "metadata": {},
   "source": [
    "So if one is interested in the coordinates of the contact points,\n",
    "one has to get :"
   ]
  },
  {
   "cell_type": "code",
   "execution_count": null,
   "metadata": {},
   "outputs": [],
   "source": [
    "field = hfile['Help/VlocRloc/rdata/coor/name'][()]\n",
    "bound = hfile['Help/VlocRloc/rdata/coor/bound'][()]\n",
    "print(field)\n",
    "print(bound)"
   ]
  },
  {
   "cell_type": "markdown",
   "metadata": {},
   "source": [
    "These informations are specifying that to get the coordinates\n",
    "of the interactions one has to get the sixth and seventh\n",
    "indices of the *rdata* and that the data are *x* and *y*\n",
    "in that order.\n",
    "\n",
    "**Warning** : the indices are in Fortran convention, thus\n",
    "starting from 1. The array obtained use Python indices\n",
    "which start form 0.\n",
    "\n",
    "**Warning** : the field *name* may be interpreted as a\n",
    "*bytes* object of Python. To make a *string* object from\n",
    "this the *decode* method must be used."
   ]
  },
  {
   "cell_type": "code",
   "execution_count": null,
   "metadata": {},
   "outputs": [],
   "source": [
    "print( field.decode() +' of inter 1 : ', rdata[0,5:7] )"
   ]
  },
  {
   "cell_type": "markdown",
   "metadata": {},
   "source": [
    "For the real data, the description if straighforward when reading.\n",
    "But for the integer data it is more difficult to know what is inside.\n",
    "\n",
    "For example if listing the *idata* fields :"
   ]
  },
  {
   "cell_type": "code",
   "execution_count": null,
   "metadata": {},
   "outputs": [],
   "source": [
    "idata_list = list( hfile['Help/VlocRloc/idata'].keys() )\n",
    "print(idata_list)"
   ]
  },
  {
   "cell_type": "markdown",
   "metadata": {},
   "source": [
    "There is some *LMGC90* lingo :\n",
    "* bdyty   : type of body\n",
    "* ibdyty  : index of body\n",
    "* tactype : type of contactor\n",
    "* itacty  : index of contactor\n",
    "\n",
    "And so on. But these data are all integers whereas for some of them a string is the natural human description.\n",
    "Again the *Help* group provides the answer to this caveat with the *parameter* group. Let's check the content :"
   ]
  },
  {
   "cell_type": "code",
   "execution_count": null,
   "metadata": {},
   "outputs": [],
   "source": [
    "list( hfile['Help/parameters'].keys() )"
   ]
  },
  {
   "cell_type": "markdown",
   "metadata": {},
   "source": [
    "If the type of interaction is of interest :"
   ]
  },
  {
   "cell_type": "code",
   "execution_count": null,
   "metadata": {},
   "outputs": [],
   "source": [
    "list( hfile['Help/parameters/inter_id'] )"
   ]
  },
  {
   "cell_type": "code",
   "execution_count": null,
   "metadata": {},
   "outputs": [],
   "source": [
    "inter_name = hfile['Help/parameters/inter_id/name'][()]\n",
    "print(inter_name)"
   ]
  },
  {
   "cell_type": "markdown",
   "metadata": {},
   "source": [
    "So to get the type of the first interaction one as to do something like"
   ]
  },
  {
   "cell_type": "code",
   "execution_count": null,
   "metadata": {},
   "outputs": [],
   "source": [
    "inter_id_index = hfile['Help/VlocRloc/idata/inter_id/bound'][()] - 1\n",
    "print(inter_id_index)\n",
    "print(idata[0,0])\n",
    "inter_type = inter_name[ idata[0,inter_id_index[0]]-1 ]\n",
    "print( inter_type.decode() )"
   ]
  },
  {
   "cell_type": "markdown",
   "metadata": {},
   "source": [
    "With all this, it is possible to get back all information stored inside\n",
    "the file. Of course it is a little awkward. That is why some functions\n",
    "are proposed in another notebook to make the interpretation easier."
   ]
  },
  {
   "cell_type": "code",
   "execution_count": null,
   "metadata": {},
   "outputs": [],
   "source": [
    "hfile.close()"
   ]
  },
  {
   "cell_type": "markdown",
   "metadata": {},
   "source": [
    "In the next notebook, it will be explained how to use the *parameter* group\n",
    "to define some python dictionnaries allowing to make data use a litlle easier."
   ]
  }
 ],
 "metadata": {
  "kernelspec": {
   "display_name": "Python 3",
   "language": "python",
   "name": "python3"
  },
  "language_info": {
   "codemirror_mode": {
    "name": "ipython",
    "version": 3
   },
   "file_extension": ".py",
   "mimetype": "text/x-python",
   "name": "python",
   "nbconvert_exporter": "python",
   "pygments_lexer": "ipython3",
   "version": "3.6.9"
  }
 },
 "nbformat": 4,
 "nbformat_minor": 2
}
