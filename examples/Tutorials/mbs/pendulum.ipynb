{
 "cells": [
  {
   "cell_type": "markdown",
   "metadata": {
    "toc": "true"
   },
   "source": [
    "# Table of Contents\n",
    " <p><div class=\"lev1\"><a href=\"#How-to-build-a-2D-pendulum-1\"><span class=\"toc-item-num\">1&nbsp;&nbsp;</span>How to build a 2D pendulum</a></div>"
   ]
  },
  {
   "cell_type": "markdown",
   "metadata": {
    "deletable": true,
    "editable": true,
    "slideshow": {
     "slide_type": "slide"
    }
   },
   "source": [
    "# How to build a 2D pendulum"
   ]
  },
  {
   "cell_type": "markdown",
   "metadata": {
    "deletable": true,
    "editable": true,
    "slideshow": {
     "slide_type": "fragment"
    }
   },
   "source": [
    "F. Dubois - 2016"
   ]
  },
  {
   "cell_type": "code",
   "execution_count": null,
   "metadata": {
    "collapsed": false,
    "deletable": true,
    "editable": true,
    "slideshow": {
     "slide_type": "subslide"
    }
   },
   "outputs": [],
   "source": [
    "#Initialization\n",
    "\n",
    "import os\n",
    "\n",
    "# For windows users\n",
    "#import sys\n",
    "#sys.path.append('C:\\gshdhgfhsgf\\\\build')\n",
    "\n",
    "import math, numpy\n",
    "from pylmgc90 import pre\n",
    "\n",
    "if not os.path.isdir('DATBOX'):\n",
    "  os.mkdir('DATBOX')\n",
    "\n",
    "# 2D\n",
    "dim = 2\n",
    "\n",
    "# containers\n",
    "#   * bodies\n",
    "bodies = pre.avatars()\n",
    "#   * materials\n",
    "mats   = pre.materials()\n",
    "#   * see tables\n",
    "svs    = pre.see_tables()\n",
    "#   * contact laws\n",
    "tacts  = pre.tact_behavs()\n",
    "\n",
    "tt=0."
   ]
  },
  {
   "cell_type": "markdown",
   "metadata": {
    "deletable": true,
    "editable": true,
    "slideshow": {
     "slide_type": "subslide"
    }
   },
   "source": [
    "\n",
    "Defining a material/model suitable for rigid objects. "
   ]
  },
  {
   "cell_type": "code",
   "execution_count": null,
   "metadata": {
    "collapsed": false,
    "deletable": true,
    "editable": true,
    "slideshow": {
     "slide_type": "fragment"
    }
   },
   "outputs": [],
   "source": [
    "mat = pre.material(name='TDURx', materialType='RIGID', density=1000.)\n",
    "mats+=mat\n",
    "\n",
    "mod = pre.model(name='rigid', physics='MECAx', element='Rxx2D', dimension=dim)"
   ]
  },
  {
   "cell_type": "markdown",
   "metadata": {
    "deletable": true,
    "editable": true,
    "slideshow": {
     "slide_type": "subslide"
    }
   },
   "source": [
    "Crank:\n",
    " motor ..."
   ]
  },
  {
   "cell_type": "code",
   "execution_count": null,
   "metadata": {
    "collapsed": false,
    "deletable": true,
    "editable": true,
    "slideshow": {
     "slide_type": "fragment"
    }
   },
   "outputs": [],
   "source": [
    "disk = pre.avatar(dimension=2)\n",
    "# new node\n",
    "no = pre.node(coor=numpy.array([0.,0.]), number=1)\n",
    "# adding no to avatar\n",
    "disk.addNode( no )\n",
    "# new element \n",
    "disk.addBulk( pre.rigid2d() )\n",
    "#\n",
    "disk.defineGroups()\n",
    "#\n",
    "disk.defineModel(model=mod)\n",
    "disk.defineMaterial(material=mat)\n",
    "#\n",
    "disk.addContactors(shape='DISKx', color='BLUEx', byrd=0.5)\n",
    "disk.addContactors(shape='PT2Dx', color='VERTx', shift=[0., 0.])\n",
    "disk.computeRigidProperties()\n",
    "\n",
    "disk.imposeDrivenDof(component=[1, 2], dofty='vlocy')\n",
    "\n",
    "\n",
    "bodies+=disk"
   ]
  },
  {
   "cell_type": "markdown",
   "metadata": {
    "deletable": true,
    "editable": true,
    "slideshow": {
     "slide_type": "subslide"
    }
   },
   "source": [
    " ... arm 1 ..."
   ]
  },
  {
   "cell_type": "code",
   "execution_count": null,
   "metadata": {
    "collapsed": false,
    "deletable": true,
    "editable": true
   },
   "outputs": [],
   "source": [
    "arm1 = pre.avatar(dimension=2)\n",
    "# new node\n",
    "no = pre.node(coor=numpy.array([1,0.]),number=1)\n",
    "# adding no to avatar\n",
    "arm1.addNode( no )\n",
    "# new element \n",
    "arm1.addBulk( pre.rigid2d() )\n",
    "#\n",
    "arm1.defineGroups()\n",
    "#\n",
    "arm1.defineModel(model=mod)\n",
    "arm1.defineMaterial(material=mat)\n",
    "#\n",
    "arm1.addContactors(shape='JONCx', color='WALLx', axe1=1., axe2=0.1)\n",
    "arm1.addContactors(shape='PT2Dx', color='VERTx', shift=[-1.,0.])\n",
    "arm1.addContactors(shape='PT2Dx', color='VERTx', shift=[1.,0.])\n",
    "arm1.computeRigidProperties()\n",
    "bodies+=arm1"
   ]
  },
  {
   "cell_type": "markdown",
   "metadata": {
    "deletable": true,
    "editable": true
   },
   "source": [
    " ... arm2 ..."
   ]
  },
  {
   "cell_type": "code",
   "execution_count": null,
   "metadata": {
    "collapsed": true,
    "deletable": true,
    "editable": true
   },
   "outputs": [],
   "source": [
    "arm2 = pre.avatar(dimension=2)\n",
    "# new node\n",
    "no = pre.node(coor=numpy.array([5.,0.]),number=1)\n",
    "# adding no to avatar\n",
    "arm2.addNode( no )\n",
    "# new element \n",
    "arm2.addBulk( pre.rigid2d() )\n",
    "#\n",
    "arm2.defineGroups()\n",
    "#\n",
    "arm2.defineModel(model=mod)\n",
    "arm2.defineMaterial(material=mat)\n",
    "#\n",
    "arm2.addContactors(shape='JONCx', color='WALLx', axe1=3., axe2=0.1)\n",
    "arm2.addContactors(shape='PT2Dx', color='VERTx', shift=[-3.,0.])\n",
    "arm2.addContactors(shape='PT2Dx', color='VERTx', shift=[3.,0.])\n",
    "#arm2.addContactors(shape='DISKx', color='BLUEx', byrd=0.5,shift=[3.,0.])\n",
    "arm2.computeRigidProperties()\n",
    "\n",
    "bodies+=arm2"
   ]
  },
  {
   "cell_type": "markdown",
   "metadata": {
    "deletable": true,
    "editable": true
   },
   "source": [
    "contact laws"
   ]
  },
  {
   "cell_type": "code",
   "execution_count": null,
   "metadata": {
    "collapsed": false,
    "deletable": true,
    "editable": true
   },
   "outputs": [],
   "source": [
    "lcpl  = pre.tact_behav(name='xxxxx', law='COUPLED_DOF')\n",
    "tacts+= lcpl\n",
    "liqs  = pre.tact_behav(name='iqsc0', law='IQS_CLB', fric=0.3)\n",
    "tacts+= liqs\n",
    "\n",
    "sv1 = pre.see_table(CorpsCandidat   ='RBDY2', candidat   ='PT2Dx', colorCandidat   ='VERTx',\n",
    "                    behav=lcpl, \n",
    "                    CorpsAntagoniste='RBDY2', antagoniste='PT2Dx', colorAntagoniste='VERTx',\n",
    "                    alert=0.05)\n",
    "svs+= sv1\n"
   ]
  },
  {
   "cell_type": "code",
   "execution_count": null,
   "metadata": {
    "collapsed": false,
    "deletable": true,
    "editable": true
   },
   "outputs": [],
   "source": [
    "# writing files\n",
    "pre.writeBodies(bodies,chemin='DATBOX')\n",
    "pre.writeBulkBehav(mats,chemin='DATBOX',dim=dim)\n",
    "pre.writeTactBehav(tacts,svs,chemin='DATBOX')\n",
    "pre.writeDrvDof(bodies,chemin='DATBOX')\n",
    "pre.writeDofIni(bodies,chemin='DATBOX')\n",
    "pre.writeVlocRlocIni(chemin='DATBOX')\n",
    "\n",
    "post = pre.postpro_commands()\n",
    "my_command = pre.postpro_command(name='SOLVER INFORMATIONS', step=1)\n",
    "post.addCommand(my_command)\n",
    "#\n",
    "pre.writePostpro(commands=post, parts=bodies, path='DATBOX/')\n",
    "\n",
    "try:\n",
    "  pre.visuAvatars(bodies)\n",
    "except:\n",
    "  pass"
   ]
  },
  {
   "cell_type": "code",
   "execution_count": null,
   "metadata": {
    "collapsed": false,
    "deletable": true,
    "editable": true,
    "slideshow": {
     "slide_type": "fragment"
    }
   },
   "outputs": [],
   "source": [
    "#  disk.addContactors(shape='POLYG', color='REDxx', nb_vertices=4, \n",
    "#                     vertices=np.array([[-1.,-1.],[1.,-1.],[1.,1.],[-1.,1.]]))\n"
   ]
  },
  {
   "cell_type": "code",
   "execution_count": null,
   "metadata": {
    "collapsed": true,
    "deletable": true,
    "editable": true
   },
   "outputs": [],
   "source": []
  }
 ],
 "metadata": {
  "celltoolbar": "Slideshow",
  "kernelspec": {
   "display_name": "Python 2",
   "language": "python",
   "name": "python2"
  },
  "language_info": {
   "codemirror_mode": {
    "name": "ipython",
    "version": 2
   },
   "file_extension": ".py",
   "mimetype": "text/x-python",
   "name": "python",
   "nbconvert_exporter": "python",
   "pygments_lexer": "ipython2",
   "version": "2.7.13"
  },
  "latex_envs": {
   "bibliofile": "biblio.bib",
   "cite_by": "apalike",
   "current_citInitial": 1,
   "eqLabelWithNumbers": true,
   "eqNumInitial": 0
  },
  "toc": {
   "toc_cell": true,
   "toc_number_sections": true,
   "toc_threshold": "3",
   "toc_window_display": false
  }
 },
 "nbformat": 4,
 "nbformat_minor": 0
}
