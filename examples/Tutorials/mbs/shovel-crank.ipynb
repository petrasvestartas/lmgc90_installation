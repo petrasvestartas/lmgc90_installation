{
 "cells": [
  {
   "cell_type": "markdown",
   "metadata": {
    "toc": "true"
   },
   "source": [
    "# Table of Contents\n",
    " <p><div class=\"lev1\"><a href=\"#How-to-build-a-2D-shovel-crank-system-1\"><span class=\"toc-item-num\">1&nbsp;&nbsp;</span>How to build a 2D shovel-crank system</a></div>"
   ]
  },
  {
   "cell_type": "markdown",
   "metadata": {
    "slideshow": {
     "slide_type": "slide"
    }
   },
   "source": [
    "# How to build a 2D shovel-crank system"
   ]
  },
  {
   "cell_type": "markdown",
   "metadata": {
    "slideshow": {
     "slide_type": "fragment"
    }
   },
   "source": [
    "F. Dubois - 2016"
   ]
  },
  {
   "cell_type": "code",
   "execution_count": null,
   "metadata": {
    "slideshow": {
     "slide_type": "subslide"
    }
   },
   "outputs": [],
   "source": [
    "#Initialization\n",
    "\n",
    "from pathlib import Path\n",
    "import numpy as np\n",
    "from pylmgc90 import pre\n",
    "\n",
    "datbox = Path('DATBOX')\n",
    "datbox.mkdir(exist_ok=True)\n",
    "\n",
    "# 2D\n",
    "dim = 2\n",
    "\n",
    "# containers\n",
    "#   * bodies\n",
    "bodies = pre.avatars()\n",
    "#   * materials\n",
    "mats   = pre.materials()\n",
    "#   * see tables\n",
    "svs    = pre.see_tables()\n",
    "#   * contact laws\n",
    "tacts  = pre.tact_behavs()\n",
    "\n",
    "tt=0."
   ]
  },
  {
   "cell_type": "markdown",
   "metadata": {
    "slideshow": {
     "slide_type": "subslide"
    }
   },
   "source": [
    "\n",
    "Defining a material/model suitable for rigid objects. "
   ]
  },
  {
   "cell_type": "code",
   "execution_count": null,
   "metadata": {
    "slideshow": {
     "slide_type": "fragment"
    }
   },
   "outputs": [],
   "source": [
    "mat  = pre.material(name='TDURx', materialType='RIGID', density=1000.)\n",
    "mats+= mat\n",
    "\n",
    "mod  = pre.model(name='rigid', physics='MECAx', element='Rxx2D', dimension=dim)"
   ]
  },
  {
   "cell_type": "markdown",
   "metadata": {
    "slideshow": {
     "slide_type": "subslide"
    }
   },
   "source": [
    "Crank:\n",
    " motor ..."
   ]
  },
  {
   "cell_type": "code",
   "execution_count": null,
   "metadata": {
    "slideshow": {
     "slide_type": "fragment"
    }
   },
   "outputs": [],
   "source": [
    "disk = pre.avatar(dimension=2)\n",
    "# new node\n",
    "no = pre.node(coor=np.array([0.,0.]),number=1)\n",
    "# adding no to avatar\n",
    "disk.addNode( no )\n",
    "# new element \n",
    "disk.addBulk( pre.rigid2d() )\n",
    "#\n",
    "disk.defineGroups()\n",
    "#\n",
    "disk.defineModel(model=mod)\n",
    "disk.defineMaterial(material=mat)\n",
    "#\n",
    "disk.addContactors(shape='DISKx', color='BLUEx', byrd=0.5)\n",
    "disk.addContactors(shape='PT2Dx', color='VERTx', shift=[0., 0.])\n",
    "disk.addContactors(shape='PT2Dx', color='VERTx', shift=[0.1,0.])\n",
    "disk.computeRigidProperties()\n",
    "\n",
    "disk.imposeDrivenDof(component=[1, 2], dofty='vlocy')\n",
    "disk.imposeDrivenDof(component=[3], dofty='vlocy',ct=1.,rampi=1.)\n",
    "\n",
    "bodies+=disk"
   ]
  },
  {
   "cell_type": "markdown",
   "metadata": {
    "slideshow": {
     "slide_type": "subslide"
    }
   },
   "source": [
    " ... arm 1 ..."
   ]
  },
  {
   "cell_type": "code",
   "execution_count": null,
   "metadata": {},
   "outputs": [],
   "source": [
    "arm1 = pre.avatar(dimension=2)\n",
    "# new node\n",
    "no = pre.node(coor=np.array([1,0.]),number=1)\n",
    "# adding no to avatar\n",
    "arm1.addNode( no )\n",
    "# new element \n",
    "arm1.addBulk( pre.rigid2d() )\n",
    "#\n",
    "arm1.defineGroups()\n",
    "#\n",
    "arm1.defineModel(model=mod)\n",
    "arm1.defineMaterial(material=mat)\n",
    "#\n",
    "arm1.addContactors(shape='JONCx', color='WALLx', axe1=1., axe2=0.1)\n",
    "arm1.addContactors(shape='PT2Dx', color='VERTx', shift=[-1.,0.])\n",
    "arm1.addContactors(shape='PT2Dx', color='VERTx', shift=[-0.9,0.])\n",
    "arm1.addContactors(shape='PT2Dx', color='VERTx', shift=[1.,0.])\n",
    "arm1.computeRigidProperties()\n",
    "bodies+=arm1"
   ]
  },
  {
   "cell_type": "markdown",
   "metadata": {},
   "source": [
    " ... arm2 ..."
   ]
  },
  {
   "cell_type": "code",
   "execution_count": null,
   "metadata": {},
   "outputs": [],
   "source": [
    "arm2 = pre.avatar(dimension=2)\n",
    "# new node\n",
    "no = pre.node(coor=np.array([5.,0.]),number=1)\n",
    "# adding no to avatar\n",
    "arm2.addNode( no )\n",
    "# new element \n",
    "arm2.addBulk( pre.rigid2d() )\n",
    "#\n",
    "arm2.defineGroups()\n",
    "#\n",
    "arm2.defineModel(model=mod)\n",
    "arm2.defineMaterial(material=mat)\n",
    "#\n",
    "arm2.addContactors(shape='JONCx', color='WALLx', axe1=3., axe2=0.1)\n",
    "arm2.addContactors(shape='PT2Dx', color='VERTx', shift=[-3.,0.])\n",
    "arm2.addContactors(shape='PT2Dx', color='VERTx', shift=[3.,0.])\n",
    "arm2.computeRigidProperties()\n",
    "\n",
    "bodies+=arm2"
   ]
  },
  {
   "cell_type": "markdown",
   "metadata": {},
   "source": [
    "shovel"
   ]
  },
  {
   "cell_type": "code",
   "execution_count": null,
   "metadata": {},
   "outputs": [],
   "source": [
    "yy=-3.\n",
    "\n",
    "shovel = pre.avatar(dimension=2)\n",
    "# new node\n",
    "no = pre.node(coor=np.array([8.,yy]),number=1)\n",
    "# adding no to avatar\n",
    "shovel.addNode( no )\n",
    "# new element \n",
    "shovel.addBulk( pre.rigid2d() )\n",
    "#\n",
    "shovel.defineGroups()\n",
    "#\n",
    "shovel.defineModel(model=mod)\n",
    "shovel.defineMaterial(material=mat)\n",
    "#\n",
    "shovel.addContactors(shape='POLYG', color='REDxx', nb_vertices=4, \n",
    "                     vertices=np.array([[-0.1,-2],[0.1,-2],[0.1,2.],[-0.1,2]]))\n",
    "shovel.addContactors(shape='POLYG', color='REDxx', nb_vertices=4, \n",
    "                     vertices=np.array([[-0.1,2.],[-0.5,2.],[-0.5,1.9],[-0.1,1.9]]))\n",
    "shovel.addContactors(shape='POLYG', color='REDxx', nb_vertices=4, \n",
    "                     vertices=np.array([[0.1,-2],[0.5,-2],[0.5,-1.9],[0.1,-1.9]]))\n",
    "\n",
    "shovel.addContactors(shape='PT2Dx', color='VERTx', shift=[0.,-yy])\n",
    "#\n",
    "shovel.computeRigidProperties()\n",
    "#\n",
    "shovel.imposeDrivenDof(component=[1, 2], dofty='vlocy')\n",
    "#\n",
    "bodies+=shovel\n"
   ]
  },
  {
   "cell_type": "code",
   "execution_count": null,
   "metadata": {},
   "outputs": [],
   "source": [
    "down = pre.rigidJonc(axe1=3., axe2=0.1, center=[11.,yy-2.], model=mod, material=mat, color='REDxx')\n",
    "down.imposeDrivenDof(component=[1, 2, 3], dofty='vlocy')\n",
    "bodies+=down\n",
    "\n",
    "left = pre.rigidJonc(axe1=2., axe2=0.1, center=[8.,yy], model=mod, material=mat, color='REDxx')\n",
    "left.imposeDrivenDof(component=[1, 2, 3], dofty='vlocy')\n",
    "left.rotate(description='axis', center=left.nodes[1].coor, axis=[0.,0.,1.], \n",
    "            alpha=np.pi/2.)\n",
    "bodies+=left \n",
    "\n",
    "right = pre.rigidJonc(axe1=2., axe2=0.1, center=[14.,yy], model=mod, material=mat, color='REDxx')\n",
    "right.imposeDrivenDof(component=[1, 2, 3], dofty='vlocy')\n",
    "right.rotate(description='axis', center=right.nodes[1].coor, axis=[0.,0.,1.], \n",
    "             alpha=np.pi/2.)\n",
    "bodies+=right \n"
   ]
  },
  {
   "cell_type": "code",
   "execution_count": null,
   "metadata": {},
   "outputs": [],
   "source": [
    "nb_particles = 100\n",
    "radii = pre.granulo_Random(nb_particles, 0.1, 0.3)\n",
    "\n",
    "# depot dans une boite rectangulaire\n",
    "lx = 5.8\n",
    "ly = 4. \n",
    "nb_laid_particles, coor, radii = pre.depositInBox2D(radii, lx, ly)\n",
    "\n",
    "# si toutes les particules deposees n'ont pas ete conservees\n",
    "if (nb_laid_particles < nb_particles):\n",
    "   # on affiche un avertissement\n",
    "   print(\"Warning: granulometry changed, since some particles were removed!\")\n",
    "\n",
    "# boucle d'ajout des disques :\n",
    "for r, c in zip(radii, coor):\n",
    "    # creation un nouveau disque rigide, constitue du materiau plex\n",
    "    body = pre.rigidDisk(r=r, center=c, model=mod, material=mat, color='REDxx') \n",
    "    body.translate(dx=8.1,dy=yy-1.9) \n",
    "    # ajout du disque dans le conteneur de corps\n",
    "    bodies += body"
   ]
  },
  {
   "cell_type": "markdown",
   "metadata": {},
   "source": [
    "contact laws"
   ]
  },
  {
   "cell_type": "code",
   "execution_count": null,
   "metadata": {},
   "outputs": [],
   "source": [
    "lcpl  = pre.tact_behav(name='xxxxx', law='COUPLED_DOF')\n",
    "tacts+= lcpl\n",
    "liqs  = pre.tact_behav(name='iqsc0', law='IQS_CLB', fric=0.3)\n",
    "tacts+= liqs\n",
    "\n",
    "sv1 = pre.see_table(CorpsCandidat   ='RBDY2', candidat   ='PT2Dx', colorCandidat   ='VERTx',\n",
    "                    behav=lcpl, \n",
    "                    CorpsAntagoniste='RBDY2', antagoniste='PT2Dx', colorAntagoniste='VERTx',\n",
    "                    alert=0.05)\n",
    "svs+=sv1\n",
    "\n",
    "sv2 = pre.see_table(CorpsCandidat   ='RBDY2', candidat   ='POLYG', colorCandidat   ='REDxx',\n",
    "                    behav=liqs, \n",
    "                    CorpsAntagoniste='RBDY2', antagoniste='DISKx', colorAntagoniste='REDxx',\n",
    "                    alert=0.05)\n",
    "svs+=sv2\n",
    "\n",
    "sv3 = pre.see_table(CorpsCandidat   ='RBDY2', candidat   ='DISKx', colorCandidat   ='REDxx',\n",
    "                    behav=liqs, \n",
    "                    CorpsAntagoniste='RBDY2', antagoniste='JONCx', colorAntagoniste='REDxx',\n",
    "                    alert=0.05)\n",
    "svs+=sv3\n",
    "\n",
    "sv4 = pre.see_table(CorpsCandidat   ='RBDY2', candidat   ='DISKx', colorCandidat   ='REDxx',\n",
    "                    behav=liqs, \n",
    "                    CorpsAntagoniste='RBDY2', antagoniste='DISKx', colorAntagoniste='REDxx',\n",
    "                    alert=0.05)\n",
    "svs+=sv4\n"
   ]
  },
  {
   "cell_type": "code",
   "execution_count": null,
   "metadata": {},
   "outputs": [],
   "source": [
    "# writing files\n",
    "\n",
    "post = pre.postpro_commands()\n",
    "my_command = pre.postpro_command(name='SOLVER INFORMATIONS', step=1)\n",
    "post.addCommand(my_command)\n",
    "#\n",
    "\n",
    "pre.writeDatbox(dim, mats, [mod], bodies, tacts, svs, post=post, datbox_path=datbox)\n",
    "\n",
    "try:\n",
    "    pre.visuAvatars(bodies)\n",
    "except:\n",
    "    pass"
   ]
  },
  {
   "cell_type": "code",
   "execution_count": null,
   "metadata": {
    "slideshow": {
     "slide_type": "fragment"
    }
   },
   "outputs": [],
   "source": [
    "\n",
    "#  disk.addContactors(shape='POLYG', color='REDxx', nb_vertices=4, \n",
    "#                     vertices=np.array([[-1.,-1.],[1.,-1.],[1.,1.],[-1.,1.]]))\n"
   ]
  },
  {
   "cell_type": "code",
   "execution_count": null,
   "metadata": {},
   "outputs": [],
   "source": []
  }
 ],
 "metadata": {
  "celltoolbar": "Slideshow",
  "kernelspec": {
   "display_name": "Python 3",
   "language": "python",
   "name": "python3"
  },
  "language_info": {
   "codemirror_mode": {
    "name": "ipython",
    "version": 3
   },
   "file_extension": ".py",
   "mimetype": "text/x-python",
   "name": "python",
   "nbconvert_exporter": "python",
   "pygments_lexer": "ipython3",
   "version": "3.6.4"
  },
  "latex_envs": {
   "bibliofile": "biblio.bib",
   "cite_by": "apalike",
   "current_citInitial": 1,
   "eqLabelWithNumbers": true,
   "eqNumInitial": 0
  },
  "toc": {
   "toc_cell": true,
   "toc_number_sections": true,
   "toc_threshold": "3",
   "toc_window_display": false
  }
 },
 "nbformat": 4,
 "nbformat_minor": 1
}
