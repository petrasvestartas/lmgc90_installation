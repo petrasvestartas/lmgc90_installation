{
 "cells": [
  {
   "cell_type": "markdown",
   "id": "fdd66242",
   "metadata": {},
   "source": [
    "Python quiz:\n",
    "============\n",
    "\n",
    "Basic:\n",
    "------\n",
    "  \n",
    "* Create 3 variables:\n",
    "  * `n` : the number of random integer to create,\n",
    "  * `a` : the lower bound of integer numbers to create,\n",
    "  * `b` : the upper bound of integer numbers to create. "
   ]
  },
  {
   "cell_type": "code",
   "execution_count": null,
   "id": "d9bb757b",
   "metadata": {},
   "outputs": [],
   "source": [
    "n =\n",
    "a =\n",
    "b = "
   ]
  },
  {
   "cell_type": "markdown",
   "id": "8f6345b0",
   "metadata": {},
   "source": [
    "* Create a list `gl` of `n` random integer number between `a` and `b`"
   ]
  },
  {
   "cell_type": "code",
   "execution_count": null,
   "id": "8dc2edec",
   "metadata": {},
   "outputs": [],
   "source": [
    "import random\n",
    "gl = "
   ]
  },
  {
   "cell_type": "markdown",
   "id": "7ee67ace",
   "metadata": {},
   "source": [
    "* Display the unique elements of `gl` list"
   ]
  },
  {
   "cell_type": "code",
   "execution_count": null,
   "id": "94aa7a47",
   "metadata": {},
   "outputs": [],
   "source": []
  },
  {
   "cell_type": "markdown",
   "id": "d7dbd363",
   "metadata": {},
   "source": [
    "* Count the number of unique element in `gl` list"
   ]
  },
  {
   "cell_type": "code",
   "execution_count": null,
   "id": "bd63aa63",
   "metadata": {},
   "outputs": [],
   "source": []
  },
  {
   "cell_type": "markdown",
   "id": "79150771",
   "metadata": {},
   "source": [
    "* Generate a `d` dictionnary mapping the unique integer number to the number of occurences in `gl`"
   ]
  },
  {
   "cell_type": "code",
   "execution_count": null,
   "id": "77c1ae15",
   "metadata": {},
   "outputs": [],
   "source": [
    "d = "
   ]
  },
  {
   "cell_type": "markdown",
   "id": "1f53bae8",
   "metadata": {},
   "source": [
    "* Generate the reverse dictionnary of `d`"
   ]
  },
  {
   "cell_type": "code",
   "execution_count": null,
   "id": "d5e1c09a",
   "metadata": {},
   "outputs": [],
   "source": [
    "rd = "
   ]
  },
  {
   "cell_type": "markdown",
   "id": "894099a7",
   "metadata": {},
   "source": [
    "* Compute the integer medium value of counted occurences"
   ]
  },
  {
   "cell_type": "code",
   "execution_count": null,
   "id": "1d1f0765",
   "metadata": {},
   "outputs": [],
   "source": [
    "mean_v = "
   ]
  },
  {
   "cell_type": "markdown",
   "id": "254c87c9",
   "metadata": {},
   "source": [
    "* Count the number of occurences inferior to threshold computed at previous step."
   ]
  },
  {
   "cell_type": "code",
   "execution_count": null,
   "id": "f3702860",
   "metadata": {},
   "outputs": [],
   "source": []
  },
  {
   "cell_type": "markdown",
   "id": "e02d6fed",
   "metadata": {},
   "source": [
    "Numpy:\n",
    "------\n",
    "\n",
    "* Create some working data:\n",
    "  * Choose an arbitrary number of particles `n` and two radii `ra` and `rb`.\n",
    "  * Create a random numpy array of size `[n]` called `radii`  (between `ra` and `rb`)\n",
    "  * Create a random numpy array of size `[n,3]` called `coor` "
   ]
  },
  {
   "cell_type": "code",
   "execution_count": null,
   "id": "b9eca5b8",
   "metadata": {},
   "outputs": [],
   "source": [
    "import numpy as np\n",
    "n  = 12\n",
    "ra = 1.\n",
    "rb = 2.\n",
    "cmin = 0.\n",
    "cmax = 5.\n",
    "r = np.random.rand(n) * (rb-ra) + ra\n",
    "coor = np.random.rand(n,3) * (cmax-cmin) + cmin"
   ]
  },
  {
   "cell_type": "code",
   "execution_count": null,
   "id": "3866cf61",
   "metadata": {},
   "outputs": [],
   "source": [
    "coor"
   ]
  },
  {
   "cell_type": "markdown",
   "id": "f98d34ba",
   "metadata": {},
   "source": [
    "* Define the bounding box of the sample (`coor` and associated with `radii`)"
   ]
  },
  {
   "cell_type": "code",
   "execution_count": null,
   "id": "82886e02",
   "metadata": {},
   "outputs": [],
   "source": [
    "bmin = np.amin(coor - r[:,np.newaxis],axis=0)\n",
    "bmax = np.amax(coor + r[:,np.newaxis],axis=0)"
   ]
  },
  {
   "cell_type": "code",
   "execution_count": null,
   "id": "cb84cf28",
   "metadata": {},
   "outputs": [],
   "source": [
    "print(bmin,bmax)"
   ]
  },
  {
   "cell_type": "markdown",
   "id": "bdb78fbf",
   "metadata": {},
   "source": [
    "* Extract the indices of the coordinates inside a subdomain\n",
    "  * define a circle center in the middle of the boundary box\n",
    "  * define the circle radius to be an arbitrary fraction of the domain\n",
    "  * define the test to verify if a coordinate is in circle\n",
    "  * use it on each coordinates\n",
    "  * try to use it or redefine it on all coor in one go\n",
    "  * use `nonzero` method to extract the list of indices"
   ]
  },
  {
   "cell_type": "code",
   "execution_count": null,
   "id": "75382b8a",
   "metadata": {},
   "outputs": [],
   "source": [
    "circle_c = (bmin + bmax)/2.\n",
    "circle_r = np.linalg.norm(bmax-bmin)/5.\n",
    "print(circle_c,circle_r)\n",
    "c = coor[0]\n",
    "for c in coor:\n",
    "  print( np.linalg.norm(c-circle_c) < circle_r )"
   ]
  },
  {
   "cell_type": "code",
   "execution_count": null,
   "id": "8dd983ae",
   "metadata": {},
   "outputs": [],
   "source": [
    "c_mask = np.linalg.norm(coor-circle_c,axis=1) < circle_r\n",
    "print(c_mask)"
   ]
  },
  {
   "cell_type": "code",
   "execution_count": null,
   "id": "24bf146a",
   "metadata": {},
   "outputs": [],
   "source": [
    "coor[c_mask]"
   ]
  },
  {
   "cell_type": "code",
   "execution_count": null,
   "id": "e4a94d59",
   "metadata": {},
   "outputs": [],
   "source": [
    "c_mask.nonzero()"
   ]
  },
  {
   "cell_type": "markdown",
   "id": "29058643",
   "metadata": {},
   "source": [
    "* Define a `[3,3]` matrix allowing to swap the last two coordinates of the array"
   ]
  },
  {
   "cell_type": "code",
   "execution_count": null,
   "id": "bfed8eb1",
   "metadata": {},
   "outputs": [],
   "source": [
    "rot = np.zeros([3,3])\n",
    "rot[0,0] = rot[1,2] = rot[2,1] = 1.\n",
    "print(rot)"
   ]
  },
  {
   "cell_type": "code",
   "execution_count": null,
   "id": "a5f34ce5",
   "metadata": {},
   "outputs": [],
   "source": [
    "print(coor[0])\n",
    "np.matmul(coor,rot)"
   ]
  },
  {
   "cell_type": "code",
   "execution_count": null,
   "id": "6fe7a088",
   "metadata": {},
   "outputs": [],
   "source": [
    "coor.dtype"
   ]
  },
  {
   "cell_type": "markdown",
   "id": "ebe3176c",
   "metadata": {},
   "source": [
    "* Apply the transformation to all coordinates"
   ]
  },
  {
   "cell_type": "code",
   "execution_count": null,
   "id": "6bffb388",
   "metadata": {},
   "outputs": [],
   "source": []
  }
 ],
 "metadata": {
  "kernelspec": {
   "display_name": "Python 3 (ipykernel)",
   "language": "python",
   "name": "python3"
  },
  "language_info": {
   "codemirror_mode": {
    "name": "ipython",
    "version": 3
   },
   "file_extension": ".py",
   "mimetype": "text/x-python",
   "name": "python",
   "nbconvert_exporter": "python",
   "pygments_lexer": "ipython3",
   "version": "3.10.12"
  }
 },
 "nbformat": 4,
 "nbformat_minor": 5
}
