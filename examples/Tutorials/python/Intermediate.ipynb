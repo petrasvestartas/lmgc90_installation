{
 "cells": [
  {
   "cell_type": "markdown",
   "metadata": {
    "toc": "true"
   },
   "source": [
    "# Table of Contents\n",
    " <p><div class=\"lev1\"><a href=\"#Introduction-1\"><span class=\"toc-item-num\">1&nbsp;&nbsp;</span>Introduction</a></div><div class=\"lev1\"><a href=\"#More-on-lists-2\"><span class=\"toc-item-num\">2&nbsp;&nbsp;</span>More on lists</a></div><div class=\"lev2\"><a href=\"#Lists-indexing-2.1\"><span class=\"toc-item-num\">2.1&nbsp;&nbsp;</span>Lists indexing</a></div><div class=\"lev2\"><a href=\"#Operation-on-list-2.2\"><span class=\"toc-item-num\">2.2&nbsp;&nbsp;</span>Operation on list</a></div><div class=\"lev1\"><a href=\"#Numpy-arrays-3\"><span class=\"toc-item-num\">3&nbsp;&nbsp;</span>Numpy arrays</a></div><div class=\"lev2\"><a href=\"#Constructors-3.1\"><span class=\"toc-item-num\">3.1&nbsp;&nbsp;</span>Constructors</a></div><div class=\"lev2\"><a href=\"#Indexing-and-Slicing-3.2\"><span class=\"toc-item-num\">3.2&nbsp;&nbsp;</span>Indexing and Slicing</a></div><div class=\"lev2\"><a href=\"#Operations-3.3\"><span class=\"toc-item-num\">3.3&nbsp;&nbsp;</span>Operations</a></div><div class=\"lev1\"><a href=\"#Plotting-data-4\"><span class=\"toc-item-num\">4&nbsp;&nbsp;</span>Plotting data</a></div><div class=\"lev2\"><a href=\"#Plot-4.1\"><span class=\"toc-item-num\">4.1&nbsp;&nbsp;</span>Plot</a></div><div class=\"lev2\"><a href=\"#Simple-improvements-4.2\"><span class=\"toc-item-num\">4.2&nbsp;&nbsp;</span>Simple improvements</a></div>"
   ]
  },
  {
   "cell_type": "markdown",
   "metadata": {},
   "source": [
    "# Introduction #\n",
    "\n",
    "This tutorial follows the *Basis* one and will provide further informations on how to use\n",
    "the language especially when wanting to deal with arrays. A quick reminder on how to run\n",
    "through list will be given. Then the core of the tutorial will be focusing on the arrays\n",
    "structure and how to manipulate them. Finally a short section will describe how to plot\n",
    "these data.\n",
    "\n",
    "# More on lists #\n",
    "\n",
    "It is remind that the *list* is a container type allowing\n",
    "dynamic size and heterogenous data (i.e: its size can change\n",
    "and mixed type of data can be stored within a single list).\n",
    "\n",
    "## Lists indexing ##\n",
    "\n",
    "* indices begin at 0\n",
    "* indexing operator ```[begin:end:step]```\n",
    "* can also be used with ```range```\n",
    "* *end* is excluded of the selection\n",
    "* if the index ```i``` is negative, it is interpreted like ```n+i``` (where ```n``` is the size)\n",
    "* if the integer between the ```:``` is omitted, the default values are ```0```, ```size``` and ```1```\n",
    "\n",
    "**Exercise:**\n",
    "\n",
    "* Generate a list going from 0 to 9 (with range function and the list constructor)\n",
    "  * Display the first, last, one before last elements\n",
    "* From this list generate a new one:\n",
    "  * going from 0 to 4\n",
    "  * going from 4 to 9\n",
    "  * with the even numbers\n",
    "  * with the odd number in decreasing order until 3\n",
    "* Generate a list of even number going from 2 to 10"
   ]
  },
  {
   "cell_type": "code",
   "execution_count": null,
   "metadata": {},
   "outputs": [],
   "source": []
  },
  {
   "cell_type": "markdown",
   "metadata": {},
   "source": [
    "## Operation on list ##\n",
    "\n",
    "**Exercice:**\n",
    "\n",
    "* Define two lists of integers ```v1``` and ```v2```\n",
    "* Now compute a third list ```v3``` such that ```v3 = v1 + 3*v2```\n"
   ]
  },
  {
   "cell_type": "code",
   "execution_count": null,
   "metadata": {},
   "outputs": [],
   "source": []
  },
  {
   "cell_type": "markdown",
   "metadata": {},
   "source": [
    "The previous exercice is meant to show that lists are not\n",
    "convenients to manipulate numeric vectors. And it would be\n",
    "much worse with matrices.\n"
   ]
  },
  {
   "cell_type": "markdown",
   "metadata": {},
   "source": [
    "# Numpy arrays #\n",
    "\n",
    "The *numpy* module is package designed to use n-dimension arrays and operate\n",
    "on them in an efficient way.\n",
    "\n",
    "To allow this efficency the restiction are:\n",
    "\n",
    "* total size of the array is constant\n",
    "* elements type is homongenous\n",
    "* type of elements is static\n",
    "\n",
    "So to create an array, the first critical information needed is the sizes, the second one is the\n",
    "data type to store.\n",
    "\n",
    "The arithmetic operator are all element wise by default and work very well. Indexing is done through increasing integer\n",
    "starting from 0, each dimension of the array being accessed by an index separated by commas (exactly like the list).\n",
    "\n",
    "This module offers many convenient tool for basic linear algebra. Look into the help to get an idea of how much\n",
    "this module as in store for you.\n",
    "\n",
    "The most common import syntax of the NumPy module is :"
   ]
  },
  {
   "cell_type": "code",
   "execution_count": null,
   "metadata": {},
   "outputs": [],
   "source": [
    "import numpy as np\n",
    "#help(np)"
   ]
  },
  {
   "cell_type": "markdown",
   "metadata": {},
   "source": [
    "## Constructors ##\n",
    "\n",
    "The first way to create an array is in fact to convert one from a list.\n",
    "In this case the type of the data is the least restrictive type.\n",
    "\n",
    "**Exercise:**\n",
    "\n",
    "* Create a list of integers and then an array from it\n",
    "* Create a list of reals and then an array from it\n",
    "* Create a list mixing reals and integers, then create\n",
    "  an array from it and check the type of its data."
   ]
  },
  {
   "cell_type": "code",
   "execution_count": null,
   "metadata": {},
   "outputs": [],
   "source": []
  },
  {
   "cell_type": "markdown",
   "metadata": {},
   "source": [
    "The previous method is ok for small vectors or matrices\n",
    "but quickly becomes a pain for large arrays.\n",
    "\n",
    "Thus there are a several other constructors which will take the\n",
    "size of the array as an input instead of the values of the array:\n",
    "\n",
    "* ```zeros``` and ```ones```: to create array filled with 0. and 1. respectively\n",
    "* ```linspace```: to create a vector with evenly space values ranging between\n",
    "  2 bounds\n",
    "* ```arange```: the same as the ```range``` function of Python excepts that\n",
    "  an array is returned and not a list\n",
    "* ```random```: to create an array of random values between 0. and 1.\n",
    "\n",
    "**Exercise:**\n",
    "\n",
    "* Try each of the aforementioned constructors to generate vectors and matrices\n",
    "* Check the ```shape``` attribute of each of your array"
   ]
  },
  {
   "cell_type": "code",
   "execution_count": null,
   "metadata": {},
   "outputs": [],
   "source": []
  },
  {
   "cell_type": "markdown",
   "metadata": {},
   "source": [
    "## Indexing and Slicing ##\n",
    "\n",
    "Numpy syntax to access data of an array is very powerful, but sometimes a little cumbersome.\n",
    "An interesting point though is to access slices of data instead of only one single index.\n",
    "\n",
    "The following syntax is meant for one dimension. If the array has several dimension the same syntax\n",
    "can be used along each dimension (separated by commas).\n",
    "\n",
    "* \"`:`\"  access the whole range of the dimension\n",
    "* \"`begin:end:step`\" is any index *i* starting from *`begin`*, increasing of *`step`* and of last index not higher than *`end-1`*\n",
    "* default values of `begin` is `0`, of `end` is dimension size `end` and of `step` is `1`.\n",
    "* \"`-1`\" is the last index\n",
    "\n",
    "**Exercises:**\n",
    "\n",
    "* Generate a 5x5 matrix\n",
    "* Extract the 2 first rows\n",
    "* Extract the 2 first columns\n",
    "* Extract the lower right block matrix of size 2x2\n",
    "* Extract the matrix corresponding to rows of even indices and columns of odd indices"
   ]
  },
  {
   "cell_type": "code",
   "execution_count": null,
   "metadata": {},
   "outputs": [],
   "source": []
  },
  {
   "cell_type": "markdown",
   "metadata": {},
   "source": [
    "## Operations ##\n",
    "\n",
    "The mathematical operators ```python +,-,*,/``` and ```**``` (for power)\n",
    "are element wise operators. They can be used between:\n",
    "\n",
    "* a single value and and an array\n",
    "* two arrays of the same shape\n",
    "\n",
    "The ```dot``` and ```tensordot``` functions allows matrix and tensor products\n",
    "and must be used with array of compatible shapes"
   ]
  },
  {
   "cell_type": "markdown",
   "metadata": {
    "collapsed": true
   },
   "source": [
    "\n",
    "**Exercise:**\n",
    "\n",
    "* Create some arrays with the constructors `zeros`, `arange` and `linspace`.\n",
    "* Try to add/multiply/divide any of them with a real value and check the result.\n",
    "* Create two matrices and one vector of compatible sizes (maybe with `random.random` of `numpy`).\n",
    "Then add or multiply the matrices or one matrix and the vector.\n",
    "* Then try again using `dot` of `numpy` module."
   ]
  },
  {
   "cell_type": "code",
   "execution_count": null,
   "metadata": {},
   "outputs": [],
   "source": []
  },
  {
   "cell_type": "markdown",
   "metadata": {},
   "source": [
    "\n",
    "The *NumPy* module provides a large range of usefull functions. Here is \n",
    "small sample:\n",
    "* Methods : *min, max, argmin, argmax, sort, etc*\n",
    "* Functions : *dot* and *tensordot* for matrix/tensor products, every functions of math module\n",
    "  also exist in NumPy to work with NumPy arrays.\n",
    "* Module: *linalg* for linear algebra (system resolution, etc)\n"
   ]
  },
  {
   "cell_type": "code",
   "execution_count": null,
   "metadata": {},
   "outputs": [],
   "source": []
  },
  {
   "cell_type": "markdown",
   "metadata": {},
   "source": [
    "## Broadcasting\n",
    "\n",
    "To have a better understanding on how numpy allows arithmetic operations on arrays of different shapes, have look to the [official documentation](https://numpy.org/doc/stable/user/basics.broadcasting.html) on this topic.\n",
    "Furthermore, [this page](https://medium.com/better-programming/numpy-illustrated-the-visual-guide-to-numpy-3b1d4976de1d) offers a very good intake on how is numpy working and how to use it in a smart way.\n",
    "\n",
    "Numpy is very picky with the shape of the involved array and their shape. As such a vector of size *n* is not the same size than a matrix of size *nx1*. And depending on the shape, the broadcasting rule may provide different results."
   ]
  },
  {
   "cell_type": "code",
   "execution_count": null,
   "metadata": {},
   "outputs": [],
   "source": [
    "mat = np.random.random( [3,3] )\n",
    "vec = np.arange( 3 )\n",
    "print( mat )\n",
    "print( mat + vec )"
   ]
  },
  {
   "cell_type": "markdown",
   "metadata": {},
   "source": [
    "If it is desired to change the way the broadcasting is done, then the shape of the *vec* array must be changed. This is where the *np.newaxis* index is used. It allows to add an artificial index of size one:"
   ]
  },
  {
   "cell_type": "code",
   "execution_count": null,
   "metadata": {},
   "outputs": [],
   "source": [
    "print( vec.shape )\n",
    "print( vec[:,np.newaxis].shape )\n",
    "print( mat + vec[:, np.newaxis] )"
   ]
  },
  {
   "cell_type": "markdown",
   "metadata": {},
   "source": [
    "# Plotting data #\n",
    "\n",
    "The `matplotlib` package is designed to display graph\n",
    "of data stored in NumPy arrays. It is best at 2D graph\n",
    "or 3D graph (i.e. a surface in a 3D space). For 3D geometric\n",
    "reprensentation, it is best to look for another package\n",
    "(like mayavi or vtk).\n",
    "\n",
    "The aim of this section is to provided to simplest and\n",
    "quickest way to represent some 2D data.\n",
    "\n",
    "Official documentation: http://matplotlib.org/stable/contents.html\n",
    "\n",
    "## Plot ##\n",
    "\n",
    "Matplotlib module implicitly works on its own objects.\n",
    "`plot` command will create new objects that the user may not see.\n",
    "\n",
    "Once the objects created, the figure can be generated with the `show` command.\n",
    "\n",
    "**Exercise:**\n",
    "\n",
    "* Plot the $sin(2\\pi x)$ function between $[-1,1]$ with the commands `plot` and `show` of the `matplotlib.pyplot` module.\n",
    "`plot` may be use with a single array as an input.\n",
    "* Change the value of abcisses axis by adding the evaluation points of the functions.\n",
    "* Change the display style with the string `'ro'` as the third argument.\n"
   ]
  },
  {
   "cell_type": "code",
   "execution_count": null,
   "metadata": {},
   "outputs": [],
   "source": [
    "%matplotlib inline\n",
    "from  matplotlib import pyplot as plt\n",
    "\n",
    "x = np.linspace( -1, 1, 50)"
   ]
  },
  {
   "cell_type": "code",
   "execution_count": null,
   "metadata": {},
   "outputs": [],
   "source": [
    "plt.plot( np.sin(2*np.pi*x))"
   ]
  },
  {
   "cell_type": "code",
   "execution_count": null,
   "metadata": {},
   "outputs": [],
   "source": [
    "plt.plot( x, np.sin(2*np.pi*x), 'ro' )"
   ]
  },
  {
   "cell_type": "markdown",
   "metadata": {},
   "source": [
    "* Colors can be defined by:\n",
    " * a predefined letter (b: blue, g: green, r: red, c: cyan, m: magenta y: yellow, k: black, w: white)\n",
    " * a value between 0 and 1 for a level of grey\n",
    " * a tuple of 3 values between 0 and 1 for a RGB\n",
    " * an htmo marker in hexadecimal (#eeefff)\n",
    " \n",
    "* Line styles (which link points) :\n",
    " * '-' \tsolid\n",
    " * '--' dashed\n",
    " * '-.' dash_dot\n",
    " * ':' \tdotted\n",
    " * '' or ' ' or None for nothing\n",
    " \n",
    "* Point marker styles:\n",
    "  * '.' point\n",
    "  * ',' pixel\n",
    "  * 'o' circle\n",
    "  * 'v' triangle_down\n",
    "  * '^' triangle_up\n",
    "  * 's' square\n",
    "  * '*' star\n",
    "  * for others: http://matplotlib.org/api/markers_api.html#module-matplotlib.markers"
   ]
  },
  {
   "cell_type": "code",
   "execution_count": null,
   "metadata": {},
   "outputs": [],
   "source": [
    "plt.plot( x, np.sin(2*np.pi*x), color='g', marker='*', linestyle=':' )"
   ]
  },
  {
   "cell_type": "markdown",
   "metadata": {},
   "source": [
    "## Simple improvements ##\n",
    "\n",
    "Some simple functions to improve the final graphics:\n",
    "\n",
    "* *title* to give a title to the figure\n",
    "* *xlabel* to add a label on abscesses axe\n",
    "* *ylabel* to add a label on the ordinates axe\n",
    "\n",
    "These command all return a *text* object which can referenced in order to change the properties afterward\n",
    "(size of letters, orientation, http://matplotlib.org/api/text_api.html#matplotlib.text.Text)\n",
    "\n",
    "* *grid* allow to add/remove the background grid\n",
    "* *legend* display the legend (use the *label* parameter of a plot)\n",
    "\n",
    "* *setp* set the property of an object"
   ]
  },
  {
   "cell_type": "code",
   "execution_count": null,
   "metadata": {},
   "outputs": [],
   "source": [
    "lx = np.linspace(0.,2*np.pi,1000)\n",
    "si = plt.plot(lx,np.sin(lx),label='numpy function')\n",
    "plt.xlabel('x')\n",
    "plt.ylabel('y')\n",
    "plt.title(\"$sin(2\\pi x)$\")\n",
    "plt.legend(loc='upper right')\n",
    "\n",
    "plt.grid(True)\n"
   ]
  },
  {
   "cell_type": "markdown",
   "metadata": {},
   "source": [
    "### Several plot ###\n",
    "\n",
    "To display several graphs on a same figure:\n",
    "\n",
    "* Either give the data of each curve one after the other in one *plot*.\n",
    "* Or call *plot* once per curve before the call to *show*\n",
    "\n",
    "**Exercise:** Plot, on a single figure, the sinus and cosinus functions"
   ]
  },
  {
   "cell_type": "code",
   "execution_count": null,
   "metadata": {},
   "outputs": [],
   "source": [
    "ll = plt.plot(lx,np.sin(lx),'y')\n",
    "\n",
    "plt.setp(ll[0],label='w=1')\n",
    "plt.plot(lx,np.sin(2*lx),'r',label='w=2')\n",
    "plt.plot(lx,np.sin(3*lx),'g',label='w=3')\n",
    "plt.plot(lx,np.sin(4*lx),'b',label='w=4')\n",
    "\n",
    "plt.title(\"$sin(w2\\pi x)$\")\n",
    "plt.legend(loc='upper right')\n",
    "\n",
    "plt.grid(True)"
   ]
  },
  {
   "cell_type": "markdown",
   "metadata": {},
   "source": [
    "### Axes ###\n",
    "\n",
    "Some commands act on the axes:\n",
    "\n",
    "* Size: *xlim*, *ylim* or *axis*\n",
    "* Scale: *xticks*, *yticks*\n",
    "  * Allow to choose the scale\n",
    "  * Also allow to choose what will be display on the axes\n",
    "\n",
    "Exercise: Adjust the axes on the previous figure to display $[0,\\frac{\\pi}{2},\\pi,\\frac{3\\pi}{2},2\\pi]$."
   ]
  },
  {
   "cell_type": "code",
   "execution_count": null,
   "metadata": {},
   "outputs": [],
   "source": [
    "ll = plt.plot(lx,np.sin(lx),'y')\n",
    "\n",
    "plt.setp(ll[0],label='w=1')\n",
    "plt.plot(lx,np.sin(2*lx),'r',label='w=2')\n",
    "plt.plot(lx,np.sin(3*lx),'g',label='w=3')\n",
    "plt.plot(lx,np.sin(4*lx),'b',label='w=4')\n",
    "\n",
    "plt.title(\"$sin(w2\\pi x)$\")\n",
    "plt.legend(loc='upper right')\n",
    "\n",
    "plt.grid(True)\n",
    "\n",
    "plt.ylim([-1.1,1.1])\n",
    "plt.yticks([-1,0,1])\n",
    "plt.xticks([0,np.pi/2.,np.pi,3*np.pi/2.,2*np.pi], [r\"$0$\",r\"$\\frac{\\pi}{2}$\",r\"$\\pi$\",r\"$\\frac{3\\pi}{2}$\",r\"$2\\pi$\"])\n"
   ]
  },
  {
   "cell_type": "markdown",
   "metadata": {},
   "source": [
    "### Text and Annotate ###\n",
    "\n",
    "Functions allowing to add text on a figure:\n",
    "\n",
    "* *text* : wherever on the figure\n",
    "* *annotate* : text pointing to a pixel\n",
    "\n",
    "Each of these functions return an object, which properties can be modified with the `setp` function. Interesting properties are:\n",
    "\n",
    " * color\n",
    " * backgroundcolor\n",
    " * size\n",
    " * style\n",
    " \n",
    "Exercise: Add a text (for example the approximation of $\\pi$, and an annotation on the value of $sinus$ at $\\frac{3\\pi}{4}$"
   ]
  },
  {
   "cell_type": "code",
   "execution_count": null,
   "metadata": {},
   "outputs": [],
   "source": [
    "ll = plt.plot(lx,np.sin(lx),'y')\n",
    "\n",
    "plt.setp(ll[0],label='w=1')\n",
    "plt.plot(lx,np.sin(2*lx),'r',label='w=2')\n",
    "plt.plot(lx,np.sin(3*lx),'g',label='w=3')\n",
    "plt.plot(lx,np.sin(4*lx),'b',label='w=4')\n",
    "\n",
    "plt.title(\"$sin(w2\\pi x)$\")\n",
    "plt.legend(loc='upper right')\n",
    "\n",
    "plt.grid(True)\n",
    "\n",
    "plt.ylim([-1.1,1.1])\n",
    "plt.yticks([-1,0,1])\n",
    "plt.xticks([0,np.pi/2.,np.pi,3*np.pi/2.,2*np.pi], [r\"$0$\",r\"$\\frac{\\pi}{2}$\",r\"$\\pi$\",r\"$\\frac{3\\pi}{2}$\",r\"$2\\pi$\"])\n",
    "\n",
    "t = plt.text(0.5,-0.5,\"$\\pi \\simeq 3.14156$\")\n",
    "plt.setp(t,color='c',fontsize=14)\n",
    "t = plt.annotate(r'$\\frac{3\\pi}{4}$',xy=(3*np.pi/4,np.sqrt(2)/2.),xytext=(2.,-0.2),arrowprops=dict(facecolor='black', shrink=0.05))"
   ]
  },
  {
   "cell_type": "markdown",
   "metadata": {},
   "source": [
    "### Figure and Subplot ###\n",
    "\n",
    "It is possible to generate several figures. By default every commands presented here work on the current figure.\n",
    "By calling the *figure* command (with an integer as input parameter) to create a new figure.\n",
    "\n",
    "In a single figure, several panels can be displayed with each its own axes with the *subplot* command.\n",
    "Three arguments are needed: the number of rows, the number of columns, the index of the graph.\n",
    "\n",
    "Exercise: Generate two figures, one with the sinus and one with interpolation points and the interpolated functions on\n",
    "different panels."
   ]
  },
  {
   "cell_type": "code",
   "execution_count": null,
   "metadata": {},
   "outputs": [],
   "source": [
    "lx = np.linspace(-np.pi, np.pi, 1000)\n",
    "plt.figure()\n",
    "plt.subplot(121)\n",
    "plt.plot(lx,np.sin(lx),'o',label='sin')\n",
    "plt.subplot(122)\n",
    "plt.plot(lx,np.cos(lx),'r',label='cos')\n",
    "\n"
   ]
  },
  {
   "cell_type": "markdown",
   "metadata": {},
   "source": [
    "# Other module of interest #\n",
    "\n",
    "## Scientific Python: SciPy ##\n",
    "\n",
    "The SciPy module is based on NumPy to provide numerous algorithms use in scientific computations.\n",
    "It is made of several sub-modules:\n",
    "\n",
    "<TABLE BORDER=\"1\">\n",
    "<TR> <TD> <A HREF=\"http://docs.scipy.org/doc/scipy/reference/cluster.html\">scipy.cluster</A> </TD>\n",
    "     <TD> Vector quantization / Kmeans </TD></TR>\n",
    "<TR> <TD> <A HREF=\"http://docs.scipy.org/doc/scipy/reference/constants.html\">scipy.constants</A> </TD>\n",
    "     <TD> Mathematical and physics constants </TD></TR>\n",
    "<TR> <TD> <A HREF=\"http://docs.scipy.org/doc/scipy/reference/fftpack.html\">scipy.fftpack</A> </TD>\n",
    "     <TD> Fourier Transformed </TD></TR>\n",
    "<TR> <TD> <A HREF=\"http://docs.scipy.org/doc/scipy/reference/integrate.html\">scipy.integrate</A> </TD>\n",
    "     <TD> Integrals </TD></TR>\n",
    "<TR> <TD> <A HREF=\"http://docs.scipy.org/doc/scipy/reference/interpolate.html\">scipy.interpolate</A> </TD>\n",
    "     <TD> Interpolation </TD></TR>\n",
    "<TR> <TD> <A HREF=\"http://docs.scipy.org/doc/scipy/reference/io.html\">scipy.io</A> </TD>\n",
    "     <TD> Input/Output </TD></TR>\n",
    "<TR> <TD> <A HREF=\"http://docs.scipy.org/doc/scipy/reference/linalg.html\">scipy.linalg</A> </TD>\n",
    "     <TD> Linear Algebra </TD></TR>\n",
    "<TR> <TD> <A HREF=\"http://docs.scipy.org/doc/scipy/reference/ndimage.html\">scipy.ndimage</A> </TD>\n",
    "     <TD> Image filtering (n dimension) </TD></TR>\n",
    "<TR> <TD> <A HREF=\"http://docs.scipy.org/doc/scipy/reference/odr.html\">scipy.odr</A> </TD>\n",
    "     <TD> Orthogonal distance regression </TD></TR>\n",
    "<TR> <TD> <A HREF=\"http://docs.scipy.org/doc/scipy/reference/optimize.html\">scipy.optimize</A> </TD>\n",
    "     <TD> Optimization </TD></TR>\n",
    "<TR> <TD> <A HREF=\"http://docs.scipy.org/doc/scipy/reference/signal.html\">scipy.signal</A> </TD>\n",
    "     <TD> Signal processing </TD></TR>\n",
    "<TR> <TD> <A HREF=\"http://docs.scipy.org/doc/scipy/reference/sparse.html\">scipy.sparse</A> </TD>\n",
    "     <TD> Sparse matrix </TD></TR>\n",
    "<TR> <TD> <A HREF=\"http://docs.scipy.org/doc/scipy/reference/spatial.html\">scipy.spatial</A> </TD>\n",
    "     <TD> Algorithm and space data structure </TD></TR>\n",
    "<TR> <TD> <A HREF=\"http://docs.scipy.org/doc/scipy/reference/special.html\">scipy.special</A> </TD>\n",
    "     <TD> Special mathematical functions </TD></TR>\n",
    "<TR> <TD> <A HREF=\"http://docs.scipy.org/doc/scipy/reference/stats.html\">scipy.stats</A> </TD>\n",
    "     <TD> Statistics </TD></TR>\n",
    "</TABLE>\n",
    "\n",
    "Providing details on each would be long and boring.\n"
   ]
  },
  {
   "cell_type": "code",
   "execution_count": null,
   "metadata": {},
   "outputs": [],
   "source": []
  },
  {
   "cell_type": "markdown",
   "metadata": {},
   "source": [
    "## Pandas ##\n",
    "\n",
    "For those intersted in managing large set of heterogenous data, the [pandas](https://pandas.pydata.org/docs/getting_started/index.html) module is a very useful package. Some use of it will presented later to help with working on interactions."
   ]
  },
  {
   "cell_type": "code",
   "execution_count": null,
   "metadata": {},
   "outputs": [],
   "source": []
  }
 ],
 "metadata": {
  "kernelspec": {
   "display_name": "Python 3",
   "language": "python",
   "name": "python3"
  },
  "language_info": {
   "codemirror_mode": {
    "name": "ipython",
    "version": 3
   },
   "file_extension": ".py",
   "mimetype": "text/x-python",
   "name": "python",
   "nbconvert_exporter": "python",
   "pygments_lexer": "ipython3",
   "version": "3.6.9"
  },
  "latex_envs": {
   "bibliofile": "biblio.bib",
   "cite_by": "apalike",
   "current_citInitial": 1,
   "eqLabelWithNumbers": true,
   "eqNumInitial": 0
  },
  "toc": {
   "toc_cell": true,
   "toc_number_sections": true,
   "toc_threshold": "3",
   "toc_window_display": false
  }
 },
 "nbformat": 4,
 "nbformat_minor": 2
}
