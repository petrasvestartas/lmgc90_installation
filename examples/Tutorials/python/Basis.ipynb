{
 "cells": [
  {
   "cell_type": "markdown",
   "metadata": {
    "toc": "true"
   },
   "source": [
    "<h1>Table of Contents<span class=\"tocSkip\"></span></h1>\n",
    "<div class=\"toc\"><ul class=\"toc-item\"><li><span><a href=\"#Introduction\" data-toc-modified-id=\"Introduction-1\"><span class=\"toc-item-num\">1&nbsp;&nbsp;</span>Introduction</a></span></li><li><span><a href=\"#How-to-use\" data-toc-modified-id=\"How-to-use-2\"><span class=\"toc-item-num\">2&nbsp;&nbsp;</span>How to use</a></span><ul class=\"toc-item\"><li><span><a href=\"#Very-basic-use\" data-toc-modified-id=\"Very-basic-use-2.1\"><span class=\"toc-item-num\">2.1&nbsp;&nbsp;</span>Very basic use</a></span></li><li><span><a href=\"#A-little-less-basic\" data-toc-modified-id=\"A-little-less-basic-2.2\"><span class=\"toc-item-num\">2.2&nbsp;&nbsp;</span>A little less basic</a></span></li><li><span><a href=\"#Through-an-IDE\" data-toc-modified-id=\"Through-an-IDE-2.3\"><span class=\"toc-item-num\">2.3&nbsp;&nbsp;</span>Through an IDE</a></span></li><li><span><a href=\"#The-jupyter-notebook\" data-toc-modified-id=\"The-jupyter-notebook-2.4\"><span class=\"toc-item-num\">2.4&nbsp;&nbsp;</span>The jupyter notebook</a></span></li></ul></li><li><span><a href=\"#First-steps:\" data-toc-modified-id=\"First-steps:-3\"><span class=\"toc-item-num\">3&nbsp;&nbsp;</span>First steps:</a></span><ul class=\"toc-item\"><li><span><a href=\"#Variables/Values\" data-toc-modified-id=\"Variables/Values-3.1\"><span class=\"toc-item-num\">3.1&nbsp;&nbsp;</span>Variables/Values</a></span></li><li><span><a href=\"#Types\" data-toc-modified-id=\"Types-3.2\"><span class=\"toc-item-num\">3.2&nbsp;&nbsp;</span>Types</a></span></li><li><span><a href=\"#Operators\" data-toc-modified-id=\"Operators-3.3\"><span class=\"toc-item-num\">3.3&nbsp;&nbsp;</span>Operators</a></span></li></ul></li><li><span><a href=\"#Re-use\" data-toc-modified-id=\"Re-use-4\"><span class=\"toc-item-num\">4&nbsp;&nbsp;</span>Re-use</a></span><ul class=\"toc-item\"><li><span><a href=\"#Functions\" data-toc-modified-id=\"Functions-4.1\"><span class=\"toc-item-num\">4.1&nbsp;&nbsp;</span>Functions</a></span></li><li><span><a href=\"#Modules\" data-toc-modified-id=\"Modules-4.2\"><span class=\"toc-item-num\">4.2&nbsp;&nbsp;</span>Modules</a></span></li><li><span><a href=\"#Getting-help\" data-toc-modified-id=\"Getting-help-4.3\"><span class=\"toc-item-num\">4.3&nbsp;&nbsp;</span>Getting help</a></span></li></ul></li><li><span><a href=\"#Collections\" data-toc-modified-id=\"Collections-5\"><span class=\"toc-item-num\">5&nbsp;&nbsp;</span>Collections</a></span><ul class=\"toc-item\"><li><span><a href=\"#The-list\" data-toc-modified-id=\"The-list-5.1\"><span class=\"toc-item-num\">5.1&nbsp;&nbsp;</span>The list</a></span></li><li><span><a href=\"#The-dictionary\" data-toc-modified-id=\"The-dictionary-5.2\"><span class=\"toc-item-num\">5.2&nbsp;&nbsp;</span>The dictionary</a></span></li><li><span><a href=\"#The-Numpy-arrays\" data-toc-modified-id=\"The-Numpy-arrays-5.3\"><span class=\"toc-item-num\">5.3&nbsp;&nbsp;</span>The Numpy arrays</a></span></li><li><span><a href=\"#More-on-strings\" data-toc-modified-id=\"More-on-strings-5.4\"><span class=\"toc-item-num\">5.4&nbsp;&nbsp;</span>More on strings</a></span></li></ul></li><li><span><a href=\"#Control-Structure\" data-toc-modified-id=\"Control-Structure-6\"><span class=\"toc-item-num\">6&nbsp;&nbsp;</span>Control Structure</a></span><ul class=\"toc-item\"><li><span><a href=\"#For\" data-toc-modified-id=\"For-6.1\"><span class=\"toc-item-num\">6.1&nbsp;&nbsp;</span>For</a></span></li><li><span><a href=\"#If\" data-toc-modified-id=\"If-6.2\"><span class=\"toc-item-num\">6.2&nbsp;&nbsp;</span>If</a></span></li><li><span><a href=\"#While\" data-toc-modified-id=\"While-6.3\"><span class=\"toc-item-num\">6.3&nbsp;&nbsp;</span>While</a></span></li></ul></li><li><span><a href=\"#Saving/Loading-to/from-file\" data-toc-modified-id=\"Saving/Loading-to/from-file-7\"><span class=\"toc-item-num\">7&nbsp;&nbsp;</span>Saving/Loading to/from file</a></span><ul class=\"toc-item\"><li><span><a href=\"#The-convenient-way\" data-toc-modified-id=\"The-convenient-way-7.1\"><span class=\"toc-item-num\">7.1&nbsp;&nbsp;</span>The convenient way</a></span></li><li><span><a href=\"#The-numpy-way\" data-toc-modified-id=\"The-numpy-way-7.2\"><span class=\"toc-item-num\">7.2&nbsp;&nbsp;</span>The numpy way</a></span></li><li><span><a href=\"#The-hard-way\" data-toc-modified-id=\"The-hard-way-7.3\"><span class=\"toc-item-num\">7.3&nbsp;&nbsp;</span>The hard way</a></span></li><li><span><a href=\"#Managing-files\" data-toc-modified-id=\"Managing-files-7.4\"><span class=\"toc-item-num\">7.4&nbsp;&nbsp;</span>Managing files</a></span></li></ul></li><li><span><a href=\"#It's-a-trap-!\" data-toc-modified-id=\"It's-a-trap-!-8\"><span class=\"toc-item-num\">8&nbsp;&nbsp;</span>It's a trap !</a></span><ul class=\"toc-item\"><li><span><a href=\"#First:-references\" data-toc-modified-id=\"First:-references-8.1\"><span class=\"toc-item-num\">8.1&nbsp;&nbsp;</span>First: references</a></span></li><li><span><a href=\"#Second:-namespaces\" data-toc-modified-id=\"Second:-namespaces-8.2\"><span class=\"toc-item-num\">8.2&nbsp;&nbsp;</span>Second: namespaces</a></span><ul class=\"toc-item\"><li><span><a href=\"#In-case-of-doubt:\" data-toc-modified-id=\"In-case-of-doubt:-8.2.1\"><span class=\"toc-item-num\">8.2.1&nbsp;&nbsp;</span>In case of doubt:</a></span></li></ul></li></ul></li></ul></div>"
   ]
  },
  {
   "cell_type": "markdown",
   "metadata": {},
   "source": [
    "# Introduction\n",
    "\n",
    "This tutorial aims at providing basic informations about Python language.\n",
    "Python is an interpreted language. As such, every instructions are executed and the results evaluated one after the other.\n",
    "There is much more to Python than what is provided here.\n",
    "\n",
    "* Pros:\n",
    " * easy to learn\n",
    " * very permissive\n",
    " * dynamically typed\n",
    " * gather a large community of users and developers\n",
    "\n",
    "* Cons:\n",
    " * too permissive thus needs good coding practice to avoid *the dirty way*\n",
    " * can be very slow (especially if not relying on libraries)\n",
    "\n",
    "References:\n",
    " * official python website: https://www.python.org/\n"
   ]
  },
  {
   "cell_type": "markdown",
   "metadata": {},
   "source": [
    "# How to use\n",
    "\n",
    "## Very basic use\n",
    "\n",
    "Inside the terminal just run the `python` command will start the interpretor. It wil lthen be possible to enter commands one after another.\n",
    "\n",
    "Or if the commands were save into a text file with the `.py` extension, then running `python myscript.py` will execute all the commands saved in the file.\n",
    "\n",
    "To run a script and keep the interpretor alive to continue using it, `python -i myscript.py` should be run.\n",
    "\n",
    "## A little less basic\n",
    "\n",
    "The command `ipython` may be run instead of simply `python`. It is an overlay on the basic python allowing to keep the story of run commands between each session and handle some terminal commands natively. Which make it much easier to handle.\n",
    "\n",
    "## Through an IDE\n",
    "\n",
    "The Integrated Development Environment are tools allowing to develop in a single environment allowing to edit the different files of your project and tests them in a dedicated interpretor. The most well known are:\n",
    "* [Spyder](https://www.spyder-ide.org/) which offers an interface close to Matlab\n",
    "* [PyCharm](https://www.jetbrains.com/pycharm/) which is more project management oriented\n",
    "\n",
    "## The jupyter notebook\n",
    "\n",
    "Which is the form currently in use. The notebook is a great way to share tutorials. Each document is divided into cells which can, either store text as the currently reading one. Or *code cells* in which some python code can be executed.\n",
    "\n",
    "Thus, even if some code is provided for you to run, you can change the content to try your hand at the different explanation provided.\n",
    "\n",
    "Thus as the owner of the files stored on your computer, you can change everything in this document. If you want to make some adjustment that help you better understand what is presented, feel free to amend any of the available cells or simply to add a new one.\n",
    "\n",
    "If you want to revert back to the original one, you should click on the *File* menu, then *revert to checkpoint* and select the older date.\n",
    "\n",
    "By clicking *File/Download as*, it is possible to save this content in different format like *.py*\n",
    "to save as a python script to use, or a pdf to generate a demonstration document."
   ]
  },
  {
   "cell_type": "markdown",
   "metadata": {},
   "source": [
    "# First steps:\n",
    "\n",
    "## Variables/Values\n",
    "\n",
    "Variable names:\n",
    "\n",
    "* must start with a letter or an underscore\n",
    "* followed by any letter, number of underscore\n",
    "* are case sensitive\n",
    "\n",
    "Contrary to C or other classical compiled programming languages, there is no need to declare variable.\n",
    "To create a new variable, just initialize it with a value:"
   ]
  },
  {
   "cell_type": "code",
   "execution_count": null,
   "metadata": {},
   "outputs": [],
   "source": [
    "radius = 0.1\n",
    "nb_particles = 20\n",
    "body1 = 1\n",
    "Radius = 4.\n",
    "print(body1, nb_particles, radius, Radius)"
   ]
  },
  {
   "cell_type": "markdown",
   "metadata": {},
   "source": [
    "The left hand side is the *variable*. The right hand side is the *value*.\n",
    "Notice that ```=``` is an operator which behaves very differently from the mathematical operator (assignment versus equality).\n",
    "For example the following statement will throw an error:\n",
    "```\n",
    "0.1 = radius\n",
    "```"
   ]
  },
  {
   "cell_type": "markdown",
   "metadata": {},
   "source": [
    "**Exercise:**\n",
    "\n",
    "Just try to create some variables on you own with names and values that you could make use of."
   ]
  },
  {
   "cell_type": "code",
   "execution_count": null,
   "metadata": {},
   "outputs": [],
   "source": []
  },
  {
   "cell_type": "markdown",
   "metadata": {},
   "source": [
    "## Types\n",
    "\n",
    "Variables are not typed but values are.\n",
    "The type describes the set in which a value lives.\n",
    "\n",
    "Basic types are:\n",
    "\n",
    "* boolean\n",
    "* integer\n",
    "* real\n",
    "* complex\n",
    "* string (not so basic)\n",
    "\n",
    "Use the function *type* to check the type of the value referenced by a variable."
   ]
  },
  {
   "cell_type": "code",
   "execution_count": null,
   "metadata": {},
   "outputs": [],
   "source": [
    "s = 'is_circle'\n",
    "is_circle = True\n",
    "print(s, is_circle)\n",
    "print(type(s), type(is_circle), type(body1), type(radius))"
   ]
  },
  {
   "cell_type": "markdown",
   "metadata": {},
   "source": [
    "**Exercise:**\n",
    "\n",
    "Check the type of the variables you created before. Try to create new variables of different types\n",
    "(maybe some string for example)."
   ]
  },
  {
   "cell_type": "code",
   "execution_count": null,
   "metadata": {},
   "outputs": [],
   "source": []
  },
  {
   "cell_type": "markdown",
   "metadata": {},
   "source": [
    "**Advanced remarks:**  \n",
    " * Booleans are a subset of the integers. ```False``` is 0 ```True``` whatever other value.  \n",
    "To convert any nondescript value to a boolean, the rule is: 0 and ```None``` are ```False```, everything else ```True```.  \n",
    " * ```None``` means something indefinite.  "
   ]
  },
  {
   "cell_type": "markdown",
   "metadata": {},
   "source": [
    "## Operators\n",
    "\n",
    "The permissible operations depend on the involved types.\n",
    "Python divides the operators in the following groups (have a look [here](https://www.w3schools.com/python/python_operators.asp) )\n",
    "   - Arithmetic operators: `+`, `-`, `*`, `/`, `%`, `**`, `//`  \n",
    "   - Assignment operators: `=`, `+=`, `-=`, `*=`, `/=`, `%=`, `//=`, `**=`, `&=`, `|=`, `^=`, `>>=`, `<<=`\n",
    "   - Comparison operators: `==`, `!=`, `>`, `<`, `>=`, `<=`\n",
    "   - Logical operators: `and`, `or`, `not`\n",
    "   - Identity operators: `is`, `is not` \n",
    "   - Membership operators: `in`, `not in`\n",
    "   - Bitwise operators: `&`, `|`, `^`, `~`, `<<`, `>>`\n"
   ]
  },
  {
   "cell_type": "markdown",
   "metadata": {},
   "source": [
    "Logical operators work with booleans:"
   ]
  },
  {
   "cell_type": "code",
   "execution_count": null,
   "metadata": {},
   "outputs": [],
   "source": [
    "print(not True)\n",
    "print(True or False)\n",
    "print(True and False)"
   ]
  },
  {
   "cell_type": "markdown",
   "metadata": {},
   "source": [
    "Arithmetic operators work with: `int`, `float` and in some case with `str`  "
   ]
  },
  {
   "cell_type": "code",
   "execution_count": null,
   "metadata": {
    "scrolled": true
   },
   "outputs": [],
   "source": [
    "mean_radius = (radius + Radius) / 2.\n",
    "print(mean_radius)\n",
    "old_nb = nb_particles\n",
    "nb_particles *= 2\n",
    "print(nb_particles == old_nb)\n",
    "is_even = nb_particles%2 == 0\n",
    "print(is_even)"
   ]
  },
  {
   "cell_type": "code",
   "execution_count": null,
   "metadata": {},
   "outputs": [],
   "source": [
    "print( 'body1 '+s+\" of radius \"+str(Radius))"
   ]
  },
  {
   "cell_type": "markdown",
   "metadata": {},
   "source": [
    "Arithmetic operation respect PEMDAS precedence (parentheses, exponentiation, multplication, division, addition, substraction)"
   ]
  },
  {
   "cell_type": "markdown",
   "metadata": {},
   "source": [
    "**Exercise:**\n",
    "\n",
    "* Try a longer calculation, use the parenthesis to define priorities if there is any doubt.\n",
    "* Try operation mixing types. Divide two integers, then the same values but as reals.\n",
    "* Try some operation on strings."
   ]
  },
  {
   "cell_type": "code",
   "execution_count": null,
   "metadata": {},
   "outputs": [],
   "source": []
  },
  {
   "cell_type": "markdown",
   "metadata": {},
   "source": [
    "**Advanced remarks:**\n",
    " * ```is``` : check if two variables are the same object (same memory location) not the same value \n",
    " * ```bool()```, ```int()```, ```float()```, ```str()``` : allow type casting"
   ]
  },
  {
   "cell_type": "code",
   "execution_count": null,
   "metadata": {},
   "outputs": [],
   "source": [
    "# Exercise : explain\n",
    "a = 1; b = 1.\n",
    "print(a == b)\n",
    "print(a is b)\n",
    "c = -1\n",
    "print(bool(c))\n",
    "c = 0.\n",
    "print(bool(c))\n",
    "print(True and not (True or False))"
   ]
  },
  {
   "cell_type": "markdown",
   "metadata": {},
   "source": [
    "# Re-use"
   ]
  },
  {
   "cell_type": "markdown",
   "metadata": {},
   "source": [
    "## Functions\n",
    "\n",
    "Defining functions is a convenient way, used by most programming language, to re-use blocks of instructions.\n",
    "Functions usually take arguments as inputs (which may be modified on output or not) and may return outputs.\n",
    "To ensure to avoid any errors, when calling a function, the arguments name should always be recalled.\n",
    "Otherwise make sure to call the arguments in the right order !\n",
    "\n",
    "The ```print``` function as been used multiple times since the beginning. Let's try to define a function doing\n",
    "linear combination of two numbers and test local/global variables and if they change in input/output:"
   ]
  },
  {
   "cell_type": "code",
   "execution_count": null,
   "metadata": {},
   "outputs": [],
   "source": [
    "def linearCombination(x,y):\n",
    "    '''\n",
    "    perform a*x+b*y computation\n",
    "    '''\n",
    "    a = 5\n",
    "    b = 4\n",
    "    x *= a\n",
    "    x += b*y\n",
    "    return x\n",
    "\n",
    "#help(linearCombination)\n",
    "a = 10\n",
    "b = 3\n",
    "\n",
    "x = 2\n",
    "y = 3\n",
    "z = linearCombination(x,y)\n",
    "print(a, b, x, y, z)"
   ]
  },
  {
   "cell_type": "markdown",
   "metadata": {},
   "source": [
    "**Exercise:**\n",
    "\n",
    "* Try to define an new function with a default value\n",
    "  for one of its argument\n",
    "* Call this function and change the order of call of the arguments"
   ]
  },
  {
   "cell_type": "code",
   "execution_count": null,
   "metadata": {},
   "outputs": [],
   "source": []
  },
  {
   "cell_type": "markdown",
   "metadata": {},
   "source": [
    "\n",
    "## Modules\n",
    "\n",
    "The usual way to distribute Python code is through modules. It is basically a file (or a directory) defining functions, variables and classes.\n",
    "\n",
    "Several standard modules are provided by default and even more with distributions.\n",
    "The most basic ones for scientific computing are: `math`, `random`, `numpy`, `scipy`, `matplotlib`, `pandas`.\n",
    "\n",
    "Module are use thanks to the `import` statement. Then everything defined by the module can be used thanks to the \"`.`\":\n",
    "```\n",
    "import module\n",
    "module.a_function()\n",
    "```\n",
    "\n",
    "For example let's use the `math` module:"
   ]
  },
  {
   "cell_type": "code",
   "execution_count": null,
   "metadata": {},
   "outputs": [],
   "source": [
    "import math\n",
    "print(math.pi)\n",
    "print( math.sin(math.pi*0.5) )"
   ]
  },
  {
   "cell_type": "markdown",
   "metadata": {},
   "source": [
    "Only a subset of the module can be imported, and to avoid conflicts, any imported module or subset can be renamed :"
   ]
  },
  {
   "cell_type": "code",
   "execution_count": null,
   "metadata": {},
   "outputs": [],
   "source": [
    "from math import sin as sinus_function_from_math\n",
    "print( sinus_function_from_math(math.pi/2.) )"
   ]
  },
  {
   "cell_type": "markdown",
   "metadata": {},
   "source": [
    "\n",
    "## Getting help\n",
    "\n",
    "Sometimes it is hard to know how or what function/module/class to use.\n",
    "Thus to get the documentation of any class/module/function, just ask for help:"
   ]
  },
  {
   "cell_type": "code",
   "execution_count": null,
   "metadata": {},
   "outputs": [],
   "source": [
    "#help(math)"
   ]
  },
  {
   "cell_type": "code",
   "execution_count": null,
   "metadata": {},
   "outputs": [],
   "source": [
    "from random import uniform\n",
    "#help(uniform)"
   ]
  },
  {
   "cell_type": "code",
   "execution_count": null,
   "metadata": {},
   "outputs": [],
   "source": [
    "print( uniform(1.,2.) )"
   ]
  },
  {
   "cell_type": "markdown",
   "metadata": {},
   "source": [
    "**Exercise:**\n",
    "\n",
    "* Try to import the `pylmgc90` module\n",
    "* Check its help, you should see that it contains several submodules/packages\n",
    "* Try to import the `pre` submodule and check its help\n"
   ]
  },
  {
   "cell_type": "code",
   "execution_count": null,
   "metadata": {},
   "outputs": [],
   "source": []
  },
  {
   "cell_type": "markdown",
   "metadata": {},
   "source": [
    "# Collections\n",
    "\n",
    "Using only boolean, integers and real is not very convenient for advanced used of the language.\n",
    "Here are presented serveral types of containers which are extensively used in LMGC90:\n",
    "\n",
    "* the list\n",
    "* the dictionaries\n",
    "* the arrays (from `numpy` module)\n",
    "\n",
    "In the following some vocabulary inherited from the object oriented programming will be used\n",
    "(even if sometimes it could be considered improper for purists).\n",
    "\n",
    "Thus an advanced type is called a **class**. When one wants to create something from a class\n",
    "the **constructor** of the class is used. Then an **object** of the class is produced, which\n",
    "will be referenced by a variable. There are special functions, tied to a class, called **methods**,\n",
    "which will work on an object or the data stored by the object. The syntax to call a method is:\n",
    "```\n",
    "object = class() # <- call to the constructor of the class\n",
    "object.method()  # <- call to a method of an object\n",
    "```"
   ]
  },
  {
   "cell_type": "markdown",
   "metadata": {},
   "source": [
    "## The list\n",
    "\n",
    "Allows to gather objects from different classes and order them. The number of object can change\n",
    "anytime. Data are accessed through an integer index (starting from 0).\n",
    "There is no arithmetic operation on the lists."
   ]
  },
  {
   "cell_type": "code",
   "execution_count": null,
   "metadata": {},
   "outputs": [],
   "source": [
    "dummy = [ 1, 12., 'toto']   # so useless... works only for demonstrating\n",
    "bodies = ['b3', 'b5', 'b2'] # list constructor\n",
    "\n",
    "is_visible = []             # empty list\n",
    "is_visible.append( bodies[1] )\n",
    "\n",
    "print( bodies )\n",
    "\n",
    "nb_bodies = len(bodies)     # get the number of elements in the list\n",
    "print( nb_bodies )\n",
    "print( is_visible )"
   ]
  },
  {
   "cell_type": "markdown",
   "metadata": {},
   "source": [
    "**Exercises:**\n",
    "\n",
    "* Create a list either with the constructor or by appending elements.\n",
    "* Use the function `range` to generate a list of integers.\n",
    "* Try to use the methods  `pop`, `sort` and `reverse`.\n",
    "* Check if a specific element is present in the list with the `in` statemement"
   ]
  },
  {
   "cell_type": "code",
   "execution_count": null,
   "metadata": {},
   "outputs": [],
   "source": []
  },
  {
   "cell_type": "markdown",
   "metadata": {},
   "source": [
    "## The dictionary\n",
    "\n",
    "An associative list. Instead of indexing the list by an increasing integer, other values can be used instead.\n",
    "The mean to access the values of a dictionary is through its **keys**. To get the list of keys of a dictionary\n",
    "use the `keys` method. To get the list of values... use the `values` method!"
   ]
  },
  {
   "cell_type": "code",
   "execution_count": null,
   "metadata": {},
   "outputs": [],
   "source": [
    "geometries = {}              # empty dictionary\n",
    "geometries['disk'] = [1,3,5] # adding the 'disk' key and associate a list to its value\n",
    "geometries['polygons'] = 4   # adding the 'polygon' key and associate \n",
    "geometries['disk'].append(2) # modifying the value associated to 'disk' key\n",
    "geometries['polygons'] = [4] # replacing the value associated to 'polygon' key from an integer to a list\n",
    "print( geometries )\n",
    "print( geometries.keys() )"
   ]
  },
  {
   "cell_type": "markdown",
   "metadata": {},
   "source": [
    "**Exercises:**\n",
    "\n",
    "* Get a configuration dictionary of LMGC90: `pre.config.lmgc90dicts.dimension2contactor`\n",
    "* Check the possible keys.\n",
    "* Display the list of available contactors in dimension 3"
   ]
  },
  {
   "cell_type": "code",
   "execution_count": null,
   "metadata": {},
   "outputs": [],
   "source": []
  },
  {
   "cell_type": "markdown",
   "metadata": {},
   "source": [
    "## The Numpy arrays\n",
    "\n",
    "Are a way to work on vectors/matrices. Very convenient but the syntax to access is not very intuitive.\n",
    "Contrary to the list which can change its size and store object of different types, the numpy array\n",
    "is of fixed size and the type of all its elements must be the same numerical type.\n",
    "\n",
    "Only a simple creation example is presented here, look forward to another presentation dedicated to the\n",
    "array use later.\n"
   ]
  },
  {
   "cell_type": "code",
   "execution_count": null,
   "metadata": {},
   "outputs": [],
   "source": [
    "import numpy as np\n",
    "coor = np.random.random([5,3])   # array with random initial value of shape [5,3]\n",
    "visibles = np.array( [False]*5 ) # array \n",
    "visibles[2] = True\n",
    "print(coor)\n",
    "print(visibles)\n",
    "coor[visibles,2] # works because visibles is same size than the first dimension of coor"
   ]
  },
  {
   "cell_type": "markdown",
   "metadata": {},
   "source": [
    "**Exercise:**\n",
    "\n",
    "* Create an array with the constructors `zeros`.\n"
   ]
  },
  {
   "cell_type": "code",
   "execution_count": null,
   "metadata": {},
   "outputs": [],
   "source": []
  },
  {
   "cell_type": "markdown",
   "metadata": {},
   "source": [
    "There are still other structures that may be of use:\n",
    " * tuples: which are ordered and non mutable containers\n",
    " * sets: which offers unordered and unindexed container with some interesting methods (`union`, `symmetric_difference`...)"
   ]
  },
  {
   "cell_type": "markdown",
   "metadata": {},
   "source": [
    "## More on strings\n",
    "  \n",
    "Concatenation is done thanks to the operator ```+```.  \n",
    "There are a lot of methods manipulating string and making it easy to search, replace, etc.  \n",
    "Strings are used in the same way than the list except that they are immutable.  "
   ]
  },
  {
   "cell_type": "code",
   "execution_count": null,
   "metadata": {},
   "outputs": [],
   "source": [
    "a = 'a'+4*'b'\n",
    "print(a)\n",
    "b = 'banana'\n",
    "print(b[2], b[-1], len(b))\n",
    "print(b.split('a'))\n",
    "print(b.replace('n','l'))\n",
    "print(b.capitalize())\n",
    "print(b.upper())\n",
    "print('--'.join(['1','2','3','4']))\n",
    "print('banana'.count('na'))\n",
    "print(\"Python\".find('on'))"
   ]
  },
  {
   "cell_type": "markdown",
   "metadata": {
    "collapsed": true
   },
   "source": [
    "# Control Structure\n",
    "\n",
    "Are used to repeat or conditionally execute blocks of instructions. The scope of the statement\n",
    "defining the block, is defined by the \"`:`\" at the end of line to mark the beginning\n",
    "of the block and lasts as long as the next instructions have the same text indentation."
   ]
  },
  {
   "cell_type": "markdown",
   "metadata": {
    "collapsed": true
   },
   "source": [
    "## For\n",
    "\n",
    "Allows to run through all the elements of a collection (array, list, dictionary, tuple, set or string) to repeat the same instruction.\n",
    "\n",
    "Since Python iterates on the collection, the index is not directly accessible.\n",
    "If one want to get the indices, the list of indices must be generated or the function `enumerate` must be used."
   ]
  },
  {
   "cell_type": "code",
   "execution_count": null,
   "metadata": {},
   "outputs": [],
   "source": [
    "import numpy as np\n",
    "coor = np.random.random( [5,3] )\n",
    "print( coor )\n",
    "is_visible = [1, 3]\n",
    "for i in is_visible:\n",
    "    print( coor[i,:] )"
   ]
  },
  {
   "cell_type": "markdown",
   "metadata": {},
   "source": [
    "It is possible to generate a *lazy* list of indices with `range` function."
   ]
  },
  {
   "cell_type": "markdown",
   "metadata": {},
   "source": [
    "**Exercises**:\n",
    "\n",
    "* Get the list of contactors of LMGC90 in 2D\n",
    "* Create a dictionary (call it coor2d) where each elements of the previous list is a key and\n",
    "associate it a positive integer number (n)\n",
    "* Run through the dictionnary to replace the values by a numpy array of size (nx2) with random values"
   ]
  },
  {
   "cell_type": "code",
   "execution_count": null,
   "metadata": {},
   "outputs": [],
   "source": []
  },
  {
   "cell_type": "markdown",
   "metadata": {},
   "source": [
    "## If\n",
    "\n",
    "Allows to conditionally execute blocks of instructions. By testing a condition, that is something which can be evaluated\n",
    "to `True` or `False`, the programmer decide which instructions should be executed.\n"
   ]
  },
  {
   "cell_type": "code",
   "execution_count": null,
   "metadata": {},
   "outputs": [],
   "source": [
    "for c in coor:\n",
    "    if c[0] < 0.6:\n",
    "        print( 'small x : '+str(c) )\n",
    "    else:\n",
    "        print( 'big x..' )"
   ]
  },
  {
   "cell_type": "code",
   "execution_count": null,
   "metadata": {},
   "outputs": [],
   "source": [
    "is_visible = []\n",
    "for i, c in enumerate(coor):\n",
    "    if c[1] > 0.5:\n",
    "        is_visible.append(i)\n",
    "\n",
    "print( is_visible )"
   ]
  },
  {
   "cell_type": "markdown",
   "metadata": {},
   "source": [
    "Conditions (see comparison operators) :\n",
    " * Equals: `a == b`\n",
    " * Not Equals: `a != b`\n",
    " * Less than: `a < b`\n",
    " * Less than or equal to: `a <= b`\n",
    " * Greater than: `a > b`\n",
    " * Greater than or equal to: `a >= b`"
   ]
  },
  {
   "cell_type": "markdown",
   "metadata": {},
   "source": [
    "**Exercises:**\n",
    "\n",
    "The aim of this exercise is to display, from the `coor2d` dictionary of the previous exercise, the coordinates which are\n",
    "in $[0.,0.25]x[0.,0.25]$ space.\n",
    "\n",
    "* Loop over the keys of `coord2d`\n",
    "* Inside this loop, loop on the rows\n",
    "* Inside this loop display the result of the test you choose to write\n",
    "* You may want to know about the `any` and `all` functions of `numpy` module"
   ]
  },
  {
   "cell_type": "code",
   "execution_count": null,
   "metadata": {},
   "outputs": [],
   "source": []
  },
  {
   "cell_type": "markdown",
   "metadata": {},
   "source": [
    "## While\n",
    "\n",
    "Repeat a block of instruction while a condition is `True`. One must be careful with the `while` statement to make sure that,\n",
    "at some point, the loop will stop! There are two more statements going with `while` and making its use easier: `break` and\n",
    "`continue`, but their use is not going to be detailed here."
   ]
  },
  {
   "cell_type": "code",
   "execution_count": null,
   "metadata": {},
   "outputs": [],
   "source": [
    "count = 0\n",
    "err = 1.\n",
    "while abs(err) > 1.e-6:\n",
    "    count += 1\n",
    "    err /= 10.\n",
    "    print( 'iteration: '+str(count)+' error is '+str(err) )"
   ]
  },
  {
   "cell_type": "markdown",
   "metadata": {},
   "source": [
    "**Exercises:**\n",
    "\n",
    "* Using a while loop, count to 10\n",
    "* Inside the loop test if the number is divisible by 3"
   ]
  },
  {
   "cell_type": "code",
   "execution_count": null,
   "metadata": {},
   "outputs": [],
   "source": []
  },
  {
   "cell_type": "markdown",
   "metadata": {},
   "source": [
    "# Saving/Loading to/from file\n",
    "\n",
    "## The convenient way\n",
    "\n",
    "If you only want to store some variables of the Python session in a binary format, use the `pickle` module.\n",
    "First thing is to open a file in the desired mode (that is reading or writing). Dump into it (to write) or\n",
    "load from it (to read) any object !\n"
   ]
  },
  {
   "cell_type": "code",
   "execution_count": null,
   "metadata": {},
   "outputs": [],
   "source": [
    "import numpy as np\n",
    "coor = np.random.random( [5,3] )\n",
    "\n",
    "import pickle\n",
    "f = open('coor.pkl','wb')\n",
    "pickle.dump(coor, f)\n",
    "f.close()\n",
    "f2 = open('coor.pkl','rb')\n",
    "coor2 = pickle.load(f2)\n",
    "f.close()\n",
    "print( coor  )\n",
    "print( coor2 )"
   ]
  },
  {
   "cell_type": "markdown",
   "metadata": {},
   "source": [
    "## The numpy way\n",
    "\n",
    "If there only is a numpy array to read/write, the module comes with the function allowing to do that in a very simple\n",
    "way. To write a file use `save` or `savetxt` depending on if a binary or text file is desired. The same goes for the\n",
    "reading with the functions:  `load` and `loadtxt`.\n"
   ]
  },
  {
   "cell_type": "code",
   "execution_count": null,
   "metadata": {},
   "outputs": [],
   "source": [
    "import numpy as np\n",
    "coor = np.random.random( [5,3] )\n",
    "\n",
    "np.savetxt('coor.txt', coor) # save in coor.txt\n",
    "coor *= 0.1\n",
    "np.save('coorb', coor)       # save in coor.npy\n",
    "coor = np.load('coorb.npy')\n",
    "coor2= np.loadtxt('coor.txt')\n",
    "print(coor)\n",
    "print(coor2)"
   ]
  },
  {
   "cell_type": "markdown",
   "metadata": {},
   "source": [
    "## The hard way\n",
    "\n",
    "You can write like in any classical (C/C++/Fortran) language. You need to open the file, read/write some strings from it.\n",
    "Then close the file.\n",
    "\n",
    "It is not that hard, but it is always bothersome to use string formatting in an efficient way to extract numerical data from \n",
    "a string. There is not enough time to detail it here.\n"
   ]
  },
  {
   "cell_type": "code",
   "execution_count": null,
   "metadata": {},
   "outputs": [],
   "source": [
    "import numpy as np\n",
    "coors = np.random.random( [5,3] )\n",
    "\n",
    "f=open('coor.txt','w')\n",
    "for c in coors:\n",
    "    f.write('x= %g y= %g z= %g \\n' %(c[0],c[1],c[2]))\n",
    "f.close()\n",
    "\n",
    "f=open('coor.txt','r')\n",
    "for line in f:\n",
    "  words = line.split()  \n",
    "  print(words)\n",
    "f.close()"
   ]
  },
  {
   "cell_type": "markdown",
   "metadata": {},
   "source": [
    "There are four different methods (modes) for opening a file:\n",
    "\n",
    " * \"r\" - Read - Default value. Opens a file for reading, error if the file does not exist\n",
    "\n",
    " * \"a\" - Append - Opens a file for appending, creates the file if it does not exist\n",
    "\n",
    " * \"w\" - Write - Opens a file for writing, creates the file if it does not exist\n",
    "\n",
    " * \"x\" - Create - Creates the specified file, returns an error if the file exists\n",
    "\n",
    "In addition you can specify if the file should be handled as binary or text mode\n",
    "\n",
    " * \"t\" - Text - Default value. Text mode\n",
    "\n",
    " * \"b\" - Binary - Binary mode (e.g. images)\n",
    "\n",
    "Because \"r\" for read, and \"t\" for text are the default values, you do not need to specify them.\n",
    "\n",
    "By default the `read()` method returns the whole text, but you can also specify how many character you want to return.  \n",
    "You can return one line by using the `readline()` method."
   ]
  },
  {
   "cell_type": "markdown",
   "metadata": {},
   "source": [
    "## Managing files\n",
    "\n",
    "To delete a file, you must import the `os` module, and run its `os.remove()` function.\n",
    "But to avoid getting an error, you might want to check if the file exist beforehand:"
   ]
  },
  {
   "cell_type": "code",
   "execution_count": null,
   "metadata": {},
   "outputs": [],
   "source": [
    "from pathlib import Path\n",
    "filename = Path(\"coor.txt\")\n",
    "if filename.is_file():\n",
    "    filename.unlink()\n",
    "    print(\"File deleted correctly\")\n",
    "else:\n",
    "    print(\"The file does not exist\")"
   ]
  },
  {
   "cell_type": "markdown",
   "metadata": {},
   "source": [
    "**Exercises:**\n",
    "\n",
    "* check what the `os`module has to offer\n",
    "* try to created/delete some files/directories"
   ]
  },
  {
   "cell_type": "markdown",
   "metadata": {},
   "source": [
    "# It's a trap !\n",
    "\n",
    "## First: references\n",
    "\n",
    "Variables are really just names (or labels) that are bound to an object in memory (RAM). Thus if the programmer is not careful,\n",
    "he may end up with several variables referencing (and potentially modifying) the same object. The classical example is as follows:"
   ]
  },
  {
   "cell_type": "code",
   "execution_count": null,
   "metadata": {},
   "outputs": [],
   "source": [
    "a = [1, 2, 3]\n",
    "b = a\n",
    "a.append(4)\n",
    "print(a)\n",
    "print(b)"
   ]
  },
  {
   "cell_type": "markdown",
   "metadata": {},
   "source": [
    "What happen is something like this\n",
    "<img src=trap_1.png>\n",
    "\n",
    "To check if two variables reference the same object the `is` operator can be used, or the id function.\n",
    "Whatever the case, to avoid this, the `deepcopy` function from the `copy` module must be used:"
   ]
  },
  {
   "cell_type": "code",
   "execution_count": null,
   "metadata": {},
   "outputs": [],
   "source": [
    "a = [1,2,3]\n",
    "print( 'id of a: '+str(id(a)) ) \n",
    "b = a\n",
    "print( 'are b and a the same: '+str(b is a) )\n",
    "import copy\n",
    "b = copy.deepcopy(a)\n",
    "print( 'id of b: '+str(id(b)) ) \n",
    "b.append(4)\n",
    "print(a)\n",
    "print(b)"
   ]
  },
  {
   "cell_type": "markdown",
   "metadata": {},
   "source": [
    "## Second: namespaces\n",
    "\n",
    "And there comes the second pitfall: in good faith the `copy` module is imported;\n",
    "but now imagine one who wants to import `numpy` module, but is tired of the `np`\n",
    "thingy and just want the whole module:"
   ]
  },
  {
   "cell_type": "code",
   "execution_count": null,
   "metadata": {},
   "outputs": [],
   "source": [
    "import copy\n",
    "print( id(copy) ) # or read the help\n",
    "from numpy import *\n",
    "print( id(copy) ) # or read the help"
   ]
  },
  {
   "cell_type": "markdown",
   "metadata": {},
   "source": [
    "Here the trap is that everything (except some statement) are variables in Python: classes, objects, modules, functions, etc...\n",
    "\n",
    "Thus the programmer must be really careful when choosing the names of his variables or functions to not create conflicts with\n",
    "the other that could be used."
   ]
  },
  {
   "cell_type": "markdown",
   "metadata": {},
   "source": [
    "### In case of doubt:\n",
    "\n",
    "Using the [ipython tutor](http://www.pythontutor.com/visualize.html#mode=edit)\n",
    "may help you understand what happens by putting the illustration code"
   ]
  },
  {
   "cell_type": "code",
   "execution_count": null,
   "metadata": {},
   "outputs": [],
   "source": [
    "a = [1, 2, 3]\n",
    "b = a\n",
    "a.append(4)"
   ]
  }
 ],
 "metadata": {
  "kernelspec": {
   "display_name": "Python 3",
   "language": "python",
   "name": "python3"
  },
  "language_info": {
   "codemirror_mode": {
    "name": "ipython",
    "version": 3
   },
   "file_extension": ".py",
   "mimetype": "text/x-python",
   "name": "python",
   "nbconvert_exporter": "python",
   "pygments_lexer": "ipython3",
   "version": "3.8.5"
  },
  "latex_envs": {
   "LaTeX_envs_menu_present": true,
   "autoclose": false,
   "autocomplete": true,
   "bibliofile": "biblio.bib",
   "cite_by": "apalike",
   "current_citInitial": 1,
   "eqLabelWithNumbers": true,
   "eqNumInitial": 0,
   "hotkeys": {
    "equation": "Ctrl-E",
    "itemize": "Ctrl-I"
   },
   "labels_anchors": false,
   "latex_user_defs": false,
   "report_style_numbering": false,
   "user_envs_cfg": false
  },
  "toc": {
   "base_numbering": 1,
   "nav_menu": {},
   "number_sections": true,
   "sideBar": true,
   "skip_h1_title": false,
   "title_cell": "Table of Contents",
   "title_sidebar": "Contents",
   "toc_cell": true,
   "toc_position": {},
   "toc_section_display": "block",
   "toc_window_display": false
  },
  "toc_position": {
   "height": "128px",
   "left": "1321.23px",
   "right": "-56.2333px",
   "top": "120px",
   "width": "259px"
  },
  "varInspector": {
   "cols": {
    "lenName": 16,
    "lenType": 16,
    "lenVar": 40
   },
   "kernels_config": {
    "python": {
     "delete_cmd_postfix": "",
     "delete_cmd_prefix": "del ",
     "library": "var_list.py",
     "varRefreshCmd": "print(var_dic_list())"
    },
    "r": {
     "delete_cmd_postfix": ") ",
     "delete_cmd_prefix": "rm(",
     "library": "var_list.r",
     "varRefreshCmd": "cat(var_dic_list()) "
    }
   },
   "types_to_exclude": [
    "module",
    "function",
    "builtin_function_or_method",
    "instance",
    "_Feature"
   ],
   "window_display": false
  }
 },
 "nbformat": 4,
 "nbformat_minor": 1
}
