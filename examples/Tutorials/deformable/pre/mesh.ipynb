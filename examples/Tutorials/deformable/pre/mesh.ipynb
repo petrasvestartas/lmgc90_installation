{
 "cells": [
  {
   "cell_type": "markdown",
   "metadata": {
    "toc": "true"
   },
   "source": [
    "<h1>Table of Contents<span class=\"tocSkip\"></span></h1>\n",
    "<div class=\"toc\"><ul class=\"toc-item\"><li><span><a href=\"#How-to-manage-meshes\" data-toc-modified-id=\"How-to-manage-meshes-1\"><span class=\"toc-item-num\">1&nbsp;&nbsp;</span>How to manage meshes</a></span><ul class=\"toc-item\"><li><span><a href=\"#2D-case\" data-toc-modified-id=\"2D-case-1.1\"><span class=\"toc-item-num\">1.1&nbsp;&nbsp;</span>2D case</a></span></li><li><span><a href=\"#3D-case\" data-toc-modified-id=\"3D-case-1.2\"><span class=\"toc-item-num\">1.2&nbsp;&nbsp;</span>3D case</a></span></li></ul></li></ul></div>"
   ]
  },
  {
   "cell_type": "markdown",
   "metadata": {},
   "source": [
    "# How to manage meshes"
   ]
  },
  {
   "cell_type": "markdown",
   "metadata": {},
   "source": [
    "F. Dubois 2016"
   ]
  },
  {
   "cell_type": "markdown",
   "metadata": {},
   "source": [
    "## 2D case"
   ]
  },
  {
   "cell_type": "code",
   "execution_count": null,
   "metadata": {},
   "outputs": [],
   "source": [
    "# Initialization\n",
    "import numpy as np\n",
    "from pylmgc90 import pre\n",
    "# 2D\n",
    "dim = 2"
   ]
  },
  {
   "cell_type": "code",
   "execution_count": null,
   "metadata": {},
   "outputs": [],
   "source": [
    "# step by step\n",
    "m1 = pre.mesh(dimension=2)\n",
    "m1.addNode( pre.node(np.array([0.,0.]), number=1) )\n",
    "m1.addNode( pre.node(np.array([1.,0.]), number=2) )\n",
    "m1.addNode( pre.node(np.array([0.,1.]), number=3) )\n",
    "m1.addNode( pre.node(np.array([1.,1.]), number=4) )\n",
    "\n",
    "# adding a 2D element with a group\n",
    "m1.addBulk( pre.element(dim, [1,2,4,3], physicalEntity='all'))\n",
    "\n",
    "# adding a 1D elements with groups ; beware clockwise gives outside normal\n",
    "m1.addBulk( pre.element(dim-1,[2,1],physicalEntity='down'))\n",
    "m1.addBulk( pre.element(dim-1,[1,4],physicalEntity='left'))\n",
    "m1.addBulk( pre.element(dim-1,[4,3],physicalEntity='up'))\n",
    "m1.addBulk( pre.element(dim-1,[3,2],physicalEntity='right'))\n",
    "\n",
    "# what are these things ?\n",
    "#help(pre.mesh)\n",
    "#help(pre.node)\n",
    "#help(pre.element)\n",
    "#help(m1.addBulk)"
   ]
  },
  {
   "cell_type": "code",
   "execution_count": null,
   "metadata": {},
   "outputs": [],
   "source": [
    "# using builtin function to mesh\n",
    "m2 = pre.buildMesh2D('Q4', x0=1.5, y0=1.5, lx=1., ly=1., nb_elem_x=10, nb_elem_y=10)\n",
    "\n",
    "# what is doing buildMesh2D ?\n",
    "#help(pre.buildMesh2D)\n",
    "\n",
    "# some introspection\n",
    "#dir(m2)\n",
    "#print(m2.nodes.values()[0].coor)"
   ]
  },
  {
   "cell_type": "code",
   "execution_count": null,
   "metadata": {},
   "outputs": [],
   "source": [
    "!gmsh ./gmsh_files/block.msh"
   ]
  },
  {
   "cell_type": "code",
   "execution_count": null,
   "metadata": {},
   "outputs": [],
   "source": [
    "# loading a gmsh file\n",
    "m3 = pre.readMesh('./gmsh_files/block.msh',dim)\n",
    "\n",
    "# what is doing readMesh ?\n",
    "#help(pre.readMesh)"
   ]
  },
  {
   "cell_type": "code",
   "execution_count": null,
   "metadata": {},
   "outputs": [],
   "source": [
    "# a mesh is not an avatar\n",
    "# lets build an avatar; we need a model and a material\n",
    "mo = pre.model(name='M2D_L',physics='MECAx',element='Q4xxx',dimension=2, external_model='MatL_',\n",
    "               kinematic='small',material='elas_',anisotropy='iso__',mass_storage='coher')\n",
    "ma = pre.material(name='steel',materialType='ELAS',elas='standard',\n",
    "                  young=0.1e+15,nu=0.2,anisotropy='isotropic',\n",
    "                  density=0.25e+4)\n",
    "\n",
    "if True:\n",
    "    #possible options:\n",
    "    print(pre.config.lmgc90dicts.bulkBehavOptions.keys())\n",
    "    # see parameters for 'ELAS'\n",
    "    print('options for ELAS:')\n",
    "    print(pre.config.lmgc90dicts.bulkBehavOptions['ELAS'])\n",
    "\n",
    "    #possible options:\n",
    "    print(pre.config.lmgc90dicts.modelOptions.keys())\n",
    "    # see parameters for 'MECAx'\n",
    "    print('options for MECAx:')\n",
    "    print(pre.config.lmgc90dicts.modelOptions['MECAx'])"
   ]
  },
  {
   "cell_type": "code",
   "execution_count": null,
   "metadata": {},
   "outputs": [],
   "source": [
    "# now we can build avatars\n",
    "b1 = pre.buildMeshedAvatar(mesh=m1, model=mo, material=ma)\n",
    "b2 = pre.buildMeshedAvatar(mesh=m2, model=mo, material=ma)\n",
    "b3 = pre.buildMeshedAvatar(mesh=m3, model=mo, material=ma)\n",
    "b3.translate(dx=3.,dy=3.)"
   ]
  },
  {
   "cell_type": "code",
   "execution_count": null,
   "metadata": {},
   "outputs": [],
   "source": [
    "# Lets draw\n",
    "# put everything in a container\n",
    "bodies  = pre.avatars()\n",
    "bodies += b1\n",
    "bodies += b2\n",
    "bodies += b3\n",
    "\n",
    "# draw it \n",
    "pre.visuAvatars(bodies)"
   ]
  },
  {
   "cell_type": "markdown",
   "metadata": {},
   "source": [
    "## 3D case "
   ]
  },
  {
   "cell_type": "code",
   "execution_count": null,
   "metadata": {},
   "outputs": [],
   "source": [
    "# Initialization\n",
    "import numpy as np\n",
    "from pylmgc90 import pre\n",
    "\n",
    "dim=3"
   ]
  },
  {
   "cell_type": "code",
   "execution_count": null,
   "metadata": {},
   "outputs": [],
   "source": [
    "# step by step\n",
    "m1 = pre.mesh(dimension=dim)\n",
    "m1.addNode( pre.node(np.array([0.,0.,0.]), number=1) )\n",
    "m1.addNode( pre.node(np.array([1.,0.,0.]), number=2) )\n",
    "m1.addNode( pre.node(np.array([1.,1.,0.]), number=3) )\n",
    "m1.addNode( pre.node(np.array([0.,1.,0.]), number=4) )\n",
    "m1.addNode( pre.node(np.array([0.,0.,1.]), number=5) )\n",
    "m1.addNode( pre.node(np.array([1.,0.,1.]), number=6) )\n",
    "m1.addNode( pre.node(np.array([1.,1.,1.]), number=7) )\n",
    "m1.addNode( pre.node(np.array([0.,1.,1.]), number=8) )\n",
    "\n",
    "m1.addBulk( pre.element(dim, [1,2,3,4,5,6,7,8], physicalEntity='all'))\n"
   ]
  },
  {
   "cell_type": "code",
   "execution_count": null,
   "metadata": {},
   "outputs": [],
   "source": [
    "# using builtin function to mesh\n",
    "m2 = pre.buildMeshH8(x0=1.5, y0=1.5, z0=1.5, lx=1., ly=1., lz=1., nb_elem_x=10, nb_elem_y=10, nb_elem_z=10)"
   ]
  },
  {
   "cell_type": "code",
   "execution_count": null,
   "metadata": {},
   "outputs": [],
   "source": [
    "# loading a gmsh file\n",
    "m3 = pre.readMesh('./gmsh_files/Donut.msh',dim)"
   ]
  },
  {
   "cell_type": "code",
   "execution_count": null,
   "metadata": {},
   "outputs": [],
   "source": [
    "# a mesh is not an avatar\n",
    "#first create model & material\n",
    "moH8 = pre.model(name='M3D_L',physics='MECAx',element='H8xxx',dimension=3, external_model='MatL_',\n",
    "                 kinematic='small',material='elas_',anisotropy='iso__',mass_storage='coher')\n",
    "moT4 = pre.model(name='M3D_L',physics='MECAx',element='TE4xx',dimension=3, external_model='MatL_',\n",
    "                 kinematic='small',material='elas_',anisotropy='iso__',mass_storage='coher')\n",
    "\n",
    "ma = pre.material(name='steel',materialType='ELAS',elas='standard',\n",
    "                  young=0.1e+15,nu=0.2,anisotropy='isotropic',\n",
    "                  density=0.25e+4)\n",
    "#then create avatar\n",
    "b1 = pre.buildMeshedAvatar(mesh=m1, model=moH8, material=ma)\n",
    "b2 = pre.buildMeshedAvatar(mesh=m2, model=moH8, material=ma)\n",
    "b3 = pre.buildMeshedAvatar(mesh=m3, model=moT4, material=ma)\n",
    "b3.translate(dx=3.,dy=3.,dz=3.)"
   ]
  },
  {
   "cell_type": "code",
   "execution_count": null,
   "metadata": {},
   "outputs": [],
   "source": [
    "# Lets draw\n",
    "bodies = pre.avatars()\n",
    "bodies+=b1\n",
    "bodies+=b2\n",
    "bodies+=b3\n",
    "pre.visuAvatars(bodies)"
   ]
  },
  {
   "cell_type": "code",
   "execution_count": null,
   "metadata": {},
   "outputs": [],
   "source": []
  }
 ],
 "metadata": {
  "kernelspec": {
   "display_name": "Python 3",
   "language": "python",
   "name": "python3"
  },
  "language_info": {
   "codemirror_mode": {
    "name": "ipython",
    "version": 3
   },
   "file_extension": ".py",
   "mimetype": "text/x-python",
   "name": "python",
   "nbconvert_exporter": "python",
   "pygments_lexer": "ipython3",
   "version": "3.8.5"
  },
  "latex_envs": {
   "LaTeX_envs_menu_present": true,
   "autoclose": false,
   "autocomplete": true,
   "bibliofile": "biblio.bib",
   "cite_by": "apalike",
   "current_citInitial": 1,
   "eqLabelWithNumbers": true,
   "eqNumInitial": 0,
   "hotkeys": {
    "equation": "Ctrl-E",
    "itemize": "Ctrl-I"
   },
   "labels_anchors": false,
   "latex_user_defs": false,
   "report_style_numbering": false,
   "user_envs_cfg": false
  },
  "toc": {
   "base_numbering": 1,
   "nav_menu": {},
   "number_sections": true,
   "sideBar": true,
   "skip_h1_title": false,
   "title_cell": "Table of Contents",
   "title_sidebar": "Contents",
   "toc_cell": true,
   "toc_position": {},
   "toc_section_display": true,
   "toc_window_display": false
  },
  "varInspector": {
   "cols": {
    "lenName": 16,
    "lenType": 16,
    "lenVar": 40
   },
   "kernels_config": {
    "python": {
     "delete_cmd_postfix": "",
     "delete_cmd_prefix": "del ",
     "library": "var_list.py",
     "varRefreshCmd": "print(var_dic_list())"
    },
    "r": {
     "delete_cmd_postfix": ") ",
     "delete_cmd_prefix": "rm(",
     "library": "var_list.r",
     "varRefreshCmd": "cat(var_dic_list()) "
    }
   },
   "types_to_exclude": [
    "module",
    "function",
    "builtin_function_or_method",
    "instance",
    "_Feature"
   ],
   "window_display": false
  }
 },
 "nbformat": 4,
 "nbformat_minor": 1
}
