{
 "cells": [
  {
   "cell_type": "markdown",
   "metadata": {
    "toc": "true"
   },
   "source": [
    "<h1>Table of Contents<span class=\"tocSkip\"></span></h1>\n",
    "<div class=\"toc\"><ul class=\"toc-item\"><li><span><a href=\"#Creating-model\" data-toc-modified-id=\"Creating-model-1\"><span class=\"toc-item-num\">1&nbsp;&nbsp;</span>Creating model</a></span></li><li><span><a href=\"#Computation\" data-toc-modified-id=\"Computation-2\"><span class=\"toc-item-num\">2&nbsp;&nbsp;</span>Computation</a></span></li></ul></div>"
   ]
  },
  {
   "cell_type": "markdown",
   "metadata": {},
   "source": [
    "## Creating model"
   ]
  },
  {
   "cell_type": "code",
   "execution_count": null,
   "metadata": {},
   "outputs": [],
   "source": [
    "# Initialization\n",
    "from pathlib import Path\n",
    "from pylmgc90 import pre\n",
    "\n",
    "datbox = Path('./DATBOX')\n",
    "datbox.mkdir(exist_ok=True)\n",
    "\n",
    "# containers\n",
    "#   * bodies\n",
    "bodies = pre.avatars()\n",
    "#   * materials\n",
    "mats   = pre.materials()\n",
    "#   * materials\n",
    "mods   = pre.models()\n",
    "#   * see tables\n",
    "svs    = pre.see_tables()\n",
    "#   * contact laws\n",
    "tacts  = pre.tact_behavs()\n",
    "\n",
    "# 2D\n",
    "dim = 2\n",
    "\n",
    "# mod & mat\n",
    "mo = pre.model(name='M2D_L',physics='MECAx',element='T3xxx',dimension=2, external_model='MatL_',\n",
    "               kinematic='small',material='elas_',anisotropy='iso__',mass_storage='coher')\n",
    "mods+=mo\n",
    "\n",
    "ma = pre.material(name='steel',materialType='ELAS',elas='standard',\n",
    "                  young=0.1e+15,nu=0.2,anisotropy='isotropic',\n",
    "                  density=0.25e+4)\n",
    "\n",
    "mats.addMaterial(ma)\n",
    "\n",
    "\n",
    "#  meshing\n",
    "m1 = pre.buildMesh2D('4T3', x0=0.1, y0=1.01, lx=0.8, ly=1.5, nb_elem_x=8, nb_elem_y=15)\n",
    "\n",
    "m2 = pre.readMesh('./gmsh_files/cheese.msh',2)\n",
    "\n",
    "#avatar\n",
    "b1= pre.buildMeshedAvatar(m1,mo,ma)\n",
    "\n",
    "if False:\n",
    "    b1.imposeDrivenDof(group='up',component=2,dofty='force',description='evolution',evolutionFile='Fy.txt')\n",
    "    ofile = open('./DATBOX/Fy.txt','w')\n",
    "    ofile.write('%12.5e %12.5e\\n' % (0.,0.))\n",
    "    ofile.write('%12.5e %12.5e\\n' % (0.1,1e8))\n",
    "    ofile.write('%12.5e %12.5e\\n' % (100.,1e8))\n",
    "    ofile.close()\n",
    "\n",
    "b1.addContactors(group='down', shape='CLxxx', color='BLUEx')\n",
    "bodies+=b1\n",
    "\n",
    "b2= pre.buildMeshedAvatar(m2,mo,ma)\n",
    "b2.imposeDrivenDof(group='down',component=[1,2],dofty='vlocy')\n",
    "b2.addContactors(group='up', shape='ALpxx', color='BLUEx',reverse=True)\n",
    "bodies+=b2\n",
    "\n",
    "# contact law\n",
    "lclal = pre.tact_behav(name='gapc0', law='GAP_SGR_CLB', fric=0.3)\n",
    "tacts+= lclal\n",
    "\n",
    "# visibility table\n",
    "vt = pre.see_table(CorpsCandidat   ='MAILx', candidat   ='CLxxx', colorCandidat   ='BLUEx',\n",
    "                   CorpsAntagoniste='MAILx', antagoniste='ALpxx', colorAntagoniste='BLUEx',\n",
    "                   behav=lclal,  alert=0.1, halo=0.2)\n",
    "svs+=vt\n",
    "\n",
    "\n",
    "# post processing commands\n",
    "post = pre.postpro_commands()\n",
    "post.addCommand(pre.postpro_command(name='SOLVER INFORMATIONS', step=1))\n",
    "pre.writePostpro(commands=post, parts=bodies, path=datbox)\n",
    "\n",
    "# Lets write\n",
    "pre.writeDatbox(dim, mats, mods, bodies, tacts, svs, gravy=[0., -9.81, 0.], datbox_path=datbox)"
   ]
  },
  {
   "cell_type": "code",
   "execution_count": null,
   "metadata": {},
   "outputs": [],
   "source": [
    "!gmsh ./gmsh_files/cheese.msh\n"
   ]
  },
  {
   "cell_type": "code",
   "execution_count": null,
   "metadata": {},
   "outputs": [],
   "source": [
    "pre.visuAvatars(bodies)"
   ]
  },
  {
   "cell_type": "markdown",
   "metadata": {},
   "source": [
    "## Computation"
   ]
  },
  {
   "cell_type": "code",
   "execution_count": null,
   "metadata": {},
   "outputs": [],
   "source": [
    "from pylmgc90.chipy import computation\n",
    "\n",
    "# space dimension\n",
    "dim = 2\n",
    "\n",
    "# modeling hypothesis: 1 = plain strain\n",
    "mhyp = 1\n",
    "\n",
    "# time evolution parameters\n",
    "dt = 1e-3\n",
    "nb_steps = 500\n",
    "\n",
    "# theta integrator parameter\n",
    "theta = 0.5\n",
    "\n",
    "# interaction parameters\n",
    "Rloc_tol = 5.e-2\n",
    "\n",
    "# nlgs parameters\n",
    "tol = 1e-4\n",
    "relax = 1.0\n",
    "norm = 'Quad '\n",
    "gs_it1 = 50\n",
    "gs_it2 = 10\n",
    "stype='Stored_Delassus_Loops         '\n",
    "\n",
    "# write parameter\n",
    "freq_write   = 10\n",
    "\n",
    "# display parameters\n",
    "freq_display = 10\n",
    "\n",
    "hfile = 'lmgc90.h5'\n",
    "\n",
    "computation.initialize(dim, dt, theta, mhyp, h5_file=hfile, deformable=True)\n",
    "\n",
    "for k in range(1, nb_steps+1):\n",
    "    if k%50==0:\n",
    "        print( f\"computing step {k}\")\n",
    "    computation.one_step(stype, norm, tol, relax, gs_it1, gs_it2,\n",
    "                         freq_write, freq_display                )\n",
    "\n",
    "computation.finalize()"
   ]
  },
  {
   "cell_type": "code",
   "execution_count": null,
   "metadata": {},
   "outputs": [],
   "source": [
    "!paraview"
   ]
  },
  {
   "cell_type": "code",
   "execution_count": null,
   "metadata": {},
   "outputs": [],
   "source": []
  }
 ],
 "metadata": {
  "kernelspec": {
   "display_name": "Python 3",
   "language": "python",
   "name": "python3"
  },
  "language_info": {
   "codemirror_mode": {
    "name": "ipython",
    "version": 3
   },
   "file_extension": ".py",
   "mimetype": "text/x-python",
   "name": "python",
   "nbconvert_exporter": "python",
   "pygments_lexer": "ipython3",
   "version": "3.8.5"
  },
  "latex_envs": {
   "LaTeX_envs_menu_present": true,
   "autoclose": false,
   "autocomplete": true,
   "bibliofile": "biblio.bib",
   "cite_by": "apalike",
   "current_citInitial": 1,
   "eqLabelWithNumbers": true,
   "eqNumInitial": 0,
   "hotkeys": {
    "equation": "Ctrl-E",
    "itemize": "Ctrl-I"
   },
   "labels_anchors": false,
   "latex_user_defs": false,
   "report_style_numbering": false,
   "user_envs_cfg": false
  },
  "toc": {
   "base_numbering": 1,
   "nav_menu": {},
   "number_sections": true,
   "sideBar": true,
   "skip_h1_title": false,
   "title_cell": "Table of Contents",
   "title_sidebar": "Contents",
   "toc_cell": true,
   "toc_position": {},
   "toc_section_display": true,
   "toc_window_display": false
  },
  "varInspector": {
   "cols": {
    "lenName": 16,
    "lenType": 16,
    "lenVar": 40
   },
   "kernels_config": {
    "python": {
     "delete_cmd_postfix": "",
     "delete_cmd_prefix": "del ",
     "library": "var_list.py",
     "varRefreshCmd": "print(var_dic_list())"
    },
    "r": {
     "delete_cmd_postfix": ") ",
     "delete_cmd_prefix": "rm(",
     "library": "var_list.r",
     "varRefreshCmd": "cat(var_dic_list()) "
    }
   },
   "types_to_exclude": [
    "module",
    "function",
    "builtin_function_or_method",
    "instance",
    "_Feature"
   ],
   "window_display": false
  }
 },
 "nbformat": 4,
 "nbformat_minor": 1
}
